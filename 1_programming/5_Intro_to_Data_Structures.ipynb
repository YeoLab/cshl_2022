{
 "cells": [
  {
   "cell_type": "markdown",
   "id": "b9a99452-8fc1-46cf-b19b-103387f9a7b3",
   "metadata": {},
   "source": [
    "# Data structures are ways to organize data\n",
    "\n",
    "This notebook covers the basics of data structures and how they apply to future modules."
   ]
  },
  {
   "cell_type": "markdown",
   "id": "4dc18e02-7b7f-4e43-9c19-482de0482f8c",
   "metadata": {},
   "source": [
    "# Data structures can be primitive (e.g. lists, numbers, strings):"
   ]
  },
  {
   "cell_type": "code",
   "execution_count": 1,
   "id": "19c10fb8-6ae1-41cd-b4fd-c546c6358d0f",
   "metadata": {},
   "outputs": [],
   "source": [
    "car_info = [\"Black\", \"Mazda\", \"Miata\"]  # this is a List!\n",
    "car_make = \"Mazda\"  # this is a String!\n",
    "car_model = \"Miata\"  # this is also a String!\n",
    "car_color = \"Black\"  # yet another String!\n",
    "car_year = 2014  # this is an Integer"
   ]
  },
  {
   "cell_type": "markdown",
   "id": "6ba6aa4c-f6c5-4464-9eea-1a1949806fdb",
   "metadata": {},
   "source": [
    "# Data structures can be user-defined (to store more complex data):\n",
    "- This is done through Class definitions. A simple example:"
   ]
  },
  {
   "cell_type": "code",
   "execution_count": 2,
   "id": "e4f3db5c-6303-4808-964e-a66d0a70e4f4",
   "metadata": {},
   "outputs": [],
   "source": [
    "class Car:\n",
    "    num_wheels = 4\n",
    "    \n",
    "    def __init__(self, make, model, color):\n",
    "        self.make = make\n",
    "        self.model = model\n",
    "        self.color = color\n"
   ]
  },
  {
   "cell_type": "markdown",
   "id": "c7e7b896-e0a2-4d8e-9f39-eeb04c3317ae",
   "metadata": {},
   "source": [
    "<img src=\"https://intellipaat.com/mediaFiles/2019/03/python10.png\">\n",
    "image source: https://intellipaat.com/"
   ]
  },
  {
   "cell_type": "code",
   "execution_count": 3,
   "id": "b28ae60b-ec17-47bb-8e2e-024f53c9cc79",
   "metadata": {},
   "outputs": [],
   "source": [
    "my_car = Car(make=car_make, model=car_model, color=car_color)"
   ]
  },
  {
   "cell_type": "code",
   "execution_count": 4,
   "id": "a9e9a95c-3355-4fe2-b516-6c646ed8e98d",
   "metadata": {},
   "outputs": [
    {
     "name": "stdout",
     "output_type": "stream",
     "text": [
      "I just bought a Black Mazda Miata!\n"
     ]
    }
   ],
   "source": [
    "print(f\"I just bought a {my_car.color} {my_car.make} {my_car.model}!\")"
   ]
  },
  {
   "cell_type": "markdown",
   "id": "d8c9ad41-3aee-416b-b261-05e8483cc11a",
   "metadata": {
    "tags": []
   },
   "source": [
    "#### In the above example, we have create a data structure that helps us organize what information (attributes) relating to the Car Class.\n",
    "\n",
    "- The ```__init__()``` is special function that allows us to define instance attributes, by assigning values to a variable name inside this function. Instance attributes are set once an instance gets created. Not as important for this class, but worth pointing out.\n",
    "- Note the num_wheels variable above the ```__init__()``` function. This is an example of a class attribute, attributes that have the same value for all class instances. By this definition, every Car should have 4 wheels. Also not as important for this class.\n",
    "- Attributes can be accessed using \"dot notation\" (important!)"
   ]
  },
  {
   "cell_type": "code",
   "execution_count": 5,
   "id": "c9e1aad0-9c4d-49ec-ade9-6183b2c76cb0",
   "metadata": {},
   "outputs": [
    {
     "data": {
      "text/plain": [
       "'Mazda'"
      ]
     },
     "execution_count": 5,
     "metadata": {},
     "output_type": "execute_result"
    }
   ],
   "source": [
    "my_car.make"
   ]
  },
  {
   "cell_type": "code",
   "execution_count": 6,
   "id": "5c18d5b9-7fd5-40c3-9fc5-95a3fa091040",
   "metadata": {},
   "outputs": [
    {
     "data": {
      "text/plain": [
       "4"
      ]
     },
     "execution_count": 6,
     "metadata": {},
     "output_type": "execute_result"
    }
   ],
   "source": [
    "my_car.num_wheels"
   ]
  },
  {
   "cell_type": "markdown",
   "id": "95440541-1098-4c1b-93ce-49340dd9264c",
   "metadata": {},
   "source": [
    "#### Instance methods are functions inside the class that can be from each class instance:"
   ]
  },
  {
   "cell_type": "code",
   "execution_count": 7,
   "id": "2f02fd3d-06b2-4ceb-858d-b060e463717b",
   "metadata": {},
   "outputs": [
    {
     "data": {
      "text/plain": [
       "'This is a Black Mazda Miata!'"
      ]
     },
     "execution_count": 7,
     "metadata": {},
     "output_type": "execute_result"
    }
   ],
   "source": [
    "class Car:\n",
    "    num_wheels = 4\n",
    "    \n",
    "    def __init__(self, make, model, color):\n",
    "        self.make = make\n",
    "        self.model = model\n",
    "        self.color = color\n",
    "        \n",
    "    def description(self):\n",
    "        return f\"This is a {my_car.color} {my_car.make} {my_car.model}!\"\n",
    "    \n",
    "    def set_color(self, new_color):\n",
    "        self.color = new_color\n",
    "    \n",
    "my_car = Car(make=car_make, model=car_model, color=car_color)\n",
    "my_car.description()"
   ]
  },
  {
   "cell_type": "markdown",
   "id": "9f896016-154a-4e46-9f5b-fa3f32240966",
   "metadata": {},
   "source": [
    "#### Can we use instance attributes to change instance attributes?"
   ]
  },
  {
   "cell_type": "code",
   "execution_count": 8,
   "id": "1c9b5103-6381-491b-93fc-145ddaa4ead2",
   "metadata": {},
   "outputs": [
    {
     "data": {
      "text/plain": [
       "'This is a Red Mazda Miata!'"
      ]
     },
     "execution_count": 8,
     "metadata": {},
     "output_type": "execute_result"
    }
   ],
   "source": [
    "my_car.set_color(\"Red\")\n",
    "my_car.description()"
   ]
  },
  {
   "cell_type": "code",
   "execution_count": 9,
   "id": "b445e502-b32a-4b14-8fa3-fbdefbc4b183",
   "metadata": {},
   "outputs": [
    {
     "data": {
      "text/html": [
       "<div>\n",
       "<style scoped>\n",
       "    .dataframe tbody tr th:only-of-type {\n",
       "        vertical-align: middle;\n",
       "    }\n",
       "\n",
       "    .dataframe tbody tr th {\n",
       "        vertical-align: top;\n",
       "    }\n",
       "\n",
       "    .dataframe thead th {\n",
       "        text-align: right;\n",
       "    }\n",
       "</style>\n",
       "<table border=\"1\" class=\"dataframe\">\n",
       "  <thead>\n",
       "    <tr style=\"text-align: right;\">\n",
       "      <th></th>\n",
       "      <th>date</th>\n",
       "      <th>passfail</th>\n",
       "    </tr>\n",
       "  </thead>\n",
       "  <tbody>\n",
       "    <tr>\n",
       "      <th>0</th>\n",
       "      <td>1/1/2014</td>\n",
       "      <td>PASS</td>\n",
       "    </tr>\n",
       "    <tr>\n",
       "      <th>1</th>\n",
       "      <td>1/1/2015</td>\n",
       "      <td>PASS</td>\n",
       "    </tr>\n",
       "    <tr>\n",
       "      <th>2</th>\n",
       "      <td>1/1/2016</td>\n",
       "      <td>FAIL</td>\n",
       "    </tr>\n",
       "  </tbody>\n",
       "</table>\n",
       "</div>"
      ],
      "text/plain": [
       "       date passfail\n",
       "0  1/1/2014     PASS\n",
       "1  1/1/2015     PASS\n",
       "2  1/1/2016     FAIL"
      ]
     },
     "execution_count": 9,
     "metadata": {},
     "output_type": "execute_result"
    }
   ],
   "source": [
    "import pandas as pd\n",
    "\n",
    "car_info = [\"Mazda\", 2014, \"Mazda3\"]\n",
    "car_make = \"Mazda\"\n",
    "car_model = \"Mazda3\"\n",
    "car_year = 2014\n",
    "car_name = \"Zoom zoom\"\n",
    "car_smog_history = pd.DataFrame([['1/1/2014','PASS'],['1/1/2015','PASS'],['1/1/2016','FAIL']], columns=['date','passfail'])\n",
    "\n",
    "class Car:\n",
    "    num_wheels = 4\n",
    "    \n",
    "    def __init__(self, name, model, year, smog_history):\n",
    "        self.name = name\n",
    "        self.model = model\n",
    "        self.year = year\n",
    "        self.smog_history = smog_history\n",
    "        \n",
    "    def description(self):\n",
    "        return f\"This car's name is \\\"{my_car.name}\\\" and it is a {my_car.year} {my_car.model}. It has {my_car.num_wheels} wheels.\"\n",
    "    \n",
    "    def set_name(self, new_name):\n",
    "        self.name = new_name\n",
    "\n",
    "my_car = Car(name=car_name, model=car_model, year=car_year, smog_history=car_smog_history)\n",
    "my_car.smog_history"
   ]
  },
  {
   "cell_type": "markdown",
   "id": "e87516ef-d93d-4c3e-be71-ef70cf8d3a99",
   "metadata": {},
   "source": [
    "# Now a real example"
   ]
  },
  {
   "cell_type": "code",
   "execution_count": 10,
   "id": "6a3ebeb0-9e6c-4454-9a06-b2bb3e825015",
   "metadata": {},
   "outputs": [
    {
     "name": "stderr",
     "output_type": "stream",
     "text": [
      "Matplotlib created a temporary config/cache directory at /tmp/matplotlib-9okvsj1f because the default path (/home/jovyan/.cache/matplotlib) is not a writable directory; it is highly recommended to set the MPLCONFIGDIR environment variable to a writable directory, in particular to speed up the import of Matplotlib and to better support multiprocessing.\n"
     ]
    }
   ],
   "source": [
    "import numpy as np\n",
    "import pandas as pd\n",
    "import scanpy as sc"
   ]
  },
  {
   "cell_type": "markdown",
   "id": "2cf64941-2b42-4f47-8a1c-538ed72464ca",
   "metadata": {},
   "source": [
    "## Scanpy (and other packages) use the AnnData Class to organize single cell data. \n",
    "- This data may span multiple dimensions. In other words, AnnData objects can for a given gene and cell, store counts, normalized counts, cell assignments, etc.\n",
    "- The example below ([sc.read_10x_mtx()](https://scanpy.readthedocs.io/en/stable/generated/scanpy.read_10x_mtx.html)) returns an instance of an [AnnData](https://anndata.readthedocs.io/en/stable/generated/anndata.AnnData.html#anndata.AnnData) Class (AKA. an AnnData Object).\n",
    "- Scanpy provides a nice visualization of AnnData's attributes:"
   ]
  },
  {
   "cell_type": "markdown",
   "id": "21afc294-3be4-420d-a802-52f205c7444e",
   "metadata": {},
   "source": [
    "<img src=\"https://falexwolf.de/img/scanpy/anndata.svg\">"
   ]
  },
  {
   "cell_type": "markdown",
   "id": "d0e88542-7411-4469-97cc-b9350efa96af",
   "metadata": {},
   "source": [
    "#### Here's the example. Let's use ```sc.read_10x_mtx()``` which takes in 10X Cellranger output (.mtx) and creates an object (an instance of an AnnData Class) called ```adata```:"
   ]
  },
  {
   "cell_type": "code",
   "execution_count": 11,
   "id": "3bcafc53-7357-4a2a-8b2d-d0a4caf21699",
   "metadata": {},
   "outputs": [],
   "source": [
    "adata = sc.read_10x_mtx(\n",
    "    'data/filtered_gene_bc_matrices/hg19/',  # the directory with the `.mtx` file\n",
    "    var_names='gene_symbols',                # use gene symbols for the variable names (variables-axis index)\n",
    "    cache=True)                              # write a cache file for faster subsequent reading"
   ]
  },
  {
   "cell_type": "markdown",
   "id": "f76f8455-708b-45ef-acf5-b1e6aff040dc",
   "metadata": {},
   "source": [
    "#### Similar to car.make and car.model, we can access adata attributes:"
   ]
  },
  {
   "cell_type": "code",
   "execution_count": 12,
   "id": "f2986273-49cd-471e-9d5c-10adb7aff4c0",
   "metadata": {},
   "outputs": [
    {
     "data": {
      "text/html": [
       "<div>\n",
       "<style scoped>\n",
       "    .dataframe tbody tr th:only-of-type {\n",
       "        vertical-align: middle;\n",
       "    }\n",
       "\n",
       "    .dataframe tbody tr th {\n",
       "        vertical-align: top;\n",
       "    }\n",
       "\n",
       "    .dataframe thead th {\n",
       "        text-align: right;\n",
       "    }\n",
       "</style>\n",
       "<table border=\"1\" class=\"dataframe\">\n",
       "  <thead>\n",
       "    <tr style=\"text-align: right;\">\n",
       "      <th></th>\n",
       "      <th>gene_ids</th>\n",
       "    </tr>\n",
       "  </thead>\n",
       "  <tbody>\n",
       "    <tr>\n",
       "      <th>MIR1302-10</th>\n",
       "      <td>ENSG00000243485</td>\n",
       "    </tr>\n",
       "    <tr>\n",
       "      <th>FAM138A</th>\n",
       "      <td>ENSG00000237613</td>\n",
       "    </tr>\n",
       "    <tr>\n",
       "      <th>OR4F5</th>\n",
       "      <td>ENSG00000186092</td>\n",
       "    </tr>\n",
       "    <tr>\n",
       "      <th>RP11-34P13.7</th>\n",
       "      <td>ENSG00000238009</td>\n",
       "    </tr>\n",
       "    <tr>\n",
       "      <th>RP11-34P13.8</th>\n",
       "      <td>ENSG00000239945</td>\n",
       "    </tr>\n",
       "    <tr>\n",
       "      <th>...</th>\n",
       "      <td>...</td>\n",
       "    </tr>\n",
       "    <tr>\n",
       "      <th>AC145205.1</th>\n",
       "      <td>ENSG00000215635</td>\n",
       "    </tr>\n",
       "    <tr>\n",
       "      <th>BAGE5</th>\n",
       "      <td>ENSG00000268590</td>\n",
       "    </tr>\n",
       "    <tr>\n",
       "      <th>CU459201.1</th>\n",
       "      <td>ENSG00000251180</td>\n",
       "    </tr>\n",
       "    <tr>\n",
       "      <th>AC002321.2</th>\n",
       "      <td>ENSG00000215616</td>\n",
       "    </tr>\n",
       "    <tr>\n",
       "      <th>AC002321.1</th>\n",
       "      <td>ENSG00000215611</td>\n",
       "    </tr>\n",
       "  </tbody>\n",
       "</table>\n",
       "<p>32738 rows × 1 columns</p>\n",
       "</div>"
      ],
      "text/plain": [
       "                     gene_ids\n",
       "MIR1302-10    ENSG00000243485\n",
       "FAM138A       ENSG00000237613\n",
       "OR4F5         ENSG00000186092\n",
       "RP11-34P13.7  ENSG00000238009\n",
       "RP11-34P13.8  ENSG00000239945\n",
       "...                       ...\n",
       "AC145205.1    ENSG00000215635\n",
       "BAGE5         ENSG00000268590\n",
       "CU459201.1    ENSG00000251180\n",
       "AC002321.2    ENSG00000215616\n",
       "AC002321.1    ENSG00000215611\n",
       "\n",
       "[32738 rows x 1 columns]"
      ]
     },
     "execution_count": 12,
     "metadata": {},
     "output_type": "execute_result"
    }
   ],
   "source": [
    "# holds variable (gene) names\n",
    "adata.var"
   ]
  },
  {
   "cell_type": "code",
   "execution_count": 13,
   "id": "1918c3e7-e030-499f-a7cd-04d6136f0f20",
   "metadata": {},
   "outputs": [
    {
     "data": {
      "text/html": [
       "<div>\n",
       "<style scoped>\n",
       "    .dataframe tbody tr th:only-of-type {\n",
       "        vertical-align: middle;\n",
       "    }\n",
       "\n",
       "    .dataframe tbody tr th {\n",
       "        vertical-align: top;\n",
       "    }\n",
       "\n",
       "    .dataframe thead th {\n",
       "        text-align: right;\n",
       "    }\n",
       "</style>\n",
       "<table border=\"1\" class=\"dataframe\">\n",
       "  <thead>\n",
       "    <tr style=\"text-align: right;\">\n",
       "      <th></th>\n",
       "    </tr>\n",
       "  </thead>\n",
       "  <tbody>\n",
       "    <tr>\n",
       "      <th>AAACATACAACCAC-1</th>\n",
       "    </tr>\n",
       "    <tr>\n",
       "      <th>AAACATTGAGCTAC-1</th>\n",
       "    </tr>\n",
       "    <tr>\n",
       "      <th>AAACATTGATCAGC-1</th>\n",
       "    </tr>\n",
       "    <tr>\n",
       "      <th>AAACCGTGCTTCCG-1</th>\n",
       "    </tr>\n",
       "    <tr>\n",
       "      <th>AAACCGTGTATGCG-1</th>\n",
       "    </tr>\n",
       "    <tr>\n",
       "      <th>...</th>\n",
       "    </tr>\n",
       "    <tr>\n",
       "      <th>TTTCGAACTCTCAT-1</th>\n",
       "    </tr>\n",
       "    <tr>\n",
       "      <th>TTTCTACTGAGGCA-1</th>\n",
       "    </tr>\n",
       "    <tr>\n",
       "      <th>TTTCTACTTCCTCG-1</th>\n",
       "    </tr>\n",
       "    <tr>\n",
       "      <th>TTTGCATGAGAGGC-1</th>\n",
       "    </tr>\n",
       "    <tr>\n",
       "      <th>TTTGCATGCCTCAC-1</th>\n",
       "    </tr>\n",
       "  </tbody>\n",
       "</table>\n",
       "<p>2700 rows × 0 columns</p>\n",
       "</div>"
      ],
      "text/plain": [
       "Empty DataFrame\n",
       "Columns: []\n",
       "Index: [AAACATACAACCAC-1, AAACATTGAGCTAC-1, AAACATTGATCAGC-1, AAACCGTGCTTCCG-1, AAACCGTGTATGCG-1, AAACGCACTGGTAC-1, AAACGCTGACCAGT-1, AAACGCTGGTTCTT-1, AAACGCTGTAGCCA-1, AAACGCTGTTTCTG-1, AAACTTGAAAAACG-1, AAACTTGATCCAGA-1, AAAGAGACGAGATA-1, AAAGAGACGCGAGA-1, AAAGAGACGGACTT-1, AAAGAGACGGCATT-1, AAAGATCTGGGCAA-1, AAAGCAGAAGCCAT-1, AAAGCAGATATCGG-1, AAAGCCTGTATGCG-1, AAAGGCCTGTCTAG-1, AAAGTTTGATCACG-1, AAAGTTTGGGGTGA-1, AAAGTTTGTAGAGA-1, AAAGTTTGTAGCGT-1, AAATCAACAATGCC-1, AAATCAACACCAGT-1, AAATCAACCAGGAG-1, AAATCAACCCTATT-1, AAATCAACGGAAGC-1, AAATCAACTCGCAA-1, AAATCATGACCACA-1, AAATCCCTCCACAA-1, AAATCCCTGCTATG-1, AAATGTTGAACGAA-1, AAATGTTGCCACAA-1, AAATGTTGTGGCAT-1, AAATTCGAAGGTTC-1, AAATTCGAATCACG-1, AAATTCGAGCTGAT-1, AAATTCGAGGAGTG-1, AAATTCGATTCTCA-1, AAATTGACACGACT-1, AAATTGACTCGCTC-1, AACAAACTCATTTC-1, AACAAACTTTCGTT-1, AACAATACGACGAG-1, AACACGTGCAGAGG-1, AACACGTGGAAAGT-1, AACACGTGGAACCT-1, AACACGTGGCTACA-1, AACACGTGTACGAC-1, AACAGCACAAGAGT-1, AACATTGATGGGAG-1, AACCAGTGATACCG-1, AACCCAGATCGCTC-1, AACCGATGCTCCCA-1, AACCGATGGTCATG-1, AACCGATGTTCTAC-1, AACCGCCTAGCGTT-1, AACCGCCTCTACGA-1, AACCTACTGTGAGG-1, AACCTACTGTGTTG-1, AACCTTACGAGACG-1, AACCTTACGCGAGA-1, AACCTTACTAACGC-1, AACCTTTGGACGGA-1, AACCTTTGTACGCA-1, AACGCAACAAGTAG-1, AACGCATGACCCAA-1, AACGCATGCCTTCG-1, AACGCATGTACTTC-1, AACGCCCTCGGGAA-1, AACGCCCTCGTACA-1, AACGCCCTGCTTAG-1, AACGCCCTGGCATT-1, AACGTCGAGTATCG-1, AACGTGTGAAAGCA-1, AACGTGTGGCGGAA-1, AACGTGTGTCCAAG-1, AACGTGTGTGCTTT-1, AACTACCTTAGAGA-1, AACTCACTCAAGCT-1, AACTCACTTGGAGG-1, AACTCGGAAAGTGA-1, AACTCGGAAGGTCT-1, AACTCTTGCAGGAG-1, AACTGTCTCCCTTG-1, AACTTGCTACGCTA-1, AACTTGCTGGGACA-1, AAGAACGAGTGTTG-1, AAGAAGACGTAGGG-1, AAGACAGAAGTCTG-1, AAGACAGAGGATCT-1, AAGACAGATTACCT-1, AAGAGATGGGTAGG-1, AAGATGGAAAACAG-1, AAGATGGAGAACTC-1, AAGATGGAGATAAG-1, AAGATTACAACCTG-1, ...]\n",
       "\n",
       "[2700 rows x 0 columns]"
      ]
     },
     "execution_count": 13,
     "metadata": {},
     "output_type": "execute_result"
    }
   ],
   "source": [
    "# holds observation (cells) names\n",
    "adata.obs"
   ]
  },
  {
   "cell_type": "code",
   "execution_count": 14,
   "id": "32b0c264-ddd7-467f-bc12-0ae446f33ae8",
   "metadata": {},
   "outputs": [
    {
     "data": {
      "text/plain": [
       "<2700x32738 sparse matrix of type '<class 'numpy.float32'>'\n",
       "\twith 2286884 stored elements in Compressed Sparse Row format>"
      ]
     },
     "execution_count": 14,
     "metadata": {},
     "output_type": "execute_result"
    }
   ],
   "source": [
    "# holds read counts (in a not-super-readable \"sparse\" matrix format). But you can see it anyway: \n",
    "adata.X"
   ]
  },
  {
   "cell_type": "code",
   "execution_count": 15,
   "id": "fe68fe6f-66a3-478c-b05f-9417193f0a92",
   "metadata": {},
   "outputs": [
    {
     "name": "stdout",
     "output_type": "stream",
     "text": [
      "AnnData object with n_obs × n_vars = 2700 × 32738\n",
      "    var: 'gene_ids'\n"
     ]
    }
   ],
   "source": [
    "# Simply printing adata on its own returns a nice summary of the instance:\n",
    "print(adata)"
   ]
  },
  {
   "cell_type": "markdown",
   "id": "d2e298bd-356b-4b39-bd69-32795d382345",
   "metadata": {},
   "source": [
    "## Throughout the course of this module, you may encounter functions that modify adata objects directly, or \"in place\":\n",
    "- Note that the number of elements shrinks after applying a minimum gene filter function ([sc.pp.filter_cells()](https://scanpy.readthedocs.io/en/stable/generated/scanpy.pp.filter_cells.html)):"
   ]
  },
  {
   "cell_type": "code",
   "execution_count": 16,
   "id": "aa634aea-963d-41c1-8e52-f4948c904068",
   "metadata": {},
   "outputs": [
    {
     "data": {
      "text/plain": [
       "<2700x32738 sparse matrix of type '<class 'numpy.float32'>'\n",
       "\twith 2286884 stored elements in Compressed Sparse Row format>"
      ]
     },
     "execution_count": 16,
     "metadata": {},
     "output_type": "execute_result"
    }
   ],
   "source": [
    "adata.X"
   ]
  },
  {
   "cell_type": "code",
   "execution_count": 17,
   "id": "eaf655f5-2009-4a06-a7f1-9e70124d1deb",
   "metadata": {},
   "outputs": [],
   "source": [
    "sc.pp.filter_cells(adata, min_genes=1000)"
   ]
  },
  {
   "cell_type": "code",
   "execution_count": 18,
   "id": "5c962232-bc74-4271-96fb-b469c867f245",
   "metadata": {},
   "outputs": [
    {
     "data": {
      "text/plain": [
       "<534x32738 sparse matrix of type '<class 'numpy.float32'>'\n",
       "\twith 674618 stored elements in Compressed Sparse Row format>"
      ]
     },
     "execution_count": 18,
     "metadata": {},
     "output_type": "execute_result"
    }
   ],
   "source": [
    "adata.X"
   ]
  },
  {
   "cell_type": "markdown",
   "id": "f7a9cc7d-551c-43be-a1cf-0c3f22b399b1",
   "metadata": {},
   "source": [
    "# If you are unsure which function modifies objects in place (or what the function returns), use the \"help\" function to retrieve associated documentation"
   ]
  },
  {
   "cell_type": "code",
   "execution_count": 19,
   "id": "3d25adb0-e6d1-496f-bdde-986b4584f5e4",
   "metadata": {},
   "outputs": [
    {
     "name": "stdout",
     "output_type": "stream",
     "text": [
      "Help on function filter_cells in module scanpy.preprocessing._simple:\n",
      "\n",
      "filter_cells(data: anndata._core.anndata.AnnData, min_counts: Optional[int] = None, min_genes: Optional[int] = None, max_counts: Optional[int] = None, max_genes: Optional[int] = None, inplace: bool = True, copy: bool = False) -> Optional[Tuple[numpy.ndarray, numpy.ndarray]]\n",
      "    Filter cell outliers based on counts and numbers of genes expressed.\n",
      "    \n",
      "    For instance, only keep cells with at least `min_counts` counts or\n",
      "    `min_genes` genes expressed. This is to filter measurement outliers,\n",
      "    i.e. “unreliable” observations.\n",
      "    \n",
      "    Only provide one of the optional parameters `min_counts`, `min_genes`,\n",
      "    `max_counts`, `max_genes` per call.\n",
      "    \n",
      "    Parameters\n",
      "    ----------\n",
      "    data\n",
      "        The (annotated) data matrix of shape `n_obs` × `n_vars`.\n",
      "        Rows correspond to cells and columns to genes.\n",
      "    min_counts\n",
      "        Minimum number of counts required for a cell to pass filtering.\n",
      "    min_genes\n",
      "        Minimum number of genes expressed required for a cell to pass filtering.\n",
      "    max_counts\n",
      "        Maximum number of counts required for a cell to pass filtering.\n",
      "    max_genes\n",
      "        Maximum number of genes expressed required for a cell to pass filtering.\n",
      "    inplace\n",
      "        Perform computation inplace or return result.\n",
      "    \n",
      "    Returns\n",
      "    -------\n",
      "    Depending on `inplace`, returns the following arrays or directly subsets\n",
      "    and annotates the data matrix:\n",
      "    \n",
      "    cells_subset\n",
      "        Boolean index mask that does filtering. `True` means that the\n",
      "        cell is kept. `False` means the cell is removed.\n",
      "    number_per_cell\n",
      "        Depending on what was tresholded (`counts` or `genes`),\n",
      "        the array stores `n_counts` or `n_cells` per gene.\n",
      "    \n",
      "    Examples\n",
      "    --------\n",
      "    >>> import scanpy as sc\n",
      "    >>> adata = sc.datasets.krumsiek11()\n",
      "    >>> adata.n_obs\n",
      "    640\n",
      "    >>> adata.var_names\n",
      "    ['Gata2' 'Gata1' 'Fog1' 'EKLF' 'Fli1' 'SCL' 'Cebpa'\n",
      "     'Pu.1' 'cJun' 'EgrNab' 'Gfi1']\n",
      "    >>> # add some true zeros\n",
      "    >>> adata.X[adata.X < 0.3] = 0\n",
      "    >>> # simply compute the number of genes per cell\n",
      "    >>> sc.pp.filter_cells(adata, min_genes=0)\n",
      "    >>> adata.n_obs\n",
      "    640\n",
      "    >>> adata.obs['n_genes'].min()\n",
      "    1\n",
      "    >>> # filter manually\n",
      "    >>> adata_copy = adata[adata.obs['n_genes'] >= 3]\n",
      "    >>> adata_copy.obs['n_genes'].min()\n",
      "    >>> adata.n_obs\n",
      "    554\n",
      "    >>> adata.obs['n_genes'].min()\n",
      "    3\n",
      "    >>> # actually do some filtering\n",
      "    >>> sc.pp.filter_cells(adata, min_genes=3)\n",
      "    >>> adata.n_obs\n",
      "    554\n",
      "    >>> adata.obs['n_genes'].min()\n",
      "    3\n",
      "\n"
     ]
    }
   ],
   "source": [
    "help(sc.pp.filter_cells)  # Alternatively, Googling the function returns its help page: https://scanpy.readthedocs.io/en/stable/generated/scanpy.pp.filter_cells.html"
   ]
  },
  {
   "cell_type": "markdown",
   "id": "3c4cc4b5-4ed0-498f-ad1c-61a99a3dbabb",
   "metadata": {},
   "source": [
    "### In its documentation, we can see that the function requires a ```data``` parameter (of type ```anndata._core.anndata.AnnData```).\n",
    "\n",
    "The function also optionally accepts various filter params:\n",
    "- min_counts\n",
    "- min_genes\n",
    "- max_counts\n",
    "- max_genes\n",
    "\n",
    "As well as an 'inplace' flag, which tells the function whether or not to modify the AnnData object in place. As we had seen above, 'inplace' defaults to <b>True</b>:\n",
    "\n",
    "filter_cells(data: anndata._core.anndata.AnnData, min_counts: Optional[int] = None, min_genes: Optional[int] = None, max_counts: Optional[int] = None, max_genes: Optional[int] = None, <b>inplace: bool = True</b>, copy: bool = False) -> Optional[Tuple[numpy.ndarray, numpy.ndarray]]\n"
   ]
  },
  {
   "cell_type": "markdown",
   "id": "170d79ad-3a29-4600-8cd4-c901f8f5aad5",
   "metadata": {},
   "source": [
    "# To avoid potentially overwriting data within an object, I recommend running each notebook in order!\n",
    "- This will help to avoid errors, as well as help you keep track of each step in your notebooks.\n",
    "- Try running the below cells out of order to see how these plots change."
   ]
  },
  {
   "cell_type": "code",
   "execution_count": 20,
   "id": "3ce5a5d8-b1fd-4ef0-9ef2-21cad09069b7",
   "metadata": {},
   "outputs": [
    {
     "data": {
      "image/png": "[encoded data removed]",
      "text/plain": [
       "<Figure size 360x396 with 1 Axes>"
      ]
     },
     "metadata": {
      "needs_background": "light"
     },
     "output_type": "display_data"
    }
   ],
   "source": [
    "sc.pl.highest_expr_genes(adata, n_top=20, )  # Run first"
   ]
  },
  {
   "cell_type": "code",
   "execution_count": 21,
   "id": "7bbb553d-526f-4dbe-9e22-d3d5deb8a036",
   "metadata": {},
   "outputs": [
    {
     "data": {
      "image/png": "[encoded data removed]",
      "text/plain": [
       "<Figure size 360x396 with 1 Axes>"
      ]
     },
     "metadata": {
      "needs_background": "light"
     },
     "output_type": "display_data"
    }
   ],
   "source": [
    "sc.pl.highest_expr_genes(adata, n_top=20, )  # Run third"
   ]
  },
  {
   "cell_type": "code",
   "execution_count": 22,
   "id": "78e420fd-3ac5-4e66-82a5-274865b79780",
   "metadata": {},
   "outputs": [],
   "source": [
    "sc.pp.filter_cells(adata, min_genes=2000)  # Run second"
   ]
  },
  {
   "cell_type": "code",
   "execution_count": null,
   "id": "85be87b3-0ac3-4004-aae8-82f8c68389ab",
   "metadata": {},
   "outputs": [],
   "source": []
  }
 ],
 "metadata": {
  "kernelspec": {
   "display_name": "Python 3 (ipykernel)",
   "language": "python",
   "name": "python3"
  },
  "language_info": {
   "codemirror_mode": {
    "name": "ipython",
    "version": 3
   },
   "file_extension": ".py",
   "mimetype": "text/x-python",
   "name": "python",
   "nbconvert_exporter": "python",
   "pygments_lexer": "ipython3",
   "version": "3.9.12"
  }
 },
 "nbformat": 4,
 "nbformat_minor": 5
}
