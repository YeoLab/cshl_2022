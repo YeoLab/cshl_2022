{
 "cells": [
  {
   "cell_type": "markdown",
   "id": "b9a99452-8fc1-46cf-b19b-103387f9a7b3",
   "metadata": {},
   "source": [
    "# Data structures are ways to organize data\n",
    "\n",
    "This notebook covers the basics of data structures and how they apply to future modules."
   ]
  },
  {
   "cell_type": "markdown",
   "id": "4dc18e02-7b7f-4e43-9c19-482de0482f8c",
   "metadata": {},
   "source": [
    "# Data structures can be primitive (e.g. lists, numbers, strings):"
   ]
  },
  {
   "cell_type": "code",
   "execution_count": null,
   "id": "19c10fb8-6ae1-41cd-b4fd-c546c6358d0f",
   "metadata": {},
   "outputs": [],
   "source": [
    "car_info = [\"Black\", \"Mazda\", \"Miata\"]  # this is a List!\n",
    "car_make = \"Mazda\"  # this is a String!\n",
    "car_model = \"Miata\"  # this is also a String!\n",
    "car_color = \"Black\"  # yet another String!\n",
    "car_year = 2014  # this is an Integer"
   ]
  },
  {
   "cell_type": "markdown",
   "id": "6ba6aa4c-f6c5-4464-9eea-1a1949806fdb",
   "metadata": {},
   "source": [
    "# Data structures can be user-defined (to store more complex data):\n",
    "- This is done through Class definitions. A simple example:"
   ]
  },
  {
   "cell_type": "code",
   "execution_count": null,
   "id": "e4f3db5c-6303-4808-964e-a66d0a70e4f4",
   "metadata": {},
   "outputs": [],
   "source": [
    "class Car:\n",
    "    num_wheels = 4\n",
    "    \n",
    "    def __init__(self, make, model, color):\n",
    "        self.make = make\n",
    "        self.model = model\n",
    "        self.color = color\n"
   ]
  },
  {
   "cell_type": "markdown",
   "id": "c7e7b896-e0a2-4d8e-9f39-eeb04c3317ae",
   "metadata": {},
   "source": [
    "<img src=\"https://intellipaat.com/mediaFiles/2019/03/python10.png\">\n",
    "image source: https://intellipaat.com/"
   ]
  },
  {
   "cell_type": "code",
   "execution_count": null,
   "id": "b28ae60b-ec17-47bb-8e2e-024f53c9cc79",
   "metadata": {},
   "outputs": [],
   "source": [
    "my_car = Car(make=car_make, model=car_model, color=car_color)"
   ]
  },
  {
   "cell_type": "code",
   "execution_count": null,
   "id": "a9e9a95c-3355-4fe2-b516-6c646ed8e98d",
   "metadata": {},
   "outputs": [],
   "source": [
    "print(f\"I just bought a {my_car.color} {my_car.make} {my_car.model}!\")"
   ]
  },
  {
   "cell_type": "markdown",
   "id": "d8c9ad41-3aee-416b-b261-05e8483cc11a",
   "metadata": {
    "tags": []
   },
   "source": [
    "#### In the above example, we have create a data structure that helps us organize what information (attributes) relating to the Car Class.\n",
    "\n",
    "- The ```__init__()``` is special function that allows us to define instance attributes, by assigning values to a variable name inside this function. Instance attributes are set once an instance gets created. Not as important for this class, but worth pointing out.\n",
    "- Note the num_wheels variable above the ```__init__()``` function. This is an example of a class attribute, attributes that have the same value for all class instances. By this definition, every Car should have 4 wheels. Also not as important for this class.\n",
    "- Attributes can be accessed using \"dot notation\" (important!)"
   ]
  },
  {
   "cell_type": "code",
   "execution_count": null,
   "id": "c9e1aad0-9c4d-49ec-ade9-6183b2c76cb0",
   "metadata": {},
   "outputs": [],
   "source": [
    "my_car.make"
   ]
  },
  {
   "cell_type": "code",
   "execution_count": null,
   "id": "5c18d5b9-7fd5-40c3-9fc5-95a3fa091040",
   "metadata": {},
   "outputs": [],
   "source": [
    "my_car.num_wheels"
   ]
  },
  {
   "cell_type": "markdown",
   "id": "95440541-1098-4c1b-93ce-49340dd9264c",
   "metadata": {},
   "source": [
    "#### Instance methods are functions inside the class that can be from each class instance:"
   ]
  },
  {
   "cell_type": "code",
   "execution_count": null,
   "id": "2f02fd3d-06b2-4ceb-858d-b060e463717b",
   "metadata": {},
   "outputs": [],
   "source": [
    "class Car:\n",
    "    num_wheels = 4\n",
    "    \n",
    "    def __init__(self, make, model, color):\n",
    "        self.make = make\n",
    "        self.model = model\n",
    "        self.color = color\n",
    "        \n",
    "    def description(self):\n",
    "        return f\"This is a {my_car.color} {my_car.make} {my_car.model}!\"\n",
    "    \n",
    "    def set_color(self, new_color):\n",
    "        self.color = new_color\n",
    "    \n",
    "my_car = Car(make=car_make, model=car_model, color=car_color)\n",
    "my_car.description()"
   ]
  },
  {
   "cell_type": "markdown",
   "id": "9f896016-154a-4e46-9f5b-fa3f32240966",
   "metadata": {},
   "source": [
    "#### Can we use instance attributes to change instance attributes?"
   ]
  },
  {
   "cell_type": "code",
   "execution_count": null,
   "id": "1c9b5103-6381-491b-93fc-145ddaa4ead2",
   "metadata": {},
   "outputs": [],
   "source": [
    "my_car.set_color(\"Red\")\n",
    "my_car.description()"
   ]
  },
  {
   "cell_type": "code",
   "execution_count": null,
   "id": "b445e502-b32a-4b14-8fa3-fbdefbc4b183",
   "metadata": {},
   "outputs": [],
   "source": [
    "import pandas as pd\n",
    "\n",
    "car_info = [\"Mazda\", 2014, \"Mazda3\"]\n",
    "car_make = \"Mazda\"\n",
    "car_model = \"Mazda3\"\n",
    "car_year = 2014\n",
    "car_name = \"Zoom zoom\"\n",
    "car_smog_history = pd.DataFrame([['1/1/2014','PASS'],['1/1/2015','PASS'],['1/1/2016','FAIL']], columns=['date','passfail'])\n",
    "\n",
    "class Car:\n",
    "    num_wheels = 4\n",
    "    \n",
    "    def __init__(self, name, model, year, smog_history):\n",
    "        self.name = name\n",
    "        self.model = model\n",
    "        self.year = year\n",
    "        self.smog_history = smog_history\n",
    "        \n",
    "    def description(self):\n",
    "        return f\"This car's name is \\\"{my_car.name}\\\" and it is a {my_car.year} {my_car.model}. It has {my_car.num_wheels} wheels.\"\n",
    "    \n",
    "    def set_name(self, new_name):\n",
    "        self.name = new_name\n",
    "\n",
    "my_car = Car(name=car_name, model=car_model, year=car_year, smog_history=car_smog_history)\n",
    "my_car.smog_history"
   ]
  },
  {
   "cell_type": "markdown",
   "id": "e87516ef-d93d-4c3e-be71-ef70cf8d3a99",
   "metadata": {},
   "source": [
    "# Now a real example"
   ]
  },
  {
   "cell_type": "code",
   "execution_count": null,
   "id": "6a3ebeb0-9e6c-4454-9a06-b2bb3e825015",
   "metadata": {},
   "outputs": [],
   "source": [
    "import numpy as np\n",
    "import pandas as pd\n",
    "import scanpy as sc"
   ]
  },
  {
   "cell_type": "markdown",
   "id": "2cf64941-2b42-4f47-8a1c-538ed72464ca",
   "metadata": {},
   "source": [
    "## Scanpy (and other packages) use the AnnData Class to organize single cell data. \n",
    "- This data may span multiple dimensions. In other words, AnnData objects can for a given gene and cell, store counts, normalized counts, cell assignments, etc.\n",
    "- The example below ([sc.read_10x_mtx()](https://scanpy.readthedocs.io/en/stable/generated/scanpy.read_10x_mtx.html)) returns an instance of an [AnnData](https://anndata.readthedocs.io/en/stable/generated/anndata.AnnData.html#anndata.AnnData) Class (AKA. an AnnData Object).\n",
    "- Scanpy provides a nice visualization of AnnData's attributes:"
   ]
  },
  {
   "cell_type": "markdown",
   "id": "21afc294-3be4-420d-a802-52f205c7444e",
   "metadata": {},
   "source": [
    "<img src=\"https://falexwolf.de/img/scanpy/anndata.svg\">"
   ]
  },
  {
   "cell_type": "markdown",
   "id": "d0e88542-7411-4469-97cc-b9350efa96af",
   "metadata": {},
   "source": [
    "#### Here's the example. Let's use ```sc.read_10x_mtx()``` which takes in 10X Cellranger output (.mtx) and creates an object (an instance of an AnnData Class) called ```adata```:"
   ]
  },
  {
   "cell_type": "code",
   "execution_count": null,
   "id": "3bcafc53-7357-4a2a-8b2d-d0a4caf21699",
   "metadata": {},
   "outputs": [],
   "source": [
    "adata = sc.read_10x_mtx(\n",
    "    'public-data/1_programming/data/filtered_gene_bc_matrices/hg19/',  # the directory with the `.mtx` file\n",
    "    var_names='gene_symbols',                # use gene symbols for the variable names (variables-axis index)\n",
    "    cache=True)                              # write a cache file for faster subsequent reading"
   ]
  },
  {
   "cell_type": "markdown",
   "id": "f76f8455-708b-45ef-acf5-b1e6aff040dc",
   "metadata": {},
   "source": [
    "#### Similar to car.make and car.model, we can access adata attributes:"
   ]
  },
  {
   "cell_type": "code",
   "execution_count": null,
   "id": "f2986273-49cd-471e-9d5c-10adb7aff4c0",
   "metadata": {},
   "outputs": [],
   "source": [
    "# holds variable (gene) names\n",
    "adata.var"
   ]
  },
  {
   "cell_type": "code",
   "execution_count": null,
   "id": "1918c3e7-e030-499f-a7cd-04d6136f0f20",
   "metadata": {},
   "outputs": [],
   "source": [
    "# holds observation (cells) names\n",
    "adata.obs"
   ]
  },
  {
   "cell_type": "code",
   "execution_count": null,
   "id": "32b0c264-ddd7-467f-bc12-0ae446f33ae8",
   "metadata": {},
   "outputs": [],
   "source": [
    "# holds read counts (in a not-super-readable \"sparse\" matrix format). But you can see it anyway: \n",
    "adata.X"
   ]
  },
  {
   "cell_type": "code",
   "execution_count": null,
   "id": "fe68fe6f-66a3-478c-b05f-9417193f0a92",
   "metadata": {},
   "outputs": [],
   "source": [
    "# Simply printing adata on its own returns a nice summary of the instance:\n",
    "print(adata)"
   ]
  },
  {
   "cell_type": "markdown",
   "id": "d2e298bd-356b-4b39-bd69-32795d382345",
   "metadata": {},
   "source": [
    "## Throughout the course of this module, you may encounter functions that modify adata objects directly, or \"in place\":\n",
    "- Note that the number of elements shrinks after applying a minimum gene filter function ([sc.pp.filter_cells()](https://scanpy.readthedocs.io/en/stable/generated/scanpy.pp.filter_cells.html)):"
   ]
  },
  {
   "cell_type": "code",
   "execution_count": null,
   "id": "aa634aea-963d-41c1-8e52-f4948c904068",
   "metadata": {},
   "outputs": [],
   "source": [
    "adata.X"
   ]
  },
  {
   "cell_type": "code",
   "execution_count": null,
   "id": "eaf655f5-2009-4a06-a7f1-9e70124d1deb",
   "metadata": {},
   "outputs": [],
   "source": [
    "sc.pp.filter_cells(adata, min_genes=1000)"
   ]
  },
  {
   "cell_type": "code",
   "execution_count": null,
   "id": "5c962232-bc74-4271-96fb-b469c867f245",
   "metadata": {},
   "outputs": [],
   "source": [
    "adata.X"
   ]
  },
  {
   "cell_type": "markdown",
   "id": "f7a9cc7d-551c-43be-a1cf-0c3f22b399b1",
   "metadata": {},
   "source": [
    "# If you are unsure which function modifies objects in place (or what the function returns), use the \"help\" function to retrieve associated documentation"
   ]
  },
  {
   "cell_type": "code",
   "execution_count": null,
   "id": "3d25adb0-e6d1-496f-bdde-986b4584f5e4",
   "metadata": {},
   "outputs": [],
   "source": [
    "help(sc.pp.filter_cells)  # Alternatively, Googling the function returns its help page: https://scanpy.readthedocs.io/en/stable/generated/scanpy.pp.filter_cells.html"
   ]
  },
  {
   "cell_type": "markdown",
   "id": "3c4cc4b5-4ed0-498f-ad1c-61a99a3dbabb",
   "metadata": {},
   "source": [
    "### In its documentation, we can see that the function requires a ```data``` parameter (of type ```anndata._core.anndata.AnnData```).\n",
    "\n",
    "The function also optionally accepts various filter params:\n",
    "- min_counts\n",
    "- min_genes\n",
    "- max_counts\n",
    "- max_genes\n",
    "\n",
    "As well as an 'inplace' flag, which tells the function whether or not to modify the AnnData object in place. As we had seen above, 'inplace' defaults to <b>True</b>:\n",
    "\n",
    "filter_cells(data: anndata._core.anndata.AnnData, min_counts: Optional[int] = None, min_genes: Optional[int] = None, max_counts: Optional[int] = None, max_genes: Optional[int] = None, <b>inplace: bool = True</b>, copy: bool = False) -> Optional[Tuple[numpy.ndarray, numpy.ndarray]]\n"
   ]
  },
  {
   "cell_type": "markdown",
   "id": "170d79ad-3a29-4600-8cd4-c901f8f5aad5",
   "metadata": {},
   "source": [
    "# To avoid potentially overwriting data within an object, I recommend running each notebook in order!\n",
    "- This will help to avoid errors, as well as help you keep track of each step in your notebooks.\n",
    "- Try running the below cells out of order to see how these plots change."
   ]
  },
  {
   "cell_type": "code",
   "execution_count": null,
   "id": "3ce5a5d8-b1fd-4ef0-9ef2-21cad09069b7",
   "metadata": {},
   "outputs": [],
   "source": [
    "sc.pl.highest_expr_genes(adata, n_top=20, )  # Run first"
   ]
  },
  {
   "cell_type": "code",
   "execution_count": null,
   "id": "7bbb553d-526f-4dbe-9e22-d3d5deb8a036",
   "metadata": {},
   "outputs": [],
   "source": [
    "sc.pl.highest_expr_genes(adata, n_top=20, )  # Run third"
   ]
  },
  {
   "cell_type": "code",
   "execution_count": null,
   "id": "78e420fd-3ac5-4e66-82a5-274865b79780",
   "metadata": {},
   "outputs": [],
   "source": [
    "sc.pp.filter_cells(adata, min_genes=2000)  # Run second"
   ]
  },
  {
   "cell_type": "code",
   "execution_count": null,
   "id": "85be87b3-0ac3-4004-aae8-82f8c68389ab",
   "metadata": {},
   "outputs": [],
   "source": []
  }
 ],
 "metadata": {
  "kernelspec": {
   "display_name": "Python 3 (ipykernel)",
   "language": "python",
   "name": "python3"
  },
  "language_info": {
   "codemirror_mode": {
    "name": "ipython",
    "version": 3
   },
   "file_extension": ".py",
   "mimetype": "text/x-python",
   "name": "python",
   "nbconvert_exporter": "python",
   "pygments_lexer": "ipython3",
   "version": "3.9.12"
  }
 },
 "nbformat": 4,
 "nbformat_minor": 5
}
