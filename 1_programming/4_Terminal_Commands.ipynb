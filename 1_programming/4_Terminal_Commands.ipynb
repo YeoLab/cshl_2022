{
 "cells": [
  {
   "cell_type": "markdown",
   "metadata": {},
   "source": [
    "# Terminal Commands and Bash Scripting\n",
    "\n",
    "This notebook covers the basics of Bash scripting and Bash command line navigation.\n",
    "\n",
    "**Authors**: Eric Kofman (ekofman@eng.ucsd.edu) and Pratibha Jagannatha (pjaganna@eng.ucsd.edu) \n",
    "\n",
    "**Credit**: Adapted from UCSD CMM262\n",
    "\n",
    "Cheatsheets to refer to:\n",
    "\n",
    "- This notebook (Adapted from http://people.duke.edu/~ccc14/duke-hts-2018/cliburn/Bash_in_Jupyter.html)\n",
    "\n",
    "- [GettingGeneticsDone.blogspot.com](GettingGeneticsDone.blogspot.com): (via Tufts.edu) Basic cheatsheet for the most common Bash commands\n",
    "\n",
    "- [https://devhints.io/bash](https://devhints.io/bash): Complete-ish vignette of common Bash commands\n"
   ]
  },
  {
   "cell_type": "markdown",
   "metadata": {},
   "source": [
    "## This notebook provides a number of useful commands which you can refer to when navigating the terminal. \n",
    "- These are written in Bash, NOT Python (as we were working with in previous notebooks). \n",
    "- We are able to use bash commands in limited fashion within Jupyter notebooks by appending the \"!\" character to the start of each command (ie. \"ls\" inside a terminal window is equivalent to \"! ls\" inside a Jupyter notebook)\n",
    "- Feel free to explore these commands interactively within this notebook, or within a terminal window (Launcher -> Other -> Terminal)\n"
   ]
  },
  {
   "cell_type": "markdown",
   "metadata": {},
   "source": [
    "## pwd: where am I?"
   ]
  },
  {
   "cell_type": "code",
   "execution_count": 1,
   "metadata": {},
   "outputs": [
    {
     "name": "stdout",
     "output_type": "stream",
     "text": [
      "/projects/ps-yeolab3/bay001/codebase/cshl_2022/1_programming\n"
     ]
    }
   ],
   "source": [
    "! pwd"
   ]
  },
  {
   "cell_type": "markdown",
   "metadata": {},
   "source": [
    "<img src=\"img/whoami.jpg\">"
   ]
  },
  {
   "cell_type": "markdown",
   "metadata": {},
   "source": [
    "## To continue the existential questions..."
   ]
  },
  {
   "cell_type": "code",
   "execution_count": 2,
   "metadata": {},
   "outputs": [
    {
     "name": "stdout",
     "output_type": "stream",
     "text": [
      "bay001\n"
     ]
    }
   ],
   "source": [
    "! whoami"
   ]
  },
  {
   "cell_type": "markdown",
   "metadata": {},
   "source": [
    "## cd: navigate between directories"
   ]
  },
  {
   "cell_type": "markdown",
   "metadata": {},
   "source": [
    "* cd <dirname> --> go to a directory"
   ]
  },
  {
   "cell_type": "code",
   "execution_count": 3,
   "metadata": {},
   "outputs": [
    {
     "name": "stdout",
     "output_type": "stream",
     "text": [
      "/bin/bash: line 0: cd: /home/jovyan/work/img: No such file or directory\n",
      "/projects/ps-yeolab3/bay001/codebase/cshl_2022/1_programming\n"
     ]
    }
   ],
   "source": [
    "! cd /home/jovyan/work/img;pwd"
   ]
  },
  {
   "cell_type": "markdown",
   "metadata": {},
   "source": [
    "###### You can go back *up* a level with the \"..\" notation"
   ]
  },
  {
   "cell_type": "code",
   "execution_count": 4,
   "metadata": {},
   "outputs": [
    {
     "name": "stdout",
     "output_type": "stream",
     "text": [
      "/projects/ps-yeolab3/bay001/codebase/cshl_2022\n"
     ]
    }
   ],
   "source": [
    "! cd ..;pwd"
   ]
  },
  {
   "cell_type": "code",
   "execution_count": 5,
   "metadata": {},
   "outputs": [
    {
     "name": "stdout",
     "output_type": "stream",
     "text": [
      "/projects/ps-yeolab3/bay001/codebase/cshl_2022/1_programming\n"
     ]
    }
   ],
   "source": [
    "! pwd"
   ]
  },
  {
   "cell_type": "markdown",
   "metadata": {},
   "source": [
    "Let's go back into our playground"
   ]
  },
  {
   "cell_type": "markdown",
   "metadata": {},
   "source": [
    "## echo: print out a string"
   ]
  },
  {
   "cell_type": "code",
   "execution_count": 6,
   "metadata": {},
   "outputs": [
    {
     "name": "stdout",
     "output_type": "stream",
     "text": [
      "is there anybody out there?\n"
     ]
    }
   ],
   "source": [
    "! echo \"is there anybody out there?\""
   ]
  },
  {
   "cell_type": "markdown",
   "metadata": {},
   "source": [
    "## ls: check out the contents of a folder"
   ]
  },
  {
   "cell_type": "code",
   "execution_count": 7,
   "metadata": {},
   "outputs": [
    {
     "name": "stdout",
     "output_type": "stream",
     "text": [
      " 1_Intro_to_Programming.ipynb   4_Terminal_Commands.ipynb\t   img\n",
      "'2_Intro to Pandas.ipynb'       5_Intro_to_Data_Structures.ipynb   slides\n",
      " 3_Python_Packages_demo.ipynb   data\n"
     ]
    }
   ],
   "source": [
    "! ls"
   ]
  },
  {
   "cell_type": "markdown",
   "metadata": {},
   "source": [
    "#### extra tags get you more information"
   ]
  },
  {
   "cell_type": "code",
   "execution_count": 8,
   "metadata": {},
   "outputs": [
    {
     "name": "stdout",
     "output_type": "stream",
     "text": [
      "total 372K\n",
      "-rw-r--r-- 1 bay001 yeo-group  39K Jul 13 10:38  1_Intro_to_Programming.ipynb\n",
      "-rw-r--r-- 1 bay001 yeo-group  94K Jul 13 10:43 '2_Intro to Pandas.ipynb'\n",
      "-rw-r--r-- 1 bay001 yeo-group 153K Jul 13 10:44  3_Python_Packages_demo.ipynb\n",
      "-rw-r--r-- 1 bay001 yeo-group  30K Jul 13 10:45  4_Terminal_Commands.ipynb\n",
      "-rw-r--r-- 1 bay001 yeo-group  14K Jul 13 09:36  5_Intro_to_Data_Structures.ipynb\n",
      "drwxr-xr-x 4 bay001 yeo-group 3.0K Jul 13 10:46  data\n",
      "drwxr-xr-x 2 bay001 yeo-group 4.0K Jul 13 10:45  img\n",
      "drwxr-xr-x 2 bay001 yeo-group  512 Jul 13 09:36  slides\n"
     ]
    }
   ],
   "source": [
    "! ls -lh"
   ]
  },
  {
   "cell_type": "markdown",
   "metadata": {},
   "source": [
    "#### what if we only want to list files with a certain extension?"
   ]
  },
  {
   "cell_type": "code",
   "execution_count": 9,
   "metadata": {},
   "outputs": [
    {
     "name": "stdout",
     "output_type": "stream",
     "text": [
      "img/chromNamesRant.png\t\timg/mariopipe.png\n",
      "img/geneDensityArticle2020.png\timg/zeroindexing.png\n"
     ]
    }
   ],
   "source": [
    "# The asterisk is a \"wild card\" that matches any character\n",
    "! ls img/*.png"
   ]
  },
  {
   "cell_type": "code",
   "execution_count": 10,
   "metadata": {},
   "outputs": [
    {
     "name": "stdout",
     "output_type": "stream",
     "text": [
      "-rwxr-xr-x 1 bay001 yeo-group 171K Jul 13 10:45 img/chromNamesRant.png\n",
      "-rwxr-xr-x 1 bay001 yeo-group 286K Jul 13 10:45 img/geneDensityArticle2020.png\n",
      "-rwxr-xr-x 1 bay001 yeo-group 6.1K Jul 13 10:45 img/mariopipe.png\n",
      "-rwxr-xr-x 1 bay001 yeo-group 4.2K Jul 13 10:45 img/zeroindexing.png\n"
     ]
    }
   ],
   "source": [
    "! ls -lh img/*.png"
   ]
  },
  {
   "cell_type": "code",
   "execution_count": 11,
   "metadata": {},
   "outputs": [],
   "source": [
    "### YOU TRY: list only the files that end in .txt"
   ]
  },
  {
   "cell_type": "markdown",
   "metadata": {},
   "source": [
    "## mkdir: make a directory"
   ]
  },
  {
   "cell_type": "code",
   "execution_count": 12,
   "metadata": {},
   "outputs": [],
   "source": [
    "! mkdir shiny_new"
   ]
  },
  {
   "cell_type": "markdown",
   "metadata": {},
   "source": [
    "##### Look it's there!"
   ]
  },
  {
   "cell_type": "code",
   "execution_count": 13,
   "metadata": {},
   "outputs": [
    {
     "name": "stdout",
     "output_type": "stream",
     "text": [
      "total 376K\n",
      "-rw-r--r-- 1 bay001 yeo-group  39K Jul 13 10:38  1_Intro_to_Programming.ipynb\n",
      "-rw-r--r-- 1 bay001 yeo-group  94K Jul 13 10:43 '2_Intro to Pandas.ipynb'\n",
      "-rw-r--r-- 1 bay001 yeo-group 153K Jul 13 10:44  3_Python_Packages_demo.ipynb\n",
      "-rw-r--r-- 1 bay001 yeo-group  30K Jul 13 10:45  4_Terminal_Commands.ipynb\n",
      "-rw-r--r-- 1 bay001 yeo-group  14K Jul 13 09:36  5_Intro_to_Data_Structures.ipynb\n",
      "drwxr-xr-x 4 bay001 yeo-group 3.0K Jul 13 10:46  data\n",
      "drwxr-xr-x 2 bay001 yeo-group 4.0K Jul 13 10:45  img\n",
      "drwxr-xr-x 2 bay001 yeo-group    0 Jul 13 10:46  shiny_new\n",
      "drwxr-xr-x 2 bay001 yeo-group  512 Jul 13 09:36  slides\n"
     ]
    }
   ],
   "source": [
    "! ls -lh"
   ]
  },
  {
   "cell_type": "markdown",
   "metadata": {},
   "source": [
    "## cp: Copy a file"
   ]
  },
  {
   "cell_type": "code",
   "execution_count": 14,
   "metadata": {},
   "outputs": [
    {
     "name": "stdout",
     "output_type": "stream",
     "text": [
      "total 8.0K\n",
      "-rwxr-xr-x 1 bay001 yeo-group 2.0K Jul 13 10:46 hg19.chrom.sizes.txt.copy\n"
     ]
    }
   ],
   "source": [
    "! cp data/hg19.chrom.sizes.txt shiny_new/hg19.chrom.sizes.txt.copy\n",
    "! ls -lh shiny_new"
   ]
  },
  {
   "cell_type": "markdown",
   "metadata": {},
   "source": [
    "#### cp -r to copy a directory and all of its contents"
   ]
  },
  {
   "cell_type": "code",
   "execution_count": 15,
   "metadata": {},
   "outputs": [],
   "source": [
    "! cp -r shiny_new same_old\n"
   ]
  },
  {
   "cell_type": "code",
   "execution_count": 16,
   "metadata": {},
   "outputs": [
    {
     "name": "stdout",
     "output_type": "stream",
     "text": [
      "total 380K\n",
      "-rw-r--r-- 1 bay001 yeo-group  39K Jul 13 10:38  1_Intro_to_Programming.ipynb\n",
      "-rw-r--r-- 1 bay001 yeo-group  94K Jul 13 10:43 '2_Intro to Pandas.ipynb'\n",
      "-rw-r--r-- 1 bay001 yeo-group 153K Jul 13 10:44  3_Python_Packages_demo.ipynb\n",
      "-rw-r--r-- 1 bay001 yeo-group  30K Jul 13 10:45  4_Terminal_Commands.ipynb\n",
      "-rw-r--r-- 1 bay001 yeo-group  14K Jul 13 09:36  5_Intro_to_Data_Structures.ipynb\n",
      "drwxr-xr-x 4 bay001 yeo-group 3.0K Jul 13 10:46  data\n",
      "drwxr-xr-x 2 bay001 yeo-group 4.0K Jul 13 10:45  img\n",
      "drwxr-xr-x 2 bay001 yeo-group  512 Jul 13 10:46  same_old\n",
      "drwxr-xr-x 2 bay001 yeo-group  512 Jul 13 10:46  shiny_new\n",
      "drwxr-xr-x 2 bay001 yeo-group  512 Jul 13 09:36  slides\n"
     ]
    }
   ],
   "source": [
    "# So now we should have two new directories in our bash playground: same_old and shiny_new\n",
    "! ls -lh"
   ]
  },
  {
   "cell_type": "code",
   "execution_count": 17,
   "metadata": {},
   "outputs": [
    {
     "name": "stdout",
     "output_type": "stream",
     "text": [
      "total 8.0K\n",
      "-rwxr-xr-x 1 bay001 yeo-group 2.0K Jul 13 10:46 hg19.chrom.sizes.txt.copy\n"
     ]
    }
   ],
   "source": [
    "! ls -lh same_old"
   ]
  },
  {
   "cell_type": "code",
   "execution_count": 18,
   "metadata": {},
   "outputs": [
    {
     "name": "stdout",
     "output_type": "stream",
     "text": [
      "total 8.0K\n",
      "-rwxr-xr-x 1 bay001 yeo-group 2.0K Jul 13 10:46 hg19.chrom.sizes.txt.copy\n"
     ]
    }
   ],
   "source": [
    "# And shiny new should contain the same contents as same old\n",
    "! ls -lh shiny_new"
   ]
  },
  {
   "cell_type": "markdown",
   "metadata": {},
   "source": [
    "## touch: make an empty file"
   ]
  },
  {
   "cell_type": "code",
   "execution_count": 19,
   "metadata": {},
   "outputs": [],
   "source": [
    "! touch empty_inside.txt"
   ]
  },
  {
   "cell_type": "code",
   "execution_count": 20,
   "metadata": {},
   "outputs": [
    {
     "name": "stdout",
     "output_type": "stream",
     "text": [
      "total 384K\n",
      "-rw-r--r-- 1 bay001 yeo-group  39K Jul 13 10:38  1_Intro_to_Programming.ipynb\n",
      "-rw-r--r-- 1 bay001 yeo-group  94K Jul 13 10:43 '2_Intro to Pandas.ipynb'\n",
      "-rw-r--r-- 1 bay001 yeo-group 153K Jul 13 10:44  3_Python_Packages_demo.ipynb\n",
      "-rw-r--r-- 1 bay001 yeo-group  30K Jul 13 10:45  4_Terminal_Commands.ipynb\n",
      "-rw-r--r-- 1 bay001 yeo-group  14K Jul 13 09:36  5_Intro_to_Data_Structures.ipynb\n",
      "drwxr-xr-x 4 bay001 yeo-group 3.0K Jul 13 10:46  data\n",
      "-rw-r--r-- 1 bay001 yeo-group    0 Jul 13 10:46  empty_inside.txt\n",
      "drwxr-xr-x 2 bay001 yeo-group 4.0K Jul 13 10:45  img\n",
      "drwxr-xr-x 2 bay001 yeo-group  512 Jul 13 10:46  same_old\n",
      "drwxr-xr-x 2 bay001 yeo-group  512 Jul 13 10:46  shiny_new\n",
      "drwxr-xr-x 2 bay001 yeo-group  512 Jul 13 09:36  slides\n"
     ]
    }
   ],
   "source": [
    "# Don't read into that name too much. Just trust me, it's empty. Look at the size. Or go check it yourself later!\n",
    "! ls -lh"
   ]
  },
  {
   "cell_type": "markdown",
   "metadata": {},
   "source": [
    "## mv: Move or rename a file\n",
    "#### if you use mv where the destination is in the same folder you will simply rename the file"
   ]
  },
  {
   "cell_type": "code",
   "execution_count": 21,
   "metadata": {},
   "outputs": [],
   "source": [
    "# You before this lesson --> you after this lesson? \n",
    "! mv empty_inside.txt fulfilled.txt"
   ]
  },
  {
   "cell_type": "code",
   "execution_count": 22,
   "metadata": {},
   "outputs": [
    {
     "name": "stdout",
     "output_type": "stream",
     "text": [
      "total 384K\n",
      "-rw-r--r-- 1 bay001 yeo-group  39K Jul 13 10:38  1_Intro_to_Programming.ipynb\n",
      "-rw-r--r-- 1 bay001 yeo-group  94K Jul 13 10:43 '2_Intro to Pandas.ipynb'\n",
      "-rw-r--r-- 1 bay001 yeo-group 153K Jul 13 10:44  3_Python_Packages_demo.ipynb\n",
      "-rw-r--r-- 1 bay001 yeo-group  30K Jul 13 10:45  4_Terminal_Commands.ipynb\n",
      "-rw-r--r-- 1 bay001 yeo-group  14K Jul 13 09:36  5_Intro_to_Data_Structures.ipynb\n",
      "drwxr-xr-x 4 bay001 yeo-group 3.0K Jul 13 10:46  data\n",
      "-rw-r--r-- 1 bay001 yeo-group    0 Jul 13 10:46  fulfilled.txt\n",
      "drwxr-xr-x 2 bay001 yeo-group 4.0K Jul 13 10:45  img\n",
      "drwxr-xr-x 2 bay001 yeo-group  512 Jul 13 10:46  same_old\n",
      "drwxr-xr-x 2 bay001 yeo-group  512 Jul 13 10:46  shiny_new\n",
      "drwxr-xr-x 2 bay001 yeo-group  512 Jul 13 09:36  slides\n"
     ]
    }
   ],
   "source": [
    "! ls -lh"
   ]
  },
  {
   "cell_type": "markdown",
   "metadata": {},
   "source": [
    "### If you use mv where the destination is in a different folder you will move the file"
   ]
  },
  {
   "cell_type": "code",
   "execution_count": 23,
   "metadata": {},
   "outputs": [],
   "source": [
    "! mv fulfilled.txt shiny_new"
   ]
  },
  {
   "cell_type": "code",
   "execution_count": 24,
   "metadata": {},
   "outputs": [
    {
     "name": "stdout",
     "output_type": "stream",
     "text": [
      "total 380K\n",
      "-rw-r--r-- 1 bay001 yeo-group  39K Jul 13 10:38  1_Intro_to_Programming.ipynb\n",
      "-rw-r--r-- 1 bay001 yeo-group  94K Jul 13 10:43 '2_Intro to Pandas.ipynb'\n",
      "-rw-r--r-- 1 bay001 yeo-group 153K Jul 13 10:44  3_Python_Packages_demo.ipynb\n",
      "-rw-r--r-- 1 bay001 yeo-group  30K Jul 13 10:45  4_Terminal_Commands.ipynb\n",
      "-rw-r--r-- 1 bay001 yeo-group  14K Jul 13 09:36  5_Intro_to_Data_Structures.ipynb\n",
      "drwxr-xr-x 4 bay001 yeo-group 3.0K Jul 13 10:46  data\n",
      "drwxr-xr-x 2 bay001 yeo-group 4.0K Jul 13 10:45  img\n",
      "drwxr-xr-x 2 bay001 yeo-group  512 Jul 13 10:46  same_old\n",
      "drwxr-xr-x 2 bay001 yeo-group 1.0K Jul 13 10:46  shiny_new\n",
      "drwxr-xr-x 2 bay001 yeo-group  512 Jul 13 09:36  slides\n"
     ]
    }
   ],
   "source": [
    "# Not here at the main folder level anymore...\n",
    "! ls -lh"
   ]
  },
  {
   "cell_type": "code",
   "execution_count": 25,
   "metadata": {},
   "outputs": [
    {
     "name": "stdout",
     "output_type": "stream",
     "text": [
      "total 12K\n",
      "-rw-r--r-- 1 bay001 yeo-group    0 Jul 13 10:46 fulfilled.txt\n",
      "-rwxr-xr-x 1 bay001 yeo-group 2.0K Jul 13 10:46 hg19.chrom.sizes.txt.copy\n"
     ]
    }
   ],
   "source": [
    "# Here!\n",
    "! ls -lh shiny_new"
   ]
  },
  {
   "cell_type": "markdown",
   "metadata": {},
   "source": [
    "### With great power comes great responsibility... use this carefully! There is no \"undo\" in terminal...\n",
    "# rm: delete file"
   ]
  },
  {
   "cell_type": "code",
   "execution_count": 26,
   "metadata": {},
   "outputs": [],
   "source": [
    "! rm shiny_new/fulfilled.txt"
   ]
  },
  {
   "cell_type": "code",
   "execution_count": 27,
   "metadata": {},
   "outputs": [
    {
     "name": "stdout",
     "output_type": "stream",
     "text": [
      "total 8.0K\n",
      "-rwxr-xr-x 1 bay001 yeo-group 2.0K Jul 13 10:46 hg19.chrom.sizes.txt.copy\n"
     ]
    }
   ],
   "source": [
    "! ls -lh shiny_new"
   ]
  },
  {
   "cell_type": "markdown",
   "metadata": {},
   "source": [
    "### rm -r: delete directory and all of its contents"
   ]
  },
  {
   "cell_type": "code",
   "execution_count": 28,
   "metadata": {},
   "outputs": [],
   "source": [
    "! rm -r shiny_new\n",
    "! rm -r same_old"
   ]
  },
  {
   "cell_type": "code",
   "execution_count": 29,
   "metadata": {},
   "outputs": [],
   "source": [
    "### YOU TRY: delete the directory \"same_old\" \n",
    "\n"
   ]
  },
  {
   "cell_type": "code",
   "execution_count": 30,
   "metadata": {},
   "outputs": [
    {
     "name": "stdout",
     "output_type": "stream",
     "text": [
      "total 372K\n",
      "-rw-r--r-- 1 bay001 yeo-group  39K Jul 13 10:38  1_Intro_to_Programming.ipynb\n",
      "-rw-r--r-- 1 bay001 yeo-group  94K Jul 13 10:43 '2_Intro to Pandas.ipynb'\n",
      "-rw-r--r-- 1 bay001 yeo-group 153K Jul 13 10:44  3_Python_Packages_demo.ipynb\n",
      "-rw-r--r-- 1 bay001 yeo-group  30K Jul 13 10:45  4_Terminal_Commands.ipynb\n",
      "-rw-r--r-- 1 bay001 yeo-group  14K Jul 13 09:36  5_Intro_to_Data_Structures.ipynb\n",
      "drwxr-xr-x 4 bay001 yeo-group 3.0K Jul 13 10:46  data\n",
      "drwxr-xr-x 2 bay001 yeo-group 4.0K Jul 13 10:45  img\n",
      "drwxr-xr-x 2 bay001 yeo-group  512 Jul 13 09:36  slides\n"
     ]
    }
   ],
   "source": [
    "! ls -lh"
   ]
  },
  {
   "cell_type": "markdown",
   "metadata": {},
   "source": [
    "# Now let's get fancy"
   ]
  },
  {
   "cell_type": "markdown",
   "metadata": {},
   "source": [
    "#### You can do quite a lot of text processing and execute more complex file operations in terminal. Check out the contents of the file sequences.txt in this directory by using the \"cat\" command:"
   ]
  },
  {
   "cell_type": "code",
   "execution_count": 31,
   "metadata": {},
   "outputs": [
    {
     "name": "stdout",
     "output_type": "stream",
     "text": [
      "seq1\tCGCGACCTCAGATCAGACGTGGCGACCCGCTGAATTTAAGCATATTAGTCAGCGGAGGAGAAGAAACTAA\n",
      "seq2\tCCAGGATTCCCTCAGTAACGGCGAGTGAACAGGGAAGAGCCCAGCGCCGAATCCCCGCCCCGCGGCGGGG\n",
      "seq3\tCGCGGGACATGTGGCGTACGGAAGACCCGCTCCCCGGCGCCGCTCGTGGGGGGCCCAAGTCCTTCTGATC\n",
      "seq4\tGAGGCCCAGCCCGTGGACGGTGTGAGGCCGGTAGCGGCCCCCGGCGCGCCGGGCCCGGGTCTTCCCGGAG\n",
      "seq5\tTCGGGTTGCTTGGGAATGCAGCCCAAAGCGGGTGGTAAACTCCATCTAAGGCTAAATACCGGCACGAGAC\n",
      "seq6\tCGATAGTCAACAAGTACCGTAAGGGAAAGTTGAAAAGAACTTTGAAGAGAGAGTTCAAGAGGGCGTGAAA\n",
      "seq7\tCCGTTAAGAGGTAAACGGGTGGGGTCCGCGCAGTCCGCCCGGAGGATTCAACCCGGCGGCGGGTCCGGCC\n",
      "seq8\tGTGTCGGCGGCCCGGCGGATCTTTCCCGCCCCCCGTTCCTCCCGACCCCTCCACCCGCCCTCCCTTCCCC\n",
      "seq9\tCGCCGCCCCTCCTCCTCCTCCCCGGAGGGGGCGGGCTCCGGCGGGTGCGGGGGTGGGCGGGCGGGGCCGG\n",
      "seq10\tGGGTGGGGTCGGCGGGGGACCGTCCCCCGACCGGCGACCGGCCGCCGCCGGGCGCATTTCCACCGCGGCG\n",
      "\n"
     ]
    }
   ],
   "source": [
    "! cat data/sequences.txt"
   ]
  },
  {
   "cell_type": "markdown",
   "metadata": {},
   "source": [
    "### You can look at just the beginning or just the end of a file"
   ]
  },
  {
   "cell_type": "code",
   "execution_count": 32,
   "metadata": {},
   "outputs": [
    {
     "name": "stdout",
     "output_type": "stream",
     "text": [
      "seq1\tCGCGACCTCAGATCAGACGTGGCGACCCGCTGAATTTAAGCATATTAGTCAGCGGAGGAGAAGAAACTAA\n",
      "seq2\tCCAGGATTCCCTCAGTAACGGCGAGTGAACAGGGAAGAGCCCAGCGCCGAATCCCCGCCCCGCGGCGGGG\n"
     ]
    }
   ],
   "source": [
    "! head -2 data/sequences.txt"
   ]
  },
  {
   "cell_type": "code",
   "execution_count": 33,
   "metadata": {},
   "outputs": [
    {
     "name": "stdout",
     "output_type": "stream",
     "text": [
      "seq10\tGGGTGGGGTCGGCGGGGGACCGTCCCCCGACCGGCGACCGGCCGCCGCCGGGCGCATTTCCACCGCGGCG\n",
      "\n"
     ]
    }
   ],
   "source": [
    "! tail -2 data/sequences.txt "
   ]
  },
  {
   "cell_type": "markdown",
   "metadata": {},
   "source": [
    "### You can split up a file by columns!"
   ]
  },
  {
   "cell_type": "code",
   "execution_count": 34,
   "metadata": {},
   "outputs": [
    {
     "name": "stdout",
     "output_type": "stream",
     "text": [
      "seq1\n",
      "seq2\n",
      "seq3\n",
      "seq4\n",
      "seq5\n",
      "seq6\n",
      "seq7\n",
      "seq8\n",
      "seq9\n",
      "seq10\n",
      "\n"
     ]
    }
   ],
   "source": [
    "! cut -f1 data/sequences.txt"
   ]
  },
  {
   "cell_type": "code",
   "execution_count": 35,
   "metadata": {},
   "outputs": [],
   "source": [
    "### YOU TRY: print out just the second column\n",
    "\n"
   ]
  },
  {
   "cell_type": "markdown",
   "metadata": {},
   "source": [
    "### Piping "
   ]
  },
  {
   "cell_type": "markdown",
   "metadata": {},
   "source": [
    "<img src=\"img/mariopipe.png\">"
   ]
  },
  {
   "cell_type": "markdown",
   "metadata": {},
   "source": [
    "#### You can use pipes (\"|\") to send the output of one command to another command as input"
   ]
  },
  {
   "cell_type": "code",
   "execution_count": 36,
   "metadata": {},
   "outputs": [
    {
     "name": "stdout",
     "output_type": "stream",
     "text": [
      "seq2\tCCAGGATTCCCTCAGTAACGGCGAGTGAACAGGGAAGAGCCCAGCGCCGAATCCCCGCCCCGCGGCGGGG\n",
      "seq3\tCGCGGGACATGTGGCGTACGGAAGACCCGCTCCCCGGCGCCGCTCGTGGGGGGCCCAAGTCCTTCTGATC\n"
     ]
    }
   ],
   "source": [
    "### What do you think will be output using this combination of commands?\n",
    "! head -3 data/sequences.txt | tail -2"
   ]
  },
  {
   "cell_type": "code",
   "execution_count": 37,
   "metadata": {},
   "outputs": [],
   "source": [
    "### NOW YOU TRY: retrieve just the second column of the third line (seq C) from the sequences.txt file using \n",
    "# a combination of tail, head, and cut with a couple of pipes in the mix.\n",
    "\n"
   ]
  },
  {
   "cell_type": "markdown",
   "metadata": {},
   "source": [
    "### grep: searching for specific text within a file"
   ]
  },
  {
   "cell_type": "code",
   "execution_count": 38,
   "metadata": {},
   "outputs": [
    {
     "name": "stdout",
     "output_type": "stream",
     "text": [
      "seq2\tCCAGGATTCCCTCAGTAACGGCGAGTGAACAGGGAAGAGCCCAGCGCCGAATCCCCGCCCCGCGGCGGGG\n"
     ]
    }
   ],
   "source": [
    "! grep \"TAAC\" data/sequences.txt"
   ]
  },
  {
   "cell_type": "markdown",
   "metadata": {},
   "source": [
    "#### You can use certain expressions to filter with extra parameters. For example, in this context the | means \"or\""
   ]
  },
  {
   "cell_type": "code",
   "execution_count": 39,
   "metadata": {},
   "outputs": [],
   "source": [
    "! grep \"[B|D]\" data/sequences.txt"
   ]
  },
  {
   "cell_type": "code",
   "execution_count": 40,
   "metadata": {},
   "outputs": [],
   "source": [
    "### NOW YOU TRY: Okay, try finding the line that contains \"TAAC\" plus the line after it using grep.\n",
    "\n",
    "\n"
   ]
  },
  {
   "cell_type": "markdown",
   "metadata": {},
   "source": [
    "### tr: substitution"
   ]
  },
  {
   "cell_type": "markdown",
   "metadata": {},
   "source": [
    "#### Let's use tr to turn our DNA sequences into RNA sequences instead!"
   ]
  },
  {
   "cell_type": "code",
   "execution_count": 41,
   "metadata": {},
   "outputs": [
    {
     "name": "stdout",
     "output_type": "stream",
     "text": [
      "seq1\tCGCGACCUCAGAUCAGACGUGGCGACCCGCUGAAUUUAAGCAUAUUAGUCAGCGGAGGAGAAGAAACUAA\n",
      "seq2\tCCAGGAUUCCCUCAGUAACGGCGAGUGAACAGGGAAGAGCCCAGCGCCGAAUCCCCGCCCCGCGGCGGGG\n",
      "seq3\tCGCGGGACAUGUGGCGUACGGAAGACCCGCUCCCCGGCGCCGCUCGUGGGGGGCCCAAGUCCUUCUGAUC\n",
      "seq4\tGAGGCCCAGCCCGUGGACGGUGUGAGGCCGGUAGCGGCCCCCGGCGCGCCGGGCCCGGGUCUUCCCGGAG\n",
      "seq5\tUCGGGUUGCUUGGGAAUGCAGCCCAAAGCGGGUGGUAAACUCCAUCUAAGGCUAAAUACCGGCACGAGAC\n",
      "seq6\tCGAUAGUCAACAAGUACCGUAAGGGAAAGUUGAAAAGAACUUUGAAGAGAGAGUUCAAGAGGGCGUGAAA\n",
      "seq7\tCCGUUAAGAGGUAAACGGGUGGGGUCCGCGCAGUCCGCCCGGAGGAUUCAACCCGGCGGCGGGUCCGGCC\n",
      "seq8\tGUGUCGGCGGCCCGGCGGAUCUUUCCCGCCCCCCGUUCCUCCCGACCCCUCCACCCGCCCUCCCUUCCCC\n",
      "seq9\tCGCCGCCCCUCCUCCUCCUCCCCGGAGGGGGCGGGCUCCGGCGGGUGCGGGGGUGGGCGGGCGGGGCCGG\n",
      "seq10\tGGGUGGGGUCGGCGGGGGACCGUCCCCCGACCGGCGACCGGCCGCCGCCGGGCGCAUUUCCACCGCGGCG\n",
      "\n"
     ]
    }
   ],
   "source": [
    "! cat data/sequences.txt | tr T U"
   ]
  },
  {
   "cell_type": "markdown",
   "metadata": {},
   "source": [
    "#### We can use tr to find the complement of DNA sequences"
   ]
  },
  {
   "cell_type": "code",
   "execution_count": 42,
   "metadata": {},
   "outputs": [
    {
     "name": "stdout",
     "output_type": "stream",
     "text": [
      "GCGCTGGAGTCTAGTCTGCACCGCTGGGCGACTTAAATTCGTATAATCAGTCGCCTCCTCTTCTTTGATT\n",
      "GGTCCTAAGGGAGTCATTGCCGCTCACTTGTCCCTTCTCGGGTCGCGGCTTAGGGGCGGGGCGCCGCCCC\n",
      "GCGCCCTGTACACCGCATGCCTTCTGGGCGAGGGGCCGCGGCGAGCACCCCCCGGGTTCAGGAAGACTAG\n",
      "CTCCGGGTCGGGCACCTGCCACACTCCGGCCATCGCCGGGGGCCGCGCGGCCCGGGCCCAGAAGGGCCTC\n",
      "AGCCCAACGAACCCTTACGTCGGGTTTCGCCCACCATTTGAGGTAGATTCCGATTTATGGCCGTGCTCTG\n",
      "GCTATCAGTTGTTCATGGCATTCCCTTTCAACTTTTCTTGAAACTTCTCTCTCAAGTTCTCCCGCACTTT\n",
      "GGCAATTCTCCATTTGCCCACCCCAGGCGCGTCAGGCGGGCCTCCTAAGTTGGGCCGCCGCCCAGGCCGG\n",
      "CACAGCCGCCGGGCCGCCTAGAAAGGGCGGGGGGCAAGGAGGGCTGGGGAGGTGGGCGGGAGGGAAGGGG\n",
      "GCGGCGGGGAGGAGGAGGAGGGGCCTCCCCCGCCCGAGGCCGCCCACGCCCCCACCCGCCCGCCCCGGCC\n",
      "CCCACCCCAGCCGCCCCCTGGCAGGGGGCTGGCCGCTGGCCGGCGGCGGCCCGCGTAAAGGTGGCGCCGC\n",
      "\n"
     ]
    }
   ],
   "source": [
    "! cut -f2 data/sequences.txt | tr ACGT TGCA\n"
   ]
  },
  {
   "cell_type": "markdown",
   "metadata": {},
   "source": [
    "## rv: reverse "
   ]
  },
  {
   "cell_type": "markdown",
   "metadata": {},
   "source": [
    "#### We can tack on a \"reverse\" command to get the reverse complement of a DNA sequence"
   ]
  },
  {
   "cell_type": "code",
   "execution_count": 43,
   "metadata": {},
   "outputs": [
    {
     "name": "stdout",
     "output_type": "stream",
     "text": [
      "TTAGTTTCTTCTCCTCCGCTGACTAATATGCTTAAATTCAGCGGGTCGCCACGTCTGATCTGAGGTCGCG\n",
      "CCCCGCCGCGGGGCGGGGATTCGGCGCTGGGCTCTTCCCTGTTCACTCGCCGTTACTGAGGGAATCCTGG\n",
      "GATCAGAAGGACTTGGGCCCCCCACGAGCGGCGCCGGGGAGCGGGTCTTCCGTACGCCACATGTCCCGCG\n",
      "CTCCGGGAAGACCCGGGCCCGGCGCGCCGGGGGCCGCTACCGGCCTCACACCGTCCACGGGCTGGGCCTC\n",
      "GTCTCGTGCCGGTATTTAGCCTTAGATGGAGTTTACCACCCGCTTTGGGCTGCATTCCCAAGCAACCCGA\n",
      "TTTCACGCCCTCTTGAACTCTCTCTTCAAAGTTCTTTTCAACTTTCCCTTACGGTACTTGTTGACTATCG\n",
      "GGCCGGACCCGCCGCCGGGTTGAATCCTCCGGGCGGACTGCGCGGACCCCACCCGTTTACCTCTTAACGG\n",
      "GGGGAAGGGAGGGCGGGTGGAGGGGTCGGGAGGAACGGGGGGCGGGAAAGATCCGCCGGGCCGCCGACAC\n",
      "CCGGCCCCGCCCGCCCACCCCCGCACCCGCCGGAGCCCGCCCCCTCCGGGGAGGAGGAGGAGGGGCGGCG\n",
      "CGCCGCGGTGGAAATGCGCCCGGCGGCGGCCGGTCGCCGGTCGGGGGACGGTCCCCCGCCGACCCCACCC\n",
      "\n"
     ]
    }
   ],
   "source": [
    "! cut -f2 data/sequences.txt | tr ACGT TGCA | rev\n"
   ]
  },
  {
   "cell_type": "markdown",
   "metadata": {},
   "source": [
    "## wc: word/line/character count"
   ]
  },
  {
   "cell_type": "code",
   "execution_count": 44,
   "metadata": {},
   "outputs": [
    {
     "name": "stdout",
     "output_type": "stream",
     "text": [
      " 11  20 762 data/sequences.txt\n"
     ]
    }
   ],
   "source": [
    "! wc data/sequences.txt"
   ]
  },
  {
   "cell_type": "markdown",
   "metadata": {},
   "source": [
    "#### Get just lines"
   ]
  },
  {
   "cell_type": "code",
   "execution_count": 45,
   "metadata": {},
   "outputs": [
    {
     "name": "stdout",
     "output_type": "stream",
     "text": [
      "11 data/sequences.txt\n"
     ]
    }
   ],
   "source": [
    "! wc -l data/sequences.txt"
   ]
  },
  {
   "cell_type": "markdown",
   "metadata": {},
   "source": [
    "#### Get just words"
   ]
  },
  {
   "cell_type": "code",
   "execution_count": 46,
   "metadata": {},
   "outputs": [
    {
     "name": "stdout",
     "output_type": "stream",
     "text": [
      "20 data/sequences.txt\n"
     ]
    }
   ],
   "source": [
    "! wc -w data/sequences.txt"
   ]
  },
  {
   "cell_type": "markdown",
   "metadata": {},
   "source": [
    "#### Get just characters"
   ]
  },
  {
   "cell_type": "code",
   "execution_count": 47,
   "metadata": {},
   "outputs": [
    {
     "name": "stdout",
     "output_type": "stream",
     "text": [
      "762 data/sequences.txt\n"
     ]
    }
   ],
   "source": [
    "! wc -c data/sequences.txt"
   ]
  },
  {
   "cell_type": "markdown",
   "metadata": {},
   "source": [
    "## sort: sort values in a column"
   ]
  },
  {
   "cell_type": "code",
   "execution_count": 48,
   "metadata": {},
   "outputs": [
    {
     "name": "stdout",
     "output_type": "stream",
     "text": [
      "\n",
      "CCAGGATTCCCTCAGTAACGGCGAGTGAACAGGGAAGAGCCCAGCGCCGAATCCCCGCCCCGCGGCGGGG\n",
      "CCGTTAAGAGGTAAACGGGTGGGGTCCGCGCAGTCCGCCCGGAGGATTCAACCCGGCGGCGGGTCCGGCC\n",
      "CGATAGTCAACAAGTACCGTAAGGGAAAGTTGAAAAGAACTTTGAAGAGAGAGTTCAAGAGGGCGTGAAA\n",
      "CGCCGCCCCTCCTCCTCCTCCCCGGAGGGGGCGGGCTCCGGCGGGTGCGGGGGTGGGCGGGCGGGGCCGG\n",
      "CGCGACCTCAGATCAGACGTGGCGACCCGCTGAATTTAAGCATATTAGTCAGCGGAGGAGAAGAAACTAA\n",
      "CGCGGGACATGTGGCGTACGGAAGACCCGCTCCCCGGCGCCGCTCGTGGGGGGCCCAAGTCCTTCTGATC\n",
      "GAGGCCCAGCCCGTGGACGGTGTGAGGCCGGTAGCGGCCCCCGGCGCGCCGGGCCCGGGTCTTCCCGGAG\n",
      "GGGTGGGGTCGGCGGGGGACCGTCCCCCGACCGGCGACCGGCCGCCGCCGGGCGCATTTCCACCGCGGCG\n",
      "GTGTCGGCGGCCCGGCGGATCTTTCCCGCCCCCCGTTCCTCCCGACCCCTCCACCCGCCCTCCCTTCCCC\n",
      "TCGGGTTGCTTGGGAATGCAGCCCAAAGCGGGTGGTAAACTCCATCTAAGGCTAAATACCGGCACGAGAC\n"
     ]
    }
   ],
   "source": [
    "! cut -f2 data/sequences.txt | sort "
   ]
  },
  {
   "cell_type": "markdown",
   "metadata": {},
   "source": [
    "## uniq: check unique values in a column"
   ]
  },
  {
   "cell_type": "markdown",
   "metadata": {},
   "source": [
    "### Here you can see that the last two sequences were duplicates of one another"
   ]
  },
  {
   "cell_type": "code",
   "execution_count": 49,
   "metadata": {},
   "outputs": [
    {
     "name": "stdout",
     "output_type": "stream",
     "text": [
      "\n",
      "CCAGGATTCCCTCAGTAACGGCGAGTGAACAGGGAAGAGCCCAGCGCCGAATCCCCGCCCCGCGGCGGGG\n",
      "CCGTTAAGAGGTAAACGGGTGGGGTCCGCGCAGTCCGCCCGGAGGATTCAACCCGGCGGCGGGTCCGGCC\n",
      "CGATAGTCAACAAGTACCGTAAGGGAAAGTTGAAAAGAACTTTGAAGAGAGAGTTCAAGAGGGCGTGAAA\n",
      "CGCCGCCCCTCCTCCTCCTCCCCGGAGGGGGCGGGCTCCGGCGGGTGCGGGGGTGGGCGGGCGGGGCCGG\n",
      "CGCGACCTCAGATCAGACGTGGCGACCCGCTGAATTTAAGCATATTAGTCAGCGGAGGAGAAGAAACTAA\n",
      "CGCGGGACATGTGGCGTACGGAAGACCCGCTCCCCGGCGCCGCTCGTGGGGGGCCCAAGTCCTTCTGATC\n",
      "GAGGCCCAGCCCGTGGACGGTGTGAGGCCGGTAGCGGCCCCCGGCGCGCCGGGCCCGGGTCTTCCCGGAG\n",
      "GGGTGGGGTCGGCGGGGGACCGTCCCCCGACCGGCGACCGGCCGCCGCCGGGCGCATTTCCACCGCGGCG\n",
      "GTGTCGGCGGCCCGGCGGATCTTTCCCGCCCCCCGTTCCTCCCGACCCCTCCACCCGCCCTCCCTTCCCC\n",
      "TCGGGTTGCTTGGGAATGCAGCCCAAAGCGGGTGGTAAACTCCATCTAAGGCTAAATACCGGCACGAGAC\n"
     ]
    }
   ],
   "source": [
    "! cut -f2 data/sequences.txt | sort | uniq"
   ]
  },
  {
   "cell_type": "markdown",
   "metadata": {},
   "source": [
    "# Common commands"
   ]
  },
  {
   "cell_type": "markdown",
   "metadata": {},
   "source": [
    "### wget: downloading files -- for example genome reference files for the hg38 reference: https://hgdownload.soe.ucsc.edu/goldenPath/hg38/chromosomes/"
   ]
  },
  {
   "cell_type": "code",
   "execution_count": 50,
   "metadata": {},
   "outputs": [
    {
     "name": "stdout",
     "output_type": "stream",
     "text": [
      "--2022-07-13 10:46:56--  https://hgdownload.soe.ucsc.edu/goldenPath/hg38/chromosomes/chr21.fa.gz\n",
      "Resolving hgdownload.soe.ucsc.edu (hgdownload.soe.ucsc.edu)... 128.114.119.163\n",
      "Connecting to hgdownload.soe.ucsc.edu (hgdownload.soe.ucsc.edu)|128.114.119.163|:443... connected.\n",
      "HTTP request sent, awaiting response... 200 OK\n",
      "Length: 12709705 (12M) [application/x-gzip]\n",
      "Saving to: ‘chr21.fa.gz’\n",
      "\n",
      "chr21.fa.gz         100%[===================>]  12.12M  --.-KB/s    in 0.1s    \n",
      "\n",
      "2022-07-13 10:46:56 (92.3 MB/s) - ‘chr21.fa.gz’ saved [12709705/12709705]\n",
      "\n"
     ]
    }
   ],
   "source": [
    "# This will download chromosome chr21 \n",
    "! wget https://hgdownload.soe.ucsc.edu/goldenPath/hg38/chromosomes/chr21.fa.gz"
   ]
  },
  {
   "cell_type": "markdown",
   "metadata": {},
   "source": [
    "#### Now we have it locally"
   ]
  },
  {
   "cell_type": "code",
   "execution_count": 51,
   "metadata": {},
   "outputs": [
    {
     "name": "stdout",
     "output_type": "stream",
     "text": [
      " 1_Intro_to_Programming.ipynb   4_Terminal_Commands.ipynb\t   data\n",
      "'2_Intro to Pandas.ipynb'       5_Intro_to_Data_Structures.ipynb   img\n",
      " 3_Python_Packages_demo.ipynb   chr21.fa.gz\t\t\t   slides\n"
     ]
    }
   ],
   "source": [
    "! ls "
   ]
  },
  {
   "cell_type": "markdown",
   "metadata": {},
   "source": [
    "### gunzip and gzip: unzipping and zipping files"
   ]
  },
  {
   "cell_type": "code",
   "execution_count": 52,
   "metadata": {},
   "outputs": [],
   "source": [
    "! gunzip chr21.fa.gz"
   ]
  },
  {
   "cell_type": "code",
   "execution_count": 53,
   "metadata": {},
   "outputs": [
    {
     "name": "stdout",
     "output_type": "stream",
     "text": [
      " 1_Intro_to_Programming.ipynb   4_Terminal_Commands.ipynb\t   data\n",
      "'2_Intro to Pandas.ipynb'       5_Intro_to_Data_Structures.ipynb   img\n",
      " 3_Python_Packages_demo.ipynb   chr21.fa\t\t\t   slides\n"
     ]
    }
   ],
   "source": [
    "! ls"
   ]
  },
  {
   "cell_type": "code",
   "execution_count": 54,
   "metadata": {},
   "outputs": [
    {
     "name": "stdout",
     "output_type": "stream",
     "text": [
      "TAGACCTTCAACAGTAAGTCAGTTTCACAATACTATTTTTAAATTTCCTA\n",
      "TTAAAATATCACTCTATTTCTTAGTATATCACTTTGGCATATCTGCTTCT\n",
      "TTCTCTGTATTAATAAATAGCGCATACAGTTTGCCTTTGGTACTTTGTAC\n",
      "AATGTTGTTTATCTCAGTGTAAATTGGTAGCGTGTCCACAAAGGCGATTG\n",
      "GAGTGTGAGGCGTGAGTCCTTAGGAGCCTGTCTGCCATCTAAGCCCTGTT\n",
      "AGCATTTTCCTTTACTAATGTTGGGGTGGGGGGACCTCAGAAGGGGCACA\n",
      "GCAAGCATATGAAAGTTTTGTTACAGAGATGCCAGTATTTGTCCTTAGAA\n",
      "CAGGTCCAGTTGACAAAGGCACTGCAGGATATGAAAGATTCTCATTACAA\n",
      "TGTCACGGCAACATGACTGAAATTATTAACTCTCCACGTGGGATGATGGA\n",
      "TGGTATAGGGTGGAGATGTCCTTGGCAGAACATGTTGCTTAATTATCTTC\n"
     ]
    }
   ],
   "source": [
    "# Let's sneak a peak\n",
    "! head -194500 chr21.fa | tail"
   ]
  },
  {
   "cell_type": "markdown",
   "metadata": {},
   "source": [
    "#### Ok back in the box you go"
   ]
  },
  {
   "cell_type": "code",
   "execution_count": 55,
   "metadata": {},
   "outputs": [],
   "source": [
    "! gzip chr21.fa"
   ]
  },
  {
   "cell_type": "code",
   "execution_count": 56,
   "metadata": {},
   "outputs": [
    {
     "name": "stdout",
     "output_type": "stream",
     "text": [
      " 1_Intro_to_Programming.ipynb   4_Terminal_Commands.ipynb\t   data\n",
      "'2_Intro to Pandas.ipynb'       5_Intro_to_Data_Structures.ipynb   img\n",
      " 3_Python_Packages_demo.ipynb   chr21.fa.gz\t\t\t   slides\n"
     ]
    }
   ],
   "source": [
    "! ls"
   ]
  },
  {
   "cell_type": "markdown",
   "metadata": {},
   "source": [
    "#### Remove the files so we are back to square one"
   ]
  },
  {
   "cell_type": "code",
   "execution_count": 57,
   "metadata": {},
   "outputs": [],
   "source": [
    "! rm chr21.fa.gz"
   ]
  },
  {
   "cell_type": "code",
   "execution_count": null,
   "metadata": {},
   "outputs": [],
   "source": []
  }
 ],
 "metadata": {
  "kernelspec": {
   "display_name": "Python 3 (ipykernel)",
   "language": "python",
   "name": "python3"
  },
  "language_info": {
   "codemirror_mode": {
    "name": "ipython",
    "version": 3
   },
   "file_extension": ".py",
   "mimetype": "text/x-python",
   "name": "python",
   "nbconvert_exporter": "python",
   "pygments_lexer": "ipython3",
   "version": "3.9.12"
  }
 },
 "nbformat": 4,
 "nbformat_minor": 4
}
