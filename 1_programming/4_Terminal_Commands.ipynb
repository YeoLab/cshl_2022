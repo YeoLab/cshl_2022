{
 "cells": [
  {
   "cell_type": "markdown",
   "metadata": {},
   "source": [
    "# Terminal Commands and Bash Scripting\n",
    "\n",
    "Cheatsheets to refer to:\n",
    "\n",
    "- This notebook (Adapted from http://people.duke.edu/~ccc14/duke-hts-2018/cliburn/Bash_in_Jupyter.html)\n",
    "\n",
    "- [GettingGeneticsDone.blogspot.com](GettingGeneticsDone.blogspot.com): (via Tufts.edu) Basic cheatsheet for the most common Bash commands\n",
    "\n",
    "- [https://devhints.io/bash](https://devhints.io/bash): Complete-ish vignette of common Bash commands\n"
   ]
  },
  {
   "cell_type": "markdown",
   "metadata": {},
   "source": [
    "## This notebook provides a number of useful commands which you can refer to when navigating the terminal. \n",
    "- These are written in Bash, NOT Python (as we were working with in previous notebooks). \n",
    "- We are able to use bash commands in limited fashion within Jupyter notebooks by appending the \"!\" character to the start of each command (ie. \"ls\" inside a terminal window is equivalent to \"! ls\" inside a Jupyter notebook)\n",
    "- Feel free to explore these commands interactively within this notebook, or within a terminal window (Launcher -> Other -> Terminal)\n"
   ]
  },
  {
   "cell_type": "markdown",
   "metadata": {},
   "source": [
    "## pwd: where am I?"
   ]
  },
  {
   "cell_type": "code",
   "execution_count": 1,
   "metadata": {},
   "outputs": [
    {
     "name": "stdout",
     "output_type": "stream",
     "text": [
      "/home/jovyan/work\n"
     ]
    }
   ],
   "source": [
    "! pwd"
   ]
  },
  {
   "cell_type": "markdown",
   "metadata": {},
   "source": [
    "<img src=\"public-data/1_programming/img/whoami.jpg\">"
   ]
  },
  {
   "cell_type": "markdown",
   "metadata": {},
   "source": [
    "## To continue the existential questions..."
   ]
  },
  {
   "cell_type": "code",
   "execution_count": 2,
   "metadata": {},
   "outputs": [
    {
     "name": "stdout",
     "output_type": "stream",
     "text": [
      "jovyan\n"
     ]
    }
   ],
   "source": [
    "! whoami"
   ]
  },
  {
   "cell_type": "markdown",
   "metadata": {},
   "source": [
    "## cd: navigate between directories"
   ]
  },
  {
   "cell_type": "markdown",
   "metadata": {},
   "source": [
    "* cd <dirname> --> go to a directory"
   ]
  },
  {
   "cell_type": "code",
   "execution_count": 3,
   "metadata": {},
   "outputs": [
    {
     "name": "stdout",
     "output_type": "stream",
     "text": [
      "/bin/bash: line 0: cd: /home/jovyan/work/img: No such file or directory\n",
      "/home/jovyan/work\n"
     ]
    }
   ],
   "source": [
    "! cd /home/jovyan/work/img;pwd"
   ]
  },
  {
   "cell_type": "markdown",
   "metadata": {},
   "source": [
    "###### You can go back *up* a level with the \"..\" notation"
   ]
  },
  {
   "cell_type": "code",
   "execution_count": 4,
   "metadata": {},
   "outputs": [
    {
     "name": "stdout",
     "output_type": "stream",
     "text": [
      "/home/jovyan\n"
     ]
    }
   ],
   "source": [
    "! cd ..;pwd"
   ]
  },
  {
   "cell_type": "code",
   "execution_count": 5,
   "metadata": {},
   "outputs": [
    {
     "name": "stdout",
     "output_type": "stream",
     "text": [
      "/home/jovyan/work\n"
     ]
    }
   ],
   "source": [
    "! pwd"
   ]
  },
  {
   "cell_type": "markdown",
   "metadata": {},
   "source": [
    "Let's go back into our playground"
   ]
  },
  {
   "cell_type": "markdown",
   "metadata": {},
   "source": [
    "## echo: print out a string"
   ]
  },
  {
   "cell_type": "code",
   "execution_count": 6,
   "metadata": {},
   "outputs": [
    {
     "name": "stdout",
     "output_type": "stream",
     "text": [
      "is there anybody out there?\n"
     ]
    }
   ],
   "source": [
    "! echo \"is there anybody out there?\""
   ]
  },
  {
   "cell_type": "markdown",
   "metadata": {},
   "source": [
    "## ls: check out the contents of a folder"
   ]
  },
  {
   "cell_type": "code",
   "execution_count": 7,
   "metadata": {},
   "outputs": [
    {
     "name": "stdout",
     "output_type": "stream",
     "text": [
      " 1_Intro_to_Programming.ipynb\t\t\t public-data\n",
      "'2_Intro to Pandas.ipynb'\t\t\t shared-data\n",
      " 3_Python_Packages_demo.ipynb\t\t\t Welcome.md\n",
      "'4_Terminal Commands and Bash Scripting.ipynb'\n"
     ]
    }
   ],
   "source": [
    "! ls"
   ]
  },
  {
   "cell_type": "markdown",
   "metadata": {},
   "source": [
    "#### extra tags get you more information"
   ]
  },
  {
   "cell_type": "code",
   "execution_count": 8,
   "metadata": {},
   "outputs": [
    {
     "name": "stdout",
     "output_type": "stream",
     "text": [
      "total 336K\n",
      "-rw-r--r-- 1 jovyan  1001  39K Jun 29 00:20  1_Intro_to_Programming.ipynb\n",
      "-rw-r--r-- 1 jovyan  1001  93K Jun 29 00:22 '2_Intro to Pandas.ipynb'\n",
      "-rw-r--r-- 1 jovyan  1001 145K Jun 29 00:24  3_Python_Packages_demo.ipynb\n",
      "-rw-r--r-- 1 jovyan  1001  38K Jun 29 00:20 '4_Terminal Commands and Bash Scripting.ipynb'\n",
      "drwxr-sr-x 8 jovyan users 6.0K Jun 28 23:16  public-data\n",
      "drwxr-sr-x 2 jovyan  1001 6.0K Jun 28 20:55  shared-data\n",
      "-r--r--r-- 1 root   root   361 Jun 29 00:15  Welcome.md\n"
     ]
    }
   ],
   "source": [
    "! ls -lh"
   ]
  },
  {
   "cell_type": "markdown",
   "metadata": {},
   "source": [
    "#### what if we only want to list files with a certain extension?"
   ]
  },
  {
   "cell_type": "code",
   "execution_count": 9,
   "metadata": {},
   "outputs": [
    {
     "name": "stdout",
     "output_type": "stream",
     "text": [
      "ls: cannot access 'img/*.png': No such file or directory\n"
     ]
    }
   ],
   "source": [
    "# The asterisk is a \"wild card\" that matches any character\n",
    "! ls img/*.png"
   ]
  },
  {
   "cell_type": "code",
   "execution_count": 10,
   "metadata": {},
   "outputs": [
    {
     "name": "stdout",
     "output_type": "stream",
     "text": [
      "ls: cannot access 'img/*.png': No such file or directory\n"
     ]
    }
   ],
   "source": [
    "! ls -lh img/*.png"
   ]
  },
  {
   "cell_type": "code",
   "execution_count": 11,
   "metadata": {},
   "outputs": [],
   "source": [
    "### YOU TRY: list only the files that end in .txt"
   ]
  },
  {
   "cell_type": "markdown",
   "metadata": {},
   "source": [
    "## mkdir: make a directory"
   ]
  },
  {
   "cell_type": "code",
   "execution_count": 12,
   "metadata": {},
   "outputs": [],
   "source": [
    "! mkdir shiny_new"
   ]
  },
  {
   "cell_type": "markdown",
   "metadata": {},
   "source": [
    "##### Look it's there!"
   ]
  },
  {
   "cell_type": "code",
   "execution_count": 13,
   "metadata": {},
   "outputs": [
    {
     "name": "stdout",
     "output_type": "stream",
     "text": [
      "total 340K\n",
      "-rw-r--r-- 1 jovyan  1001  39K Jun 29 00:20  1_Intro_to_Programming.ipynb\n",
      "-rw-r--r-- 1 jovyan  1001  93K Jun 29 00:22 '2_Intro to Pandas.ipynb'\n",
      "-rw-r--r-- 1 jovyan  1001 145K Jun 29 00:24  3_Python_Packages_demo.ipynb\n",
      "-rw-r--r-- 1 jovyan  1001  38K Jun 29 00:20 '4_Terminal Commands and Bash Scripting.ipynb'\n",
      "drwxr-sr-x 8 jovyan users 6.0K Jun 28 23:16  public-data\n",
      "drwxr-sr-x 2 jovyan  1001 6.0K Jun 28 20:55  shared-data\n",
      "drwxr-sr-x 2 jovyan  1001 6.0K Jun 29 00:24  shiny_new\n",
      "-r--r--r-- 1 root   root   361 Jun 29 00:15  Welcome.md\n"
     ]
    }
   ],
   "source": [
    "! ls -lh"
   ]
  },
  {
   "cell_type": "markdown",
   "metadata": {},
   "source": [
    "## cp: Copy a file"
   ]
  },
  {
   "cell_type": "code",
   "execution_count": 14,
   "metadata": {},
   "outputs": [
    {
     "name": "stdout",
     "output_type": "stream",
     "text": [
      "cp: cannot stat 'data/hg19.chrom.sizes.txt': No such file or directory\n",
      "total 0\n"
     ]
    }
   ],
   "source": [
    "! cp data/hg19.chrom.sizes.txt shiny_new/hg19.chrom.sizes.txt.copy\n",
    "! ls -lh shiny_new"
   ]
  },
  {
   "cell_type": "markdown",
   "metadata": {},
   "source": [
    "#### cp -r to copy a directory and all of its contents"
   ]
  },
  {
   "cell_type": "code",
   "execution_count": 15,
   "metadata": {},
   "outputs": [],
   "source": [
    "! cp -r shiny_new same_old\n"
   ]
  },
  {
   "cell_type": "code",
   "execution_count": 16,
   "metadata": {},
   "outputs": [
    {
     "name": "stdout",
     "output_type": "stream",
     "text": [
      "total 344K\n",
      "-rw-r--r-- 1 jovyan  1001  39K Jun 29 00:20  1_Intro_to_Programming.ipynb\n",
      "-rw-r--r-- 1 jovyan  1001  93K Jun 29 00:22 '2_Intro to Pandas.ipynb'\n",
      "-rw-r--r-- 1 jovyan  1001 145K Jun 29 00:24  3_Python_Packages_demo.ipynb\n",
      "-rw-r--r-- 1 jovyan  1001  38K Jun 29 00:20 '4_Terminal Commands and Bash Scripting.ipynb'\n",
      "drwxr-sr-x 8 jovyan users 6.0K Jun 28 23:16  public-data\n",
      "drwxr-sr-x 2 jovyan  1001 6.0K Jun 29 00:24  same_old\n",
      "drwxr-sr-x 2 jovyan  1001 6.0K Jun 28 20:55  shared-data\n",
      "drwxr-sr-x 2 jovyan  1001 6.0K Jun 29 00:24  shiny_new\n",
      "-r--r--r-- 1 root   root   361 Jun 29 00:15  Welcome.md\n"
     ]
    }
   ],
   "source": [
    "# So now we should have two new directories in our bash playground: same_old and shiny_new\n",
    "! ls -lh"
   ]
  },
  {
   "cell_type": "code",
   "execution_count": 17,
   "metadata": {},
   "outputs": [
    {
     "name": "stdout",
     "output_type": "stream",
     "text": [
      "total 0\n"
     ]
    }
   ],
   "source": [
    "! ls -lh same_old"
   ]
  },
  {
   "cell_type": "code",
   "execution_count": 18,
   "metadata": {},
   "outputs": [
    {
     "name": "stdout",
     "output_type": "stream",
     "text": [
      "total 0\n"
     ]
    }
   ],
   "source": [
    "# And shiny new should contain the same contents as same old\n",
    "! ls -lh shiny_new"
   ]
  },
  {
   "cell_type": "markdown",
   "metadata": {},
   "source": [
    "## touch: make an empty file"
   ]
  },
  {
   "cell_type": "code",
   "execution_count": 19,
   "metadata": {},
   "outputs": [],
   "source": [
    "! touch empty_inside.txt"
   ]
  },
  {
   "cell_type": "code",
   "execution_count": 20,
   "metadata": {},
   "outputs": [
    {
     "name": "stdout",
     "output_type": "stream",
     "text": [
      "total 348K\n",
      "-rw-r--r-- 1 jovyan  1001  39K Jun 29 00:20  1_Intro_to_Programming.ipynb\n",
      "-rw-r--r-- 1 jovyan  1001  93K Jun 29 00:22 '2_Intro to Pandas.ipynb'\n",
      "-rw-r--r-- 1 jovyan  1001 145K Jun 29 00:24  3_Python_Packages_demo.ipynb\n",
      "-rw-r--r-- 1 jovyan  1001  38K Jun 29 00:20 '4_Terminal Commands and Bash Scripting.ipynb'\n",
      "-rw-r--r-- 1 jovyan  1001    0 Jun 29 00:24  empty_inside.txt\n",
      "drwxr-sr-x 8 jovyan users 6.0K Jun 28 23:16  public-data\n",
      "drwxr-sr-x 2 jovyan  1001 6.0K Jun 29 00:24  same_old\n",
      "drwxr-sr-x 2 jovyan  1001 6.0K Jun 28 20:55  shared-data\n",
      "drwxr-sr-x 2 jovyan  1001 6.0K Jun 29 00:24  shiny_new\n",
      "-r--r--r-- 1 root   root   361 Jun 29 00:15  Welcome.md\n"
     ]
    }
   ],
   "source": [
    "# Don't read into that name too much. Just trust me, it's empty. Look at the size. Or go check it yourself later!\n",
    "! ls -lh"
   ]
  },
  {
   "cell_type": "markdown",
   "metadata": {},
   "source": [
    "## mv: Move or rename a file\n",
    "#### if you use mv where the destination is in the same folder you will simply rename the file"
   ]
  },
  {
   "cell_type": "code",
   "execution_count": 21,
   "metadata": {},
   "outputs": [],
   "source": [
    "# You before this lesson --> you after this lesson? \n",
    "! mv empty_inside.txt fulfilled.txt"
   ]
  },
  {
   "cell_type": "code",
   "execution_count": 22,
   "metadata": {},
   "outputs": [
    {
     "name": "stdout",
     "output_type": "stream",
     "text": [
      "total 348K\n",
      "-rw-r--r-- 1 jovyan  1001  39K Jun 29 00:20  1_Intro_to_Programming.ipynb\n",
      "-rw-r--r-- 1 jovyan  1001  93K Jun 29 00:22 '2_Intro to Pandas.ipynb'\n",
      "-rw-r--r-- 1 jovyan  1001 145K Jun 29 00:24  3_Python_Packages_demo.ipynb\n",
      "-rw-r--r-- 1 jovyan  1001  38K Jun 29 00:20 '4_Terminal Commands and Bash Scripting.ipynb'\n",
      "-rw-r--r-- 1 jovyan  1001    0 Jun 29 00:24  fulfilled.txt\n",
      "drwxr-sr-x 8 jovyan users 6.0K Jun 28 23:16  public-data\n",
      "drwxr-sr-x 2 jovyan  1001 6.0K Jun 29 00:24  same_old\n",
      "drwxr-sr-x 2 jovyan  1001 6.0K Jun 28 20:55  shared-data\n",
      "drwxr-sr-x 2 jovyan  1001 6.0K Jun 29 00:24  shiny_new\n",
      "-r--r--r-- 1 root   root   361 Jun 29 00:15  Welcome.md\n"
     ]
    }
   ],
   "source": [
    "! ls -lh"
   ]
  },
  {
   "cell_type": "markdown",
   "metadata": {},
   "source": [
    "### If you use mv where the destination is in a different folder you will move the file"
   ]
  },
  {
   "cell_type": "code",
   "execution_count": 23,
   "metadata": {},
   "outputs": [],
   "source": [
    "! mv fulfilled.txt shiny_new"
   ]
  },
  {
   "cell_type": "code",
   "execution_count": 24,
   "metadata": {},
   "outputs": [
    {
     "name": "stdout",
     "output_type": "stream",
     "text": [
      "total 344K\n",
      "-rw-r--r-- 1 jovyan  1001  39K Jun 29 00:20  1_Intro_to_Programming.ipynb\n",
      "-rw-r--r-- 1 jovyan  1001  93K Jun 29 00:22 '2_Intro to Pandas.ipynb'\n",
      "-rw-r--r-- 1 jovyan  1001 145K Jun 29 00:24  3_Python_Packages_demo.ipynb\n",
      "-rw-r--r-- 1 jovyan  1001  38K Jun 29 00:20 '4_Terminal Commands and Bash Scripting.ipynb'\n",
      "drwxr-sr-x 8 jovyan users 6.0K Jun 28 23:16  public-data\n",
      "drwxr-sr-x 2 jovyan  1001 6.0K Jun 29 00:24  same_old\n",
      "drwxr-sr-x 2 jovyan  1001 6.0K Jun 28 20:55  shared-data\n",
      "drwxr-sr-x 2 jovyan  1001 6.0K Jun 29 00:24  shiny_new\n",
      "-r--r--r-- 1 root   root   361 Jun 29 00:15  Welcome.md\n"
     ]
    }
   ],
   "source": [
    "# Not here at the main folder level anymore...\n",
    "! ls -lh"
   ]
  },
  {
   "cell_type": "code",
   "execution_count": 25,
   "metadata": {},
   "outputs": [
    {
     "name": "stdout",
     "output_type": "stream",
     "text": [
      "total 4.0K\n",
      "-rw-r--r-- 1 jovyan 1001 0 Jun 29 00:24 fulfilled.txt\n"
     ]
    }
   ],
   "source": [
    "# Here!\n",
    "! ls -lh shiny_new"
   ]
  },
  {
   "cell_type": "markdown",
   "metadata": {},
   "source": [
    "### With great power comes great responsibility... use this carefully! There is no \"undo\" in terminal...\n",
    "# rm: delete file"
   ]
  },
  {
   "cell_type": "code",
   "execution_count": 26,
   "metadata": {},
   "outputs": [],
   "source": [
    "! rm shiny_new/fulfilled.txt"
   ]
  },
  {
   "cell_type": "code",
   "execution_count": 27,
   "metadata": {},
   "outputs": [
    {
     "name": "stdout",
     "output_type": "stream",
     "text": [
      "total 0\n"
     ]
    }
   ],
   "source": [
    "! ls -lh shiny_new"
   ]
  },
  {
   "cell_type": "markdown",
   "metadata": {},
   "source": [
    "### rm -r: delete directory and all of its contents"
   ]
  },
  {
   "cell_type": "code",
   "execution_count": 28,
   "metadata": {},
   "outputs": [],
   "source": [
    "! rm -r shiny_new\n",
    "! rm -r same_old"
   ]
  },
  {
   "cell_type": "code",
   "execution_count": 29,
   "metadata": {},
   "outputs": [],
   "source": [
    "### YOU TRY: delete the directory \"same_old\" \n",
    "\n"
   ]
  },
  {
   "cell_type": "code",
   "execution_count": 30,
   "metadata": {},
   "outputs": [
    {
     "name": "stdout",
     "output_type": "stream",
     "text": [
      "total 336K\n",
      "-rw-r--r-- 1 jovyan  1001  39K Jun 29 00:20  1_Intro_to_Programming.ipynb\n",
      "-rw-r--r-- 1 jovyan  1001  93K Jun 29 00:22 '2_Intro to Pandas.ipynb'\n",
      "-rw-r--r-- 1 jovyan  1001 145K Jun 29 00:24  3_Python_Packages_demo.ipynb\n",
      "-rw-r--r-- 1 jovyan  1001  38K Jun 29 00:20 '4_Terminal Commands and Bash Scripting.ipynb'\n",
      "drwxr-sr-x 8 jovyan users 6.0K Jun 28 23:16  public-data\n",
      "drwxr-sr-x 2 jovyan  1001 6.0K Jun 28 20:55  shared-data\n",
      "-r--r--r-- 1 root   root   361 Jun 29 00:15  Welcome.md\n"
     ]
    }
   ],
   "source": [
    "! ls -lh"
   ]
  },
  {
   "cell_type": "markdown",
   "metadata": {},
   "source": [
    "# Now let's get fancy"
   ]
  },
  {
   "cell_type": "markdown",
   "metadata": {},
   "source": [
    "#### You can do quite a lot of text processing and execute more complex file operations in terminal. Check out the contents of the file sequences.txt in this directory by using the \"cat\" command:"
   ]
  },
  {
   "cell_type": "code",
   "execution_count": 31,
   "metadata": {},
   "outputs": [
    {
     "name": "stdout",
     "output_type": "stream",
     "text": [
      "cat: data/sequences.txt: No such file or directory\n"
     ]
    }
   ],
   "source": [
    "! cat data/sequences.txt"
   ]
  },
  {
   "cell_type": "markdown",
   "metadata": {},
   "source": [
    "### You can look at just the beginning or just the end of a file"
   ]
  },
  {
   "cell_type": "code",
   "execution_count": 32,
   "metadata": {},
   "outputs": [
    {
     "name": "stdout",
     "output_type": "stream",
     "text": [
      "head: cannot open 'data/sequences.txt' for reading: No such file or directory\n"
     ]
    }
   ],
   "source": [
    "! head -2 data/sequences.txt"
   ]
  },
  {
   "cell_type": "code",
   "execution_count": 33,
   "metadata": {},
   "outputs": [
    {
     "name": "stdout",
     "output_type": "stream",
     "text": [
      "tail: cannot open 'data/sequences.txt' for reading: No such file or directory\n"
     ]
    }
   ],
   "source": [
    "! tail -2 data/sequences.txt "
   ]
  },
  {
   "cell_type": "markdown",
   "metadata": {},
   "source": [
    "### You can split up a file by columns!"
   ]
  },
  {
   "cell_type": "code",
   "execution_count": 34,
   "metadata": {},
   "outputs": [
    {
     "name": "stdout",
     "output_type": "stream",
     "text": [
      "cut: data/sequences.txt: No such file or directory\n"
     ]
    }
   ],
   "source": [
    "! cut -f1 data/sequences.txt"
   ]
  },
  {
   "cell_type": "code",
   "execution_count": 35,
   "metadata": {},
   "outputs": [],
   "source": [
    "### YOU TRY: print out just the second column\n",
    "\n"
   ]
  },
  {
   "cell_type": "markdown",
   "metadata": {},
   "source": [
    "### Piping "
   ]
  },
  {
   "cell_type": "markdown",
   "metadata": {},
   "source": [
    "<img src=\"public-data/1_programming/img/mariopipe.png\">"
   ]
  },
  {
   "cell_type": "markdown",
   "metadata": {},
   "source": [
    "#### You can use pipes (\"|\") to send the output of one command to another command as input"
   ]
  },
  {
   "cell_type": "code",
   "execution_count": 36,
   "metadata": {},
   "outputs": [
    {
     "name": "stdout",
     "output_type": "stream",
     "text": [
      "head: cannot open 'data/sequences.txt' for reading: No such file or directory\n"
     ]
    }
   ],
   "source": [
    "### What do you think will be output using this combination of commands?\n",
    "! head -3 data/sequences.txt | tail -2"
   ]
  },
  {
   "cell_type": "code",
   "execution_count": 37,
   "metadata": {},
   "outputs": [],
   "source": [
    "### NOW YOU TRY: retrieve just the second column of the third line (seq C) from the sequences.txt file using \n",
    "# a combination of tail, head, and cut with a couple of pipes in the mix.\n",
    "\n"
   ]
  },
  {
   "cell_type": "markdown",
   "metadata": {},
   "source": [
    "### grep: searching for specific text within a file"
   ]
  },
  {
   "cell_type": "code",
   "execution_count": 38,
   "metadata": {},
   "outputs": [
    {
     "name": "stdout",
     "output_type": "stream",
     "text": [
      "grep: data/sequences.txt: No such file or directory\n"
     ]
    }
   ],
   "source": [
    "! grep \"TAAC\" data/sequences.txt"
   ]
  },
  {
   "cell_type": "markdown",
   "metadata": {},
   "source": [
    "#### You can use certain expressions to filter with extra parameters. For example, in this context the | means \"or\""
   ]
  },
  {
   "cell_type": "code",
   "execution_count": 39,
   "metadata": {},
   "outputs": [
    {
     "name": "stdout",
     "output_type": "stream",
     "text": [
      "grep: data/sequences.txt: No such file or directory\n"
     ]
    }
   ],
   "source": [
    "! grep \"[B|D]\" data/sequences.txt"
   ]
  },
  {
   "cell_type": "code",
   "execution_count": 40,
   "metadata": {},
   "outputs": [],
   "source": [
    "### NOW YOU TRY: Okay, try finding the line that contains \"TAAC\" plus the line after it using grep.\n",
    "\n",
    "\n"
   ]
  },
  {
   "cell_type": "markdown",
   "metadata": {},
   "source": [
    "### tr: substitution"
   ]
  },
  {
   "cell_type": "markdown",
   "metadata": {},
   "source": [
    "#### Let's use tr to turn our DNA sequences into RNA sequences instead!"
   ]
  },
  {
   "cell_type": "code",
   "execution_count": 41,
   "metadata": {},
   "outputs": [
    {
     "name": "stdout",
     "output_type": "stream",
     "text": [
      "cat: data/sequences.txt: No such file or directory\n"
     ]
    }
   ],
   "source": [
    "! cat data/sequences.txt | tr T U"
   ]
  },
  {
   "cell_type": "markdown",
   "metadata": {},
   "source": [
    "#### We can use tr to find the complement of DNA sequences"
   ]
  },
  {
   "cell_type": "code",
   "execution_count": 42,
   "metadata": {},
   "outputs": [
    {
     "name": "stdout",
     "output_type": "stream",
     "text": [
      "cut: data/sequences.txt: No such file or directory\n"
     ]
    }
   ],
   "source": [
    "! cut -f2 data/sequences.txt | tr ACGT TGCA\n"
   ]
  },
  {
   "cell_type": "markdown",
   "metadata": {},
   "source": [
    "## rv: reverse "
   ]
  },
  {
   "cell_type": "markdown",
   "metadata": {},
   "source": [
    "#### We can tack on a \"reverse\" command to get the reverse complement of a DNA sequence"
   ]
  },
  {
   "cell_type": "code",
   "execution_count": 43,
   "metadata": {},
   "outputs": [
    {
     "name": "stdout",
     "output_type": "stream",
     "text": [
      "cut: data/sequences.txt: No such file or directory\n"
     ]
    }
   ],
   "source": [
    "! cut -f2 data/sequences.txt | tr ACGT TGCA | rev\n"
   ]
  },
  {
   "cell_type": "markdown",
   "metadata": {},
   "source": [
    "## wc: word/line/character count"
   ]
  },
  {
   "cell_type": "code",
   "execution_count": 44,
   "metadata": {},
   "outputs": [
    {
     "name": "stdout",
     "output_type": "stream",
     "text": [
      "wc: data/sequences.txt: No such file or directory\n"
     ]
    }
   ],
   "source": [
    "! wc data/sequences.txt"
   ]
  },
  {
   "cell_type": "markdown",
   "metadata": {},
   "source": [
    "#### Get just lines"
   ]
  },
  {
   "cell_type": "code",
   "execution_count": 45,
   "metadata": {},
   "outputs": [
    {
     "name": "stdout",
     "output_type": "stream",
     "text": [
      "wc: data/sequences.txt: No such file or directory\n"
     ]
    }
   ],
   "source": [
    "! wc -l data/sequences.txt"
   ]
  },
  {
   "cell_type": "markdown",
   "metadata": {},
   "source": [
    "#### Get just words"
   ]
  },
  {
   "cell_type": "code",
   "execution_count": 46,
   "metadata": {},
   "outputs": [
    {
     "name": "stdout",
     "output_type": "stream",
     "text": [
      "wc: data/sequences.txt: No such file or directory\n"
     ]
    }
   ],
   "source": [
    "! wc -w data/sequences.txt"
   ]
  },
  {
   "cell_type": "markdown",
   "metadata": {},
   "source": [
    "#### Get just characters"
   ]
  },
  {
   "cell_type": "code",
   "execution_count": 47,
   "metadata": {},
   "outputs": [
    {
     "name": "stdout",
     "output_type": "stream",
     "text": [
      "wc: data/sequences.txt: No such file or directory\n"
     ]
    }
   ],
   "source": [
    "! wc -c data/sequences.txt"
   ]
  },
  {
   "cell_type": "markdown",
   "metadata": {},
   "source": [
    "## sort: sort values in a column"
   ]
  },
  {
   "cell_type": "code",
   "execution_count": 48,
   "metadata": {},
   "outputs": [
    {
     "name": "stdout",
     "output_type": "stream",
     "text": [
      "cut: data/sequences.txt: No such file or directory\n"
     ]
    }
   ],
   "source": [
    "! cut -f2 data/sequences.txt | sort "
   ]
  },
  {
   "cell_type": "markdown",
   "metadata": {},
   "source": [
    "## uniq: check unique values in a column"
   ]
  },
  {
   "cell_type": "markdown",
   "metadata": {},
   "source": [
    "### Here you can see that the last two sequences were duplicates of one another"
   ]
  },
  {
   "cell_type": "code",
   "execution_count": 49,
   "metadata": {},
   "outputs": [
    {
     "name": "stdout",
     "output_type": "stream",
     "text": [
      "cut: data/sequences.txt: No such file or directory\n"
     ]
    }
   ],
   "source": [
    "! cut -f2 data/sequences.txt | sort | uniq"
   ]
  },
  {
   "cell_type": "markdown",
   "metadata": {},
   "source": [
    "# Common commands"
   ]
  },
  {
   "cell_type": "markdown",
   "metadata": {},
   "source": [
    "### wget: downloading files -- for example genome reference files for the hg38 reference: https://hgdownload.soe.ucsc.edu/goldenPath/hg38/chromosomes/"
   ]
  },
  {
   "cell_type": "code",
   "execution_count": 50,
   "metadata": {},
   "outputs": [
    {
     "name": "stdout",
     "output_type": "stream",
     "text": [
      "--2022-06-29 00:24:43--  https://hgdownload.soe.ucsc.edu/goldenPath/hg38/chromosomes/chr21.fa.gz\n",
      "Resolving hgdownload.soe.ucsc.edu (hgdownload.soe.ucsc.edu)... 128.114.119.163\n",
      "Connecting to hgdownload.soe.ucsc.edu (hgdownload.soe.ucsc.edu)|128.114.119.163|:443... connected.\n",
      "HTTP request sent, awaiting response... 200 OK\n",
      "Length: 12709705 (12M) [application/x-gzip]\n",
      "Saving to: ‘chr21.fa.gz’\n",
      "\n",
      "chr21.fa.gz         100%[===================>]  12.12M  30.9MB/s    in 0.4s    \n",
      "\n",
      "2022-06-29 00:24:43 (30.9 MB/s) - ‘chr21.fa.gz’ saved [12709705/12709705]\n",
      "\n"
     ]
    }
   ],
   "source": [
    "# This will download chromosome chr21 \n",
    "! wget https://hgdownload.soe.ucsc.edu/goldenPath/hg38/chromosomes/chr21.fa.gz"
   ]
  },
  {
   "cell_type": "markdown",
   "metadata": {},
   "source": [
    "#### Now we have it locally"
   ]
  },
  {
   "cell_type": "code",
   "execution_count": 51,
   "metadata": {},
   "outputs": [
    {
     "name": "stdout",
     "output_type": "stream",
     "text": [
      " 1_Intro_to_Programming.ipynb\t\t\t chr21.fa.gz\n",
      "'2_Intro to Pandas.ipynb'\t\t\t public-data\n",
      " 3_Python_Packages_demo.ipynb\t\t\t shared-data\n",
      "'4_Terminal Commands and Bash Scripting.ipynb'\t Welcome.md\n"
     ]
    }
   ],
   "source": [
    "! ls "
   ]
  },
  {
   "cell_type": "markdown",
   "metadata": {},
   "source": [
    "### gunzip and gzip: unzipping and zipping files"
   ]
  },
  {
   "cell_type": "code",
   "execution_count": 52,
   "metadata": {},
   "outputs": [],
   "source": [
    "! gunzip chr21.fa.gz"
   ]
  },
  {
   "cell_type": "code",
   "execution_count": 53,
   "metadata": {},
   "outputs": [
    {
     "name": "stdout",
     "output_type": "stream",
     "text": [
      " 1_Intro_to_Programming.ipynb\t\t\t chr21.fa\n",
      "'2_Intro to Pandas.ipynb'\t\t\t public-data\n",
      " 3_Python_Packages_demo.ipynb\t\t\t shared-data\n",
      "'4_Terminal Commands and Bash Scripting.ipynb'\t Welcome.md\n"
     ]
    }
   ],
   "source": [
    "! ls"
   ]
  },
  {
   "cell_type": "code",
   "execution_count": 54,
   "metadata": {},
   "outputs": [
    {
     "name": "stdout",
     "output_type": "stream",
     "text": [
      "TAGACCTTCAACAGTAAGTCAGTTTCACAATACTATTTTTAAATTTCCTA\n",
      "TTAAAATATCACTCTATTTCTTAGTATATCACTTTGGCATATCTGCTTCT\n",
      "TTCTCTGTATTAATAAATAGCGCATACAGTTTGCCTTTGGTACTTTGTAC\n",
      "AATGTTGTTTATCTCAGTGTAAATTGGTAGCGTGTCCACAAAGGCGATTG\n",
      "GAGTGTGAGGCGTGAGTCCTTAGGAGCCTGTCTGCCATCTAAGCCCTGTT\n",
      "AGCATTTTCCTTTACTAATGTTGGGGTGGGGGGACCTCAGAAGGGGCACA\n",
      "GCAAGCATATGAAAGTTTTGTTACAGAGATGCCAGTATTTGTCCTTAGAA\n",
      "CAGGTCCAGTTGACAAAGGCACTGCAGGATATGAAAGATTCTCATTACAA\n",
      "TGTCACGGCAACATGACTGAAATTATTAACTCTCCACGTGGGATGATGGA\n",
      "TGGTATAGGGTGGAGATGTCCTTGGCAGAACATGTTGCTTAATTATCTTC\n"
     ]
    }
   ],
   "source": [
    "# Let's sneak a peak\n",
    "! head -194500 chr21.fa | tail"
   ]
  },
  {
   "cell_type": "markdown",
   "metadata": {},
   "source": [
    "#### Ok back in the box you go"
   ]
  },
  {
   "cell_type": "code",
   "execution_count": 55,
   "metadata": {},
   "outputs": [],
   "source": [
    "! gzip chr21.fa"
   ]
  },
  {
   "cell_type": "code",
   "execution_count": 56,
   "metadata": {},
   "outputs": [
    {
     "name": "stdout",
     "output_type": "stream",
     "text": [
      " 1_Intro_to_Programming.ipynb\t\t\t chr21.fa.gz\n",
      "'2_Intro to Pandas.ipynb'\t\t\t public-data\n",
      " 3_Python_Packages_demo.ipynb\t\t\t shared-data\n",
      "'4_Terminal Commands and Bash Scripting.ipynb'\t Welcome.md\n"
     ]
    }
   ],
   "source": [
    "! ls"
   ]
  },
  {
   "cell_type": "markdown",
   "metadata": {},
   "source": [
    "#### Remove the files so we are back to square one"
   ]
  },
  {
   "cell_type": "code",
   "execution_count": 57,
   "metadata": {},
   "outputs": [],
   "source": [
    "! rm chr21.fa.gz"
   ]
  },
  {
   "cell_type": "code",
   "execution_count": null,
   "metadata": {},
   "outputs": [],
   "source": []
  }
 ],
 "metadata": {
  "kernelspec": {
   "display_name": "Python 3 (ipykernel)",
   "language": "python",
   "name": "python3"
  },
  "language_info": {
   "codemirror_mode": {
    "name": "ipython",
    "version": 3
   },
   "file_extension": ".py",
   "mimetype": "text/x-python",
   "name": "python",
   "nbconvert_exporter": "python",
   "pygments_lexer": "ipython3",
   "version": "3.9.7"
  }
 },
 "nbformat": 4,
 "nbformat_minor": 4
}
