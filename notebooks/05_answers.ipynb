{
 "cells": [
  {
   "cell_type": "markdown",
   "metadata": {},
   "source": [
    "# Answers to Exercise 1 (Downloading data)"
   ]
  },
  {
   "cell_type": "markdown",
   "metadata": {},
   "source": [
    "### Haber et al.\n",
    "- Find the GEO accession number at the end of the publication: https://www.ncbi.nlm.nih.gov/pmc/articles/PMC6022292/\n",
    "- Visit: [GSE92332](https://www.ncbi.nlm.nih.gov/geo/query/acc.cgi?acc=GSE92332)\n",
    "- Locate the accompanying SRA project link: [SRP095033](https://www.ncbi.nlm.nih.gov/sra?term=SRP095033)\n",
    "- Search for \"SRP095033 Atlas1\" in the search bar since there are many experiments associated with this project\n",
    "- Atlas1 contains two runs, let's download one of them: [SRR6254355](https://trace.ncbi.nlm.nih.gov/Traces/sra/?run=SRR6254355)\n",
    "- 10X raw data is sometimes uploaded as a BAM file. Navigate to the \"Download\" tab and download: [Atlas1.bam](https://sra-download.ncbi.nlm.nih.gov/traces/sra53/SRZ/006254/SRR6254355/Atlas1.bam)"
   ]
  },
  {
   "cell_type": "markdown",
   "metadata": {},
   "source": [
    "### Macosko et al.\n",
    "- Find the GEO accession number at the end of the publication: [Highly parallel genome-wide expression profiling of individual cells using nanoliter droplets](https://www.ncbi.nlm.nih.gov/pmc/articles/PMC4481139/)\n",
    "- Visit: [GSE63473](https://www.ncbi.nlm.nih.gov/geo/query/acc.cgi?acc=GSE63473)\n",
    "- This GEO ID represents a superseries, which contains the P14 mouse retina 1 subseries: [GSM1626793](https://www.ncbi.nlm.nih.gov/geo/query/acc.cgi?acc=GSM1626793) \n",
    "- Locate the accompanying SRA experiment link: [SRX907219](https://www.ncbi.nlm.nih.gov/sra?term=SRX907219)\n",
    "- This experiment contains one run: [SRR1853178](https://trace.ncbi.nlm.nih.gov/Traces/sra/?run=SRR1853178)\n",
    "- Use fastq-dump to download the file: \"fastq-dump --gzip --split-files SRR1853178\""
   ]
  },
  {
   "cell_type": "markdown",
   "metadata": {},
   "source": [
    "# Answers to Exercise 2 (Aggregating QC summaries)"
   ]
  },
  {
   "cell_type": "code",
   "execution_count": 1,
   "metadata": {},
   "outputs": [],
   "source": [
    "import pandas as pd\n",
    "import glob\n",
    "import os\n",
    "import re"
   ]
  },
  {
   "cell_type": "markdown",
   "metadata": {},
   "source": [
    "### Find and list all files we want to compile\n",
    "- here we hardcoded the paths, you can also use glob if you'd like."
   ]
  },
  {
   "cell_type": "code",
   "execution_count": 2,
   "metadata": {},
   "outputs": [
    {
     "data": {
      "text/plain": [
       "['/oasis/tscc/scratch/CSHL_single_cell_2019/programming_exercise_material/1k_brain_cells/outs/metrics_summary.csv',\n",
       " '/oasis/tscc/scratch/CSHL_single_cell_2019/programming_exercise_material/1k_heart_cells/outs/metrics_summary.csv']"
      ]
     },
     "execution_count": 2,
     "metadata": {},
     "output_type": "execute_result"
    }
   ],
   "source": [
    "brain_cells_summary = '/oasis/tscc/scratch/CSHL_single_cell_2019/programming_exercise_material/1k_brain_cells/outs/metrics_summary.csv'\n",
    "heart_cells_summary = '/oasis/tscc/scratch/CSHL_single_cell_2019/programming_exercise_material/1k_heart_cells/outs/metrics_summary.csv'\n",
    "\n",
    "\n",
    "all_metrics_summaries = [brain_cells_summary, heart_cells_summary]\n",
    "all_metrics_summaries"
   ]
  },
  {
   "cell_type": "markdown",
   "metadata": {},
   "source": [
    "### Use read pd.concat() to merge each dataframe into one"
   ]
  },
  {
   "cell_type": "code",
   "execution_count": 3,
   "metadata": {},
   "outputs": [
    {
     "data": {
      "text/html": [
       "<div>\n",
       "<style scoped>\n",
       "    .dataframe tbody tr th:only-of-type {\n",
       "        vertical-align: middle;\n",
       "    }\n",
       "\n",
       "    .dataframe tbody tr th {\n",
       "        vertical-align: top;\n",
       "    }\n",
       "\n",
       "    .dataframe thead th {\n",
       "        text-align: right;\n",
       "    }\n",
       "</style>\n",
       "<table border=\"1\" class=\"dataframe\">\n",
       "  <thead>\n",
       "    <tr style=\"text-align: right;\">\n",
       "      <th></th>\n",
       "      <th>Estimated Number of Cells</th>\n",
       "      <th>Mean Reads per Cell</th>\n",
       "      <th>Median Genes per Cell</th>\n",
       "      <th>Number of Reads</th>\n",
       "      <th>Valid Barcodes</th>\n",
       "      <th>Sequencing Saturation</th>\n",
       "      <th>Q30 Bases in Barcode</th>\n",
       "      <th>Q30 Bases in RNA Read</th>\n",
       "      <th>Q30 Bases in Sample Index</th>\n",
       "      <th>Q30 Bases in UMI</th>\n",
       "      <th>Reads Mapped to Genome</th>\n",
       "      <th>Reads Mapped Confidently to Genome</th>\n",
       "      <th>Reads Mapped Confidently to Intergenic Regions</th>\n",
       "      <th>Reads Mapped Confidently to Intronic Regions</th>\n",
       "      <th>Reads Mapped Confidently to Exonic Regions</th>\n",
       "      <th>Reads Mapped Confidently to Transcriptome</th>\n",
       "      <th>Reads Mapped Antisense to Gene</th>\n",
       "      <th>Fraction Reads in Cells</th>\n",
       "      <th>Total Genes Detected</th>\n",
       "      <th>Median UMI Counts per Cell</th>\n",
       "    </tr>\n",
       "  </thead>\n",
       "  <tbody>\n",
       "    <tr>\n",
       "      <th>/oasis/tscc/scratch/CSHL_single_cell_2019/programming_exercise_material/1k_brain_cells/outs/metrics_summary.csv</th>\n",
       "      <td>997</td>\n",
       "      <td>52,964</td>\n",
       "      <td>2,742</td>\n",
       "      <td>52,805,264</td>\n",
       "      <td>98.1%</td>\n",
       "      <td>57.3%</td>\n",
       "      <td>97.3%</td>\n",
       "      <td>86.0%</td>\n",
       "      <td>97.3%</td>\n",
       "      <td>97.7%</td>\n",
       "      <td>94.1%</td>\n",
       "      <td>89.2%</td>\n",
       "      <td>3.3%</td>\n",
       "      <td>20.7%</td>\n",
       "      <td>65.1%</td>\n",
       "      <td>62.3%</td>\n",
       "      <td>1.3%</td>\n",
       "      <td>80.1%</td>\n",
       "      <td>16,230</td>\n",
       "      <td>8,146</td>\n",
       "    </tr>\n",
       "    <tr>\n",
       "      <th>/oasis/tscc/scratch/CSHL_single_cell_2019/programming_exercise_material/1k_heart_cells/outs/metrics_summary.csv</th>\n",
       "      <td>712</td>\n",
       "      <td>124,821</td>\n",
       "      <td>1,469</td>\n",
       "      <td>88,872,840</td>\n",
       "      <td>96.9%</td>\n",
       "      <td>86.8%</td>\n",
       "      <td>97.3%</td>\n",
       "      <td>93.2%</td>\n",
       "      <td>95.3%</td>\n",
       "      <td>97.3%</td>\n",
       "      <td>92.0%</td>\n",
       "      <td>85.2%</td>\n",
       "      <td>3.3%</td>\n",
       "      <td>12.8%</td>\n",
       "      <td>69.0%</td>\n",
       "      <td>66.4%</td>\n",
       "      <td>0.9%</td>\n",
       "      <td>90.8%</td>\n",
       "      <td>17,544</td>\n",
       "      <td>5,145</td>\n",
       "    </tr>\n",
       "  </tbody>\n",
       "</table>\n",
       "</div>"
      ],
      "text/plain": [
       "                                                    Estimated Number of Cells  \\\n",
       "/oasis/tscc/scratch/CSHL_single_cell_2019/progr...                        997   \n",
       "/oasis/tscc/scratch/CSHL_single_cell_2019/progr...                        712   \n",
       "\n",
       "                                                   Mean Reads per Cell  \\\n",
       "/oasis/tscc/scratch/CSHL_single_cell_2019/progr...              52,964   \n",
       "/oasis/tscc/scratch/CSHL_single_cell_2019/progr...             124,821   \n",
       "\n",
       "                                                   Median Genes per Cell  \\\n",
       "/oasis/tscc/scratch/CSHL_single_cell_2019/progr...                 2,742   \n",
       "/oasis/tscc/scratch/CSHL_single_cell_2019/progr...                 1,469   \n",
       "\n",
       "                                                   Number of Reads  \\\n",
       "/oasis/tscc/scratch/CSHL_single_cell_2019/progr...      52,805,264   \n",
       "/oasis/tscc/scratch/CSHL_single_cell_2019/progr...      88,872,840   \n",
       "\n",
       "                                                   Valid Barcodes  \\\n",
       "/oasis/tscc/scratch/CSHL_single_cell_2019/progr...          98.1%   \n",
       "/oasis/tscc/scratch/CSHL_single_cell_2019/progr...          96.9%   \n",
       "\n",
       "                                                   Sequencing Saturation  \\\n",
       "/oasis/tscc/scratch/CSHL_single_cell_2019/progr...                 57.3%   \n",
       "/oasis/tscc/scratch/CSHL_single_cell_2019/progr...                 86.8%   \n",
       "\n",
       "                                                   Q30 Bases in Barcode  \\\n",
       "/oasis/tscc/scratch/CSHL_single_cell_2019/progr...                97.3%   \n",
       "/oasis/tscc/scratch/CSHL_single_cell_2019/progr...                97.3%   \n",
       "\n",
       "                                                   Q30 Bases in RNA Read  \\\n",
       "/oasis/tscc/scratch/CSHL_single_cell_2019/progr...                 86.0%   \n",
       "/oasis/tscc/scratch/CSHL_single_cell_2019/progr...                 93.2%   \n",
       "\n",
       "                                                   Q30 Bases in Sample Index  \\\n",
       "/oasis/tscc/scratch/CSHL_single_cell_2019/progr...                     97.3%   \n",
       "/oasis/tscc/scratch/CSHL_single_cell_2019/progr...                     95.3%   \n",
       "\n",
       "                                                   Q30 Bases in UMI  \\\n",
       "/oasis/tscc/scratch/CSHL_single_cell_2019/progr...            97.7%   \n",
       "/oasis/tscc/scratch/CSHL_single_cell_2019/progr...            97.3%   \n",
       "\n",
       "                                                   Reads Mapped to Genome  \\\n",
       "/oasis/tscc/scratch/CSHL_single_cell_2019/progr...                  94.1%   \n",
       "/oasis/tscc/scratch/CSHL_single_cell_2019/progr...                  92.0%   \n",
       "\n",
       "                                                   Reads Mapped Confidently to Genome  \\\n",
       "/oasis/tscc/scratch/CSHL_single_cell_2019/progr...                              89.2%   \n",
       "/oasis/tscc/scratch/CSHL_single_cell_2019/progr...                              85.2%   \n",
       "\n",
       "                                                   Reads Mapped Confidently to Intergenic Regions  \\\n",
       "/oasis/tscc/scratch/CSHL_single_cell_2019/progr...                                           3.3%   \n",
       "/oasis/tscc/scratch/CSHL_single_cell_2019/progr...                                           3.3%   \n",
       "\n",
       "                                                   Reads Mapped Confidently to Intronic Regions  \\\n",
       "/oasis/tscc/scratch/CSHL_single_cell_2019/progr...                                        20.7%   \n",
       "/oasis/tscc/scratch/CSHL_single_cell_2019/progr...                                        12.8%   \n",
       "\n",
       "                                                   Reads Mapped Confidently to Exonic Regions  \\\n",
       "/oasis/tscc/scratch/CSHL_single_cell_2019/progr...                                      65.1%   \n",
       "/oasis/tscc/scratch/CSHL_single_cell_2019/progr...                                      69.0%   \n",
       "\n",
       "                                                   Reads Mapped Confidently to Transcriptome  \\\n",
       "/oasis/tscc/scratch/CSHL_single_cell_2019/progr...                                     62.3%   \n",
       "/oasis/tscc/scratch/CSHL_single_cell_2019/progr...                                     66.4%   \n",
       "\n",
       "                                                   Reads Mapped Antisense to Gene  \\\n",
       "/oasis/tscc/scratch/CSHL_single_cell_2019/progr...                           1.3%   \n",
       "/oasis/tscc/scratch/CSHL_single_cell_2019/progr...                           0.9%   \n",
       "\n",
       "                                                   Fraction Reads in Cells  \\\n",
       "/oasis/tscc/scratch/CSHL_single_cell_2019/progr...                   80.1%   \n",
       "/oasis/tscc/scratch/CSHL_single_cell_2019/progr...                   90.8%   \n",
       "\n",
       "                                                   Total Genes Detected  \\\n",
       "/oasis/tscc/scratch/CSHL_single_cell_2019/progr...               16,230   \n",
       "/oasis/tscc/scratch/CSHL_single_cell_2019/progr...               17,544   \n",
       "\n",
       "                                                   Median UMI Counts per Cell  \n",
       "/oasis/tscc/scratch/CSHL_single_cell_2019/progr...                      8,146  \n",
       "/oasis/tscc/scratch/CSHL_single_cell_2019/progr...                      5,145  "
      ]
     },
     "execution_count": 3,
     "metadata": {},
     "output_type": "execute_result"
    }
   ],
   "source": [
    "merged = pd.DataFrame()\n",
    "for summary in all_metrics_summaries:\n",
    "    df = pd.read_csv(summary)\n",
    "    df.index = [summary]\n",
    "    merged = pd.concat([merged, df])\n",
    "\n",
    "merged.sort_index()"
   ]
  },
  {
   "cell_type": "code",
   "execution_count": 4,
   "metadata": {},
   "outputs": [],
   "source": [
    "# Save the file\n",
    "merged.to_csv(\n",
    "    '~/scratch/my_qc.csv'\n",
    ")"
   ]
  },
  {
   "cell_type": "markdown",
   "metadata": {},
   "source": [
    "# Answers to Exercise 3\n",
    "\n",
    "```bash\n",
    "module load scanpy\n",
    "scanpy_notebook\n",
    "```"
   ]
  },
  {
   "cell_type": "code",
   "execution_count": 5,
   "metadata": {},
   "outputs": [
    {
     "data": {
      "text/plain": [
       "<matplotlib.figure.Figure at 0x2b9d5a325470>"
      ]
     },
     "metadata": {},
     "output_type": "display_data"
    }
   ],
   "source": [
    "import scanpy as sc\n",
    "matrix_path = '/oasis/tscc/scratch/CSHL_single_cell_2019/programming_exercise_material/1k_heart_cells/outs/filtered_feature_bc_matrix/'\n",
    "\n",
    "adata = sc.read_10x_mtx(\n",
    "    matrix_path,                # the directory with the `.mtx` file\n",
    "    var_names='gene_ids',       # use gene symbols for the variable names (variables-axis index)\n",
    "    cache=True                  # write a cache file for faster subsequent reading\n",
    ")\n",
    "\n",
    "sc.pl.highest_expr_genes(adata, n_top=20)"
   ]
  },
  {
   "cell_type": "markdown",
   "metadata": {},
   "source": [
    "# Installing Singularity through Vagrant - optional (and may be troublesome depending on your laptop permissions)"
   ]
  },
  {
   "cell_type": "markdown",
   "metadata": {},
   "source": [
    "1. Install [Vagrant](https://www.vagrantup.com/). This can be done a few ways:\n",
    "    - Through homebrew (mac): \n",
    "        - brew cask install virtualbox\n",
    "        - brew cask install vagrant\n",
    "        - brew cask install vagrant-manager\n",
    "    - Downloading a binary (mac + windows)\n",
    "        - use the URL \n",
    "2. Install Singularity\n",
    "    - Make a directory and change into the directory (ie. mkdir singularity-vm; cd singularity-vm)\n",
    "    - Download the \"Vagrantfile\" into this directory. A Vagrantfile is a set of configurations and instructions for creating a virtual machine.\n",
    "    \n",
    "    ```bash \n",
    "    vagrant init singularityware/singularity-2.4\n",
    "    ```\n",
    "    \n",
    "    - Make another directory (from this directory, you will be able to transfer files to/from your virtual machine.\n",
    "    \n",
    "        ```bash\n",
    "        mkdir data\n",
    "        ```\n",
    "        \n",
    "    - Ensure the \"Vagrantfile\" contains the following line (this \"mounts\" the directory you created inside the virtual machine):\n",
    "    \n",
    "        ```bash\n",
    "        config.vm.synced_folder \"data\", \"/vagrant_data\"\n",
    "        ```\n",
    "    \n",
    "    - Download one of the images that we're using on TSCC *inside your mounted folder*:\n",
    "    \n",
    "    [scanpy](https://external-collaborator-data.s3-us-west-1.amazonaws.com/public-software/scanpy-1.4.1.img)\n",
    "    \n",
    "    - Initialize the virtual machine and login! Your virtual machine should have Singularity installed.\n",
    "    \n",
    "        ```bash\n",
    "        vagrant up\n",
    "        vagrant ssh\n",
    "        ```\n",
    "        \n",
    "    - You should be able to see your 'vagrant_data' folder with the image inside. Try running Jupyter inside the image with singularity (Use ip 0.0.0.0 since this is the easiest to run with the default Vagrantfile config):\n",
    "    \n",
    "        ```bash\n",
    "        singularity exec scanpy-1.4.1.img jupyter notebook --ip 0.0.0.0\n",
    "        ```\n",
    "3. Create a notebook using the 'scanpy' kernel. If this works, voila!"
   ]
  },
  {
   "cell_type": "code",
   "execution_count": null,
   "metadata": {},
   "outputs": [],
   "source": []
  }
 ],
 "metadata": {
  "kernelspec": {
   "display_name": "Python 3",
   "language": "python",
   "name": "python3"
  },
  "language_info": {
   "codemirror_mode": {
    "name": "ipython",
    "version": 3
   },
   "file_extension": ".py",
   "mimetype": "text/x-python",
   "name": "python",
   "nbconvert_exporter": "python",
   "pygments_lexer": "ipython3",
   "version": "3.6.7"
  }
 },
 "nbformat": 4,
 "nbformat_minor": 2
}
