{
 "cells": [
  {
   "cell_type": "markdown",
   "metadata": {},
   "source": [
    "# CellRanger"
   ]
  },
  {
   "cell_type": "markdown",
   "metadata": {},
   "source": [
    "The CellRanger [website](https://support.10xgenomics.com/single-cell-gene-expression/software/pipelines/latest/what-is-cell-ranger) has great documentation on how process 10X data. Here, we will run CellRanger on the Macoska dataset in the previous lecture. \n",
    "\n",
    "Since this pipeline requires a long time to run, we will submit a job rather than running it interactively like we did with dropseqtools.\n"
   ]
  },
  {
   "cell_type": "markdown",
   "metadata": {},
   "source": [
    "**Before we begin data processing using cellranger, make sure you are following the following guidelines:**\n",
    "\n",
    "**1) You have logged into TSCC and have a screen running.**\n",
    "\n",
    "**2) You have secured an interactive node through the screen. We will be executing all commands over an interactive node.**\n",
    "\n",
    "**You should have access to the cellranger module. If you still do not have access to cellranger, please let us know. You can load the cellranger module as follows (to be performed on command line in TSCC):**\n",
    "\n",
    "**module load cellranger**\n",
    "\n",
    "**To test if the module was successfully loaded, simply type in \"cellranger\"**"
   ]
  },
  {
   "cell_type": "markdown",
   "metadata": {},
   "source": [
    "**Processing data using CellRanger**"
   ]
  },
  {
   "cell_type": "markdown",
   "metadata": {},
   "source": [
    "***cellranger mkfastq***\n",
    "\n",
    "Illumina sequencing instruments generate per-cycle raw base call (BCL) files as primary sequencing output. The cellranger mkfastq pipeline performs the demultiplexing and conversion step for BCL files for each flowcell directory. The final output for demultiplexing is the fastq files, which can used to perform alignments and gene expression analyses. Usually, the sequencing core will perform this step for you and return the fastq files. Hence, we will not cover this step for this tutorial. However, you can download examples datasets to test this command from [here](https://support.10xgenomics.com/single-cell-gene-expression/software/pipelines/latest/using/mkfastq)."
   ]
  },
  {
   "cell_type": "markdown",
   "metadata": {},
   "source": [
    "***cellranger count***\n",
    "\n",
    "Cellranger count quantifies single-cell gene expression.\n",
    "\n",
    "The cellranger count command takes FASTQ files from cellranger mkfastq and performs alignment, filtering, and UMI counting. It uses the Chromium cellular barcodes to generate gene-barcode matrices and perform clustering and gene expression analysis. count can take input from multiple sequencing runs on the same library.\n",
    "\n",
    "*cellranger count --expect-cells= < expected number of captured cells > --id=< unique_id > --transcriptome=< path_to_reference_transcriptome > --fastqs=< path_to_directory_containing_fastq_files > --sample=< prefix_of_the_sample_to_process >*\n",
    "\n",
    "As shown above, cellranger count takes 4 required arguments. \n",
    "\n",
    "--id is a unique run ID string, which can be assigned arbitrarily. \n",
    "\n",
    "--fastqs specifies path of the FASTQ directory that usually generated from mkfastq, in this case, this will be location where you downloaded the *Macoska* dataset. \n",
    "\n",
    "--sample indicates sample name as specified in the sample sheet. The sample names must matches the prefixes in the fastq files.\n",
    "\n",
    "--transcriptome specifies path to the Cell Ranger compatible transcriptome reference, in this case, the reference genome is hg19 which can be found here : \n",
    "\n",
    "--expect-cells is optional flag where we can specify number of cells within the sample."
   ]
  },
  {
   "cell_type": "markdown",
   "metadata": {},
   "source": [
    "**As an exercise, fill in the appropriate path and arguments to the cellranger count command**\n",
    "\n",
    "***cellranger count --expect-cells= < expected number of captured cells > --id=< unique_id > --transcriptome=< path_to_reference_transcriptome > --fastqs=< path_to_directory_containing_fastq_files > --sample=< prefix_of_the_sample_to_process >***"
   ]
  },
  {
   "cell_type": "markdown",
   "metadata": {},
   "source": [
    "***How does cellranger count function ?***\n",
    "![cellranger_workflow](img/cellranger_workflow.png)"
   ]
  },
  {
   "cell_type": "markdown",
   "metadata": {},
   "source": [
    "![output_files](img/cellranger_output_files.png)"
   ]
  },
  {
   "cell_type": "markdown",
   "metadata": {},
   "source": [
    "![web_summary](img/cellranger_html_summary.png)"
   ]
  },
  {
   "cell_type": "markdown",
   "metadata": {},
   "source": [
    "There are 2 principal steps to quality control on single cell data:\n",
    "\n",
    "    remove poor quality cells\n",
    "    remove genes with very sparse information\n",
    "\n",
    "For any given gene there will be many cells where there is no observed expression. Most of the times this is a consequence of the low input material. In order to properly estimate the normalization factors for each cell we need to reduce the number of 0’s contained in each cell, without discarding too many genes. The easiest way is to just remove genes with all 0-values, i.e. no evidence of expression in any cell. We can also set a more conservative threshold, where a gene must be expressed in at least N cells."
   ]
  },
  {
   "cell_type": "markdown",
   "metadata": {},
   "source": [
    "We can judge the quality of a cell by several metrics:\n",
    "\n",
    "    Total sequencing coverage or cell library size\n",
    "    Mitochondrial content - cells with high mitochondrial content may have already lysed prior to encapsulation.\n",
    "    Cell sparsity - i.e. proportion of genes in a cell with 0-values"
   ]
  },
  {
   "cell_type": "markdown",
   "metadata": {},
   "source": [
    "**cellranger reanalyze (https://support.10xgenomics.com/single-cell-gene-expression/software/pipelines/latest/using/reanalyze)**\n",
    "\n",
    "The cellranger reanalyze command reruns secondary analysis performed on the feature-barcode matrix (dimensionality reduction, clustering and visualization) using different parameter settings."
   ]
  },
  {
   "cell_type": "code",
   "execution_count": null,
   "metadata": {},
   "outputs": [],
   "source": []
  }
 ],
 "metadata": {
  "kernelspec": {
   "display_name": "Python 3",
   "language": "python",
   "name": "python3"
  },
  "language_info": {
   "codemirror_mode": {
    "name": "ipython",
    "version": 3
   },
   "file_extension": ".py",
   "mimetype": "text/x-python",
   "name": "python",
   "nbconvert_exporter": "python",
   "pygments_lexer": "ipython3",
   "version": "3.6.7"
  }
 },
 "nbformat": 4,
 "nbformat_minor": 2
}
