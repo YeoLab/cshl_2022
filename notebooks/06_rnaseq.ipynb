{
 "cells": [
  {
   "cell_type": "markdown",
   "metadata": {},
   "source": [
    "**RNASeq Basics**\n",
    "\n",
    "RNASeq data processing can be broadly divided into two types: 1) Reference Genome Based (Most commonly used) 2) De Novo, where no reference genome is available (uncommon, mostly used on novel species). For this course, we will be soley focussing on reference based RNA-Seq data analysis. Reference genomes for many species is available through consortia such as NCBI, Ensembl, etc. \"Genome builds\" are periodically released as more regions and genes are annotated within a genome (eg: hg19, hg39 (https://www.gencodegenes.org/human/)). \n",
    "\n",
    "**RNASeq data processing**\n",
    "\n",
    "After sequencing is completed, you have a collection of sequencing reads for each sample in the form of a *fastq file*. In a reference-based RNAseq experiment, each sequencing read from a fastq file is *mapped* against the reference genome. There are several programs/workflows available to map reads to a genome such as TopHat suite (https://ccb.jhu.edu/software/tophat/index.shtml), STAR aligner (https://github.com/alexdobin/STAR) and StringTie suite (https://ccb.jhu.edu/software/stringtie/). RNASeq read aligners are *splicing-aware*, meaning they are able to map reads that skip introns / exons due to splicing events occuring across RNA transcripts.\n",
    "\n",
    "**Common things to consider after read mapping is completed :** \n",
    "\n",
    "1) What fraction of total reads successfully aligned to the genome ? Low fraction usually indicates contamination within your sample?\n",
    "2) What fraction uniquely mapped to the genome ? If each read has been derived from RNA molecules, each read must correspond to a unique location within the genome. However, a singificant fraction of reads can be expected to NOT map uniquely to the genome, due to the existence of repetitve regions (eg: rRNA). It is difficult to trace back the region from where a read was sequenced if the read derived from a repetive region that is present across multiple locations within the genome.\n",
    "\n",
    "**Gene Expression & Normalization**\n",
    "\n",
    "Once every read has been sufficiently mapped to a corresponding location across the genome, we can quantify the number of reads mapping across each gene/transcript/exon. Since the number of reads generated across a gene can be directly corelated with the length of the gene and also with the sequencing depth, the read counts across a sample must be normalized. There are several ways to perform read count normalization: 1) RPKM/FPKM (Reads/Fragments Per Kilobase of transcript per Million mapped reads) 2) TPM (Transcripts Per Million mapped reads) 3) RPM (Reads Per Million mapped reads)"
   ]
  },
  {
   "cell_type": "markdown",
   "metadata": {},
   "source": [
    "## Some important RNASeq data terminologies :\n",
    "We will be using these terms throughout the course\n",
    "\n",
    "1) Fastq: This is a standardized file format to store sequencing reads for each sample. \n",
    "\n",
    "2) Reference genome : A representation set of sequences assembled through previous studies that best represents the organization of genes within a genome\n",
    "\n",
    "3) Annotation : Each gene within a reference genome is assigned coordinates; eg: chr1:10,000-12,000. Each gene is further *annotated* by defining the location of UTRs, exons and introns within the gene. Commonly used annotations are provided from Gencode (https://www.gencodegenes.org/human/) and UCSC (https://genome.ucsc.edu/cgi-bin/hgTables).\n",
    "\n",
    "4) Alignment / Alignment Tool / Aligners : Alignment is the process of identifying the region within the genome from which a read was derived. This is done by matching the read sequence with the genome sequence to find a perfect match.\n",
    "\n",
    "5) SAM / BAM files : SAM file if a standardized file format to store alignment records for each read (https://samtools.github.io/hts-specs/SAMv1.pdf). A BAM file is a binary or compressed version of SAM files. BAM files are not human readable, unlike SAM files.\n",
    "\n",
    "6) Gene Expression : Broad term for the number of reads derived from a gene (could be a normalized count).\n",
    "\n",
    "7) Differential Gene Expression (DGE) : A gene that a expression significantly higher/lower between two experimental conditions."
   ]
  },
  {
   "cell_type": "markdown",
   "metadata": {},
   "source": [
    "### The downloaded SRA files are next processed by following these steps:\n",
    "1. `fastq-dump` in the SRA-toolkit to generate .fastq files\n",
    "2. `FastQC`<sup>[3](#ref3)</sup> to perform Quality Controls and generate QC report for the input RNA-seq data\n",
    "2. `STAR`<sup>[3](#ref3)</sup> for the read alignment\n",
    "3. `featureCounts`<sup>[4](#ref4)</sup> for assigning reads to genes"
   ]
  },
  {
   "cell_type": "markdown",
   "metadata": {},
   "source": [
    "#### 1. Extract fastq reads from SRA files using the NCBI SRA toolkit (https://trace.ncbi.nlm.nih.gov/Traces/sra/sra.cgi?view=software)"
   ]
  },
  {
   "cell_type": "markdown",
   "metadata": {},
   "source": [
    "1) Install the SRA toolkit as follows : \n",
    "    \n",
    "    conda install -c bioconda sra-tools\n",
    "\n",
    "2) fastq-dump -I -split-spot < SRA Accession Number >"
   ]
  },
  {
   "cell_type": "markdown",
   "metadata": {},
   "source": [
    "#### 2. Perform quality control checks on fastq files using FASTQC (https://www.bioinformatics.babraham.ac.uk/projects/download.html)"
   ]
  },
  {
   "cell_type": "markdown",
   "metadata": {},
   "source": [
    "fastqc -o ../fastQC_output < fastq file >"
   ]
  },
  {
   "cell_type": "markdown",
   "metadata": {},
   "source": [
    "#### 3. Perform genome alignment for fastq reads"
   ]
  },
  {
   "cell_type": "markdown",
   "metadata": {},
   "source": [
    "STAR \n",
    "--genomeDir < path to STAR  genome index > \n",
    "--sjdbGTFfile < path to genome gtf file > \n",
    "--runThreadN < # of precessors to use > \n",
    "--outFileNamePrefix < output filename prefix, including the path > \n",
    "--readFilesIn < fastq filenames > \n",
    "--readFilesCommand zcat \n",
    "--outSAMtype BAM Unsorted \n",
    "--outSAMmode Full"
   ]
  },
  {
   "cell_type": "markdown",
   "metadata": {},
   "source": [
    "#### 4. Perform read count on annotated genes using FeatureCounts (http://subread.sourceforge.net/)"
   ]
  },
  {
   "cell_type": "markdown",
   "metadata": {},
   "source": [
    "featureCounts \n",
    "-T < # of threads > \n",
    "-t < gene feature to count reads upon eg: exon, transcript >\n",
    "-g < group read counts by eg: gene, transcript >\n",
    "-a < path to genome GTF file >\n",
    "-o < output filename > \n",
    "< list of bam files to preform read counting on >\n",
    "\n",
    "Can run featureCounts on multiple bam files at the same time. Results for each bam will outputted to the same file \n",
    "as a tab separated column."
   ]
  },
  {
   "cell_type": "markdown",
   "metadata": {},
   "source": [
    "## Example Dataset Features : \n",
    "\n",
    "https://github.com/MaayanLab/Zika-RNAseq-Pipeline\n",
    "\n",
    "### Publication\n",
    "\n",
    "Wang Z and Ma'ayan A. An open RNA-Seq data analysis pipeline tutorial with an example of reprocessing data from a recent Zika virus study.\n",
    "\n",
    "The dataset provides a detailed tutorial / instructions to process and analyze the data. Detailed ipython notebooks are available. A docker image is also available, although it is not possible to run Docker images on TSCC."
   ]
  }
 ],
 "metadata": {
  "kernelspec": {
   "display_name": "encode3-manifest",
   "language": "python",
   "name": "python2"
  },
  "language_info": {
   "codemirror_mode": {
    "name": "ipython",
    "version": 2
   },
   "file_extension": ".py",
   "mimetype": "text/x-python",
   "name": "python",
   "nbconvert_exporter": "python",
   "pygments_lexer": "ipython2",
   "version": "2.7.15"
  }
 },
 "nbformat": 4,
 "nbformat_minor": 2
}
