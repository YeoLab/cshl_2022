{
 "cells": [
  {
   "cell_type": "markdown",
   "metadata": {},
   "source": [
    "# This notebook briefly talks about Virtual environments, containers and Jupyter kernels.\n",
    "\n",
    "It is completely optional (not required for downstream instruction)!\n",
    "\n",
    "Feel free to work through this on your own if you choose to, or use it as reference after the course ends."
   ]
  },
  {
   "cell_type": "markdown",
   "metadata": {},
   "source": [
    "# Environments\n",
    "- You may encounter an instance where one program requires python 2.7 while another program requires python 3.6. Since Python 2 and Python 3 are incompatible, the two softwares normally wouldn't be installed together. Instead, developers have come up with an elegant solution that isolates the software environments (including any prerequite programs) from each other. "
   ]
  },
  {
   "cell_type": "markdown",
   "metadata": {},
   "source": [
    "# Terminology\n",
    "- **Virtual environment**: Virtual environments are isolated programming environments that allow users to install packages specific to individual projects, without worrying about compatability among dependency issues. For example, if you were working on Project A which requires Package V1.0, but also working on Project B which requires Package V2.0, you could create two environments and work on both without worrying about any version conflicts. \n",
    "- **Conda**: conda is a package manager, or software that helps organize these packages, plus any dependencies, versions, metadata that comes with it.\n",
    "- **Jupyter Kernel**: Broadly, a kernel is a software that is at the center of an operating system. It typically handles things like: managing CPUs, RAM, and input/outputs like keyboards or monitors. However a Jupyter kernel is simply a software that runs your code.\n",
    "- **Containers**: a container is a unit of software that essentially wraps a package or distribution along with all dependencies in a portable/reproducible way. For our purposes, we can think of containers as easy ways to share a software installation.\n",
    "- **Singularity**: One popular containerization technology (another being Docker) that we will be using to share the software that you will be using throughout this course. Singularity containers (images) can be shared via two ways: the image itself (a single, larger file containing an operating system and any of the packages installed), or via instructions to create the image. We have several pre-made Singularity images on TSCC which can be called/accessed/run with another package management system called \"modules\". "
   ]
  },
  {
   "cell_type": "markdown",
   "metadata": {},
   "source": [
    "#### Login to TSCC and grab an interactive node:"
   ]
  },
  {
   "cell_type": "markdown",
   "metadata": {},
   "source": [
    "```bash\n",
    "ssh ucsd-trainXY@tscc-login1.sdsc.edu\n",
    "screen -d -r # OR screen if you don't already have an active session yet\n",
    "qsub -I -l walltime=6:00:00 -q home-yeo -l nodes=1:ppn=1\n",
    "```"
   ]
  },
  {
   "cell_type": "markdown",
   "metadata": {},
   "source": [
    "# Virtual Environments\n",
    "\n",
    "There are a few ways to create a virtual environment. For Python, one way is through a Python package called ```virtualenv```, which basically creates a folder where all the environment-specific packages are installed. It also installs a copy of ```pip``` which helps manage and install any new environment-specific packages.\n",
    "\n",
    "Anaconda also provides support for the creation and management of virtual environments. The way it works is more or less the same; every environment gets its own directory that isolates installed packages. We'll be using this method since 1) we're using ```conda```, and 2) ```conda``` can manage non-python softwares as well."
   ]
  },
  {
   "cell_type": "markdown",
   "metadata": {},
   "source": [
    "#### Read the online documentation about Conda environments:\n",
    "\n",
    "[online documentation](https://docs.conda.io/projects/conda/en/latest/user-guide/tasks/manage-environments.html) "
   ]
  },
  {
   "cell_type": "markdown",
   "metadata": {},
   "source": [
    "### TL;DR:\n",
    "\n",
    "- create a conda environment called \"noor\" with python (3.6) and samtools (1.5) installed:\n",
    "\n",
    "```bash\n",
    "conda create -n noor python=3.6 samtools=1.5\n",
    "```\n",
    "\n",
    "- completely remove a conda environment:\n",
    "\n",
    "```bash\n",
    "conda remove -n noor --all\n",
    "```\n",
    "\n",
    "- switch into (activate) or switch out of (deactivate) a specific conda environment:\n",
    "\n",
    "```bash\n",
    "conda activate noor\n",
    "conda deactivate noor\n",
    "```"
   ]
  },
  {
   "cell_type": "markdown",
   "metadata": {},
   "source": [
    "# Jupyter Kernels\n",
    "Jupyter kernels are softwares that runs your code. When you start a Jupyter notebook server, then subsequently create a notebook (.ipynb) file, you will have the option to select the kernel (typically tied to the current software environment) that runs your code. You can create multiple kernels for each of the environments you've created with conda:"
   ]
  },
  {
   "cell_type": "markdown",
   "metadata": {},
   "source": [
    "#### Read the [online documentation](https://jupyter-client.readthedocs.io/en/latest/kernels.html) for installing Jupyter kernels:\n",
    "\n",
    "[online documentation](https://jupyter.readthedocs.io/en/latest/install-kernel.html) "
   ]
  },
  {
   "cell_type": "markdown",
   "metadata": {},
   "source": [
    "### TL;DR:\n",
    "- install ipykernel for a conda environment \"noor\":\n",
    "\n",
    "```bash\n",
    "source activate noor\n",
    "conda install pip\n",
    "conda install ipykernel # or pip install ipykernel\n",
    "```\n",
    "\n",
    "- install the kernel called \"Python (noor)\" associated with the environment \"noor\":\n",
    "\n",
    "```bash\n",
    "source activate noor\n",
    "python -m ipykernel install --user --name noor --display-name \"Python (noor)\"\n",
    "```"
   ]
  },
  {
   "cell_type": "markdown",
   "metadata": {},
   "source": [
    "# Virtual Machines\n",
    "\n",
    "Virtual environments are great when you need multiple softwares with conflicting software requirements. However, both methods require either Python or Anaconda to be installed on your system. We won't be using virtual machines for this course, but for context let's say you had a Mac (OSX) and needed to install or run Windows-only software. You could use a program such as [virtualbox](https://www.virtualbox.org/) to essentially create a Windows computer within your OSX operating system. This is very useful for developers who may want to test their software on multiple platforms, but it's overkill for our purposes. With virtual machines, there is significant overhead as you're basically booting up a new computer inside your current operating system. "
   ]
  },
  {
   "cell_type": "markdown",
   "metadata": {},
   "source": [
    "# Containers\n",
    "\n",
    "While we won't be using virtual machines, we will be taking advantage of containerization technology. Simply put, containers offer users and developers a nice middle ground between virtual environments and virtual machines. They are quite a bit more lightweight than virtual machines but provide more flexibility than Python or Conda environments. "
   ]
  },
  {
   "cell_type": "markdown",
   "metadata": {},
   "source": [
    "## Docker & Singularity\n",
    "\n",
    "In the recent years, we've seen more and more developers adopting containerization as a way to install and reproducibly share software to a variety of platforms. \n",
    "\n",
    "[Overview of Singularity (Courtesy of SDSC)](https://github.com/sdsc-training/bootcamps/blob/master/Intro_to_Singularity/introduction-to-singularity.pdf)\n",
    "\n",
    "## TL;DR: \n",
    "- Docker requires superuser (sudo) privilages\n",
    "- Running Singularity images do not require sudo and thus works well for externally managed HPC\n",
    "- Installing Singularity requires superuser (sudo) privilages\n"
   ]
  },
  {
   "cell_type": "code",
   "execution_count": null,
   "metadata": {},
   "outputs": [],
   "source": []
  }
 ],
 "metadata": {
  "kernelspec": {
   "display_name": "Python 3",
   "language": "python",
   "name": "python3"
  },
  "language_info": {
   "codemirror_mode": {
    "name": "ipython",
    "version": 3
   },
   "file_extension": ".py",
   "mimetype": "text/x-python",
   "name": "python",
   "nbconvert_exporter": "python",
   "pygments_lexer": "ipython3",
   "version": "3.6.7"
  }
 },
 "nbformat": 4,
 "nbformat_minor": 2
}
