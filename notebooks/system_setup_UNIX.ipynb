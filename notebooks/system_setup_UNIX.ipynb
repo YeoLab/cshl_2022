{
 "cells": [
  {
   "cell_type": "markdown",
   "metadata": {},
   "source": [
    "# Unix common commands \n",
    "- This notebook lists a few commands that students last year found useful. Feel free to add to this notebook."
   ]
  },
  {
   "cell_type": "markdown",
   "metadata": {},
   "source": []
  },
  {
   "cell_type": "markdown",
   "metadata": {},
   "source": [
    "# Terminology\n",
    "- **Shell/Bash**: A shell is a user interface, which can either be graphical (GUI) or command-line (CLI). Bash is a shell that is natively installed on MacOS and many Unix distributions and interprets the commands entered into the default terminal. You can think of running \"Bash\" as similar to running \"Python\" or \"Perl\", but instead of interpreting Python or Perl scripts, will interpret Bash (or \"sh\") commands.\n",
    "- **.bashrc**: A hidden script (files prefixed with a period \"```.```\" will be typically hidden from view by default) that provides instructions to run upon login. A ```.bashrc``` file may set/unset/modify environment variables, alias certain commands, or import and run other scripts. "
   ]
  },
  {
   "cell_type": "markdown",
   "metadata": {},
   "source": [
    "## Common/useful Unix & TSCC commands"
   ]
  },
  {
   "cell_type": "markdown",
   "metadata": {},
   "source": [
    "```<script> --help``` or ```<script> -h``` will usually display usage instructions for the script, including optional and required parameters. Having a ```--help/-h``` option is considered good practice, but not guaranteed to exist for all scripts.\n",
    "\n",
    "```ls -la``` shows all files (-l shows permissions/ownership, -a shows hidden files)\n",
    "\n",
    "```pwd``` shows your current path\n",
    "\n",
    "```history``` shows the history of commands you've used. \n",
    "\n",
    "```qsub -I -l walltime=4:00:00 -q home-yeo -l nodes=1:ppn=2``` you can use this template to queue interactive jobs with specific time and resource requirements. \n",
    "\n",
    "```eval $(resize)``` cleans up a glitch in screen that causes a formatting issue whenever a terminal window is re-sized.\n",
    "\n",
    "```du -sch /home/ucsd-trainXY/``` lists the sizes of each directory and file inside /home/ucsd-trainXY/\n",
    "\n",
    "```grep --color 'string' file.txt``` searches for 'string' inside file.txt (and colors it red!)\n",
    "\n",
    "```less file.txt``` preview the contents of file.txt (to quit, type \"q\"). Don't ```less``` a non-text file such as a BAM file, you'll end up getting a bunch of junk!\n",
    "\n",
    "```samtools view example.bam | less -S``` This is how you can preview a binary BAM file."
   ]
  },
  {
   "cell_type": "code",
   "execution_count": null,
   "metadata": {},
   "outputs": [],
   "source": []
  }
 ],
 "metadata": {
  "kernelspec": {
   "display_name": "encode3-manifest",
   "language": "python",
   "name": "python2"
  },
  "language_info": {
   "codemirror_mode": {
    "name": "ipython",
    "version": 2
   },
   "file_extension": ".py",
   "mimetype": "text/x-python",
   "name": "python",
   "nbconvert_exporter": "python",
   "pygments_lexer": "ipython2",
   "version": "2.7.15"
  }
 },
 "nbformat": 4,
 "nbformat_minor": 2
}
