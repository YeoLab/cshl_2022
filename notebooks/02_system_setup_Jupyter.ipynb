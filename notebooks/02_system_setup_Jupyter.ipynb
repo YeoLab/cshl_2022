{
 "cells": [
  {
   "cell_type": "markdown",
   "metadata": {},
   "source": [
    "# Jupyter notebooks\n",
    "\n",
    "This notebook runs through how we will be using Jupyter notebooks to code and analyze scRNAseq data."
   ]
  },
  {
   "cell_type": "markdown",
   "metadata": {},
   "source": [
    "## TL;DR (from 01_system_setup_TSCC):\n",
    "\n",
    "Open a terminal and type the following:\n",
    "\n",
    "```\n",
    "ssh ucsd-trainXY@tscc-login1.sdsc.edu\n",
    "cd ~\n",
    "ln -s /oasis/tscc/scratch/ucsd-trainXY ./scratch\n",
    "screen -d -r # OR screen if you don't already have an active session yet\n",
    "qsub -I -l walltime=6:00:00 -q home-yeo -l nodes=1:ppn=1\n",
    "```"
   ]
  },
  {
   "cell_type": "markdown",
   "metadata": {},
   "source": [
    "## There are several editors that you can use to code and/or modify text files:\n",
    "\n",
    "Sometimes you just want to quickly open/edit a file. Maybe you need to create a README to help keep track of what you've done so far..\n",
    "\n",
    "- [vi/vim](https://vim.rtorr.com/): text editor built into many Linux distributions\n",
    "- [emacs](https://gist.github.com/dherman/3238368): yet another text editor\n",
    "- [nano](http://www.cheat-sheets.org/saved-copy/Nano_Cheat_Sheet.pdf): yet another text editor\n",
    "- [pico](https://www.cs.colostate.edu/helpdocs/pico.html): yet another text editor...\n",
    "\n",
    "Feel free to choose one to learn on your own as they're useful for quickly writing/editing scripts and commands (and usually are installed by default). Completely your choice and won't really affect anything we do during this module.\n",
    "\n",
    "![vim_vs_emacs_vs_nano](https://imgs.xkcd.com/comics/real_programmers.png)"
   ]
  },
  {
   "cell_type": "markdown",
   "metadata": {},
   "source": [
    "### Example (nano): "
   ]
  },
  {
   "cell_type": "markdown",
   "metadata": {},
   "source": [
    "```bash\n",
    "which nano # verify that the text editor is installed and exists in your $PATH\n",
    "nano hello_world.txt # should bring you to a blank screen with a menu at the bottom. Type \"hello world!\" and \"ctrl+x\" to exit. Save with \"Y\" and \"Enter\" to confirm.\n",
    "```\n"
   ]
  },
  {
   "cell_type": "markdown",
   "metadata": {},
   "source": [
    "### Example (vim):\n",
    "```bash\n",
    "which vim # verify that the text editor is installed and exists in your $PATH\n",
    "vim hello_world.txt # let's modify/edit the hello_world.txt file with vim.\n",
    "```\n",
    "Unlike nano, vim exists with multiple modes. For now let's focus on the \"insert\" and \"command\" modes, which can be accessed by typing the pressing the following keys:\n",
    "```bash\n",
    "i # press 'i' to enter the \"insert mode\" and type: \"goodbye world\"\n",
    "Esc # press the 'esc' button to enter \"command mode\" \n",
    "\n",
    "```\n",
    "Swap between \"insert\" and \"command\" mode. \"Insert\" mode acts like a normal text editor. Here are some examples of commands you may use in \"command\" mode:\n",
    "```\n",
    ":wq # (include the colon): \":wq\" (w stands for \"write\" and q stands for \"quit\". Hence, \":wq\" will \"write and quit vim\")\n",
    ":q! # quits vim without writing. \"!\" stands for \"force/override\" (quit and discard changes)\n",
    "```"
   ]
  },
  {
   "cell_type": "markdown",
   "metadata": {},
   "source": [
    "# Jupyter notebooks are web-based notebooks that integrates text editing with other data-science-friendly features. You can:"
   ]
  },
  {
   "cell_type": "markdown",
   "metadata": {},
   "source": [
    "## write code and execute it without having to write an entire program:"
   ]
  },
  {
   "cell_type": "code",
   "execution_count": 1,
   "metadata": {},
   "outputs": [
    {
     "name": "stdout",
     "output_type": "stream",
     "text": [
      "hello world!\n"
     ]
    }
   ],
   "source": [
    "print(\"hello world!\")"
   ]
  },
  {
   "cell_type": "markdown",
   "metadata": {},
   "source": [
    "## document code with markdown:"
   ]
  },
  {
   "cell_type": "markdown",
   "metadata": {},
   "source": [
    "This notebook goes over some of the things you can do in **Jupyter**, including writing nicely formatted tables like so:\n",
    "\n",
    "| Tables   |      Are      |  Cool |\n",
    "|----------|---------------|-------|\n",
    "| col 1 is |  left-aligned | 1600  |\n",
    "| col 2 is |    centered   |   12  |\n",
    "| col 3 is | right-aligned |    1  |"
   ]
  },
  {
   "cell_type": "markdown",
   "metadata": {},
   "source": [
    "## generate and save plots:"
   ]
  },
  {
   "cell_type": "code",
   "execution_count": 2,
   "metadata": {},
   "outputs": [
    {
     "data": {
      "image/png": "[encoded data removed]",
      "text/plain": [
       "<matplotlib.figure.Figure at 0x2ada84326630>"
      ]
     },
     "metadata": {},
     "output_type": "display_data"
    }
   ],
   "source": [
    "%matplotlib inline\n",
    "import matplotlib.pyplot as plt\n",
    "import seaborn as sns\n",
    "import pandas as pd\n",
    "\n",
    "percent_time_doing_wetlab = 0.35\n",
    "percent_time_doing_drylab = 0.65\n",
    "some_values = {\n",
    "    'wetlab':percent_time_doing_wetlab,\n",
    "    'drylab':percent_time_doing_drylab\n",
    "}\n",
    "df = pd.DataFrame(some_values, index=['Course makeup'])\n",
    "fig, ax = plt.subplots()\n",
    "df.loc['Course makeup'].plot(kind='pie', ax=ax)\n",
    "ax.axis('equal')\n",
    "fig.savefig('my_pie.png')"
   ]
  },
  {
   "cell_type": "markdown",
   "metadata": {},
   "source": [
    "## embed images, webpages:"
   ]
  },
  {
   "cell_type": "code",
   "execution_count": 3,
   "metadata": {},
   "outputs": [
    {
     "data": {
      "text/html": [
       "\n",
       "        <iframe\n",
       "            width=\"800\"\n",
       "            height=\"650\"\n",
       "            src=\"http://byee4.github.io/iris.html\"\n",
       "            frameborder=\"0\"\n",
       "            allowfullscreen\n",
       "        ></iframe>\n",
       "        "
      ],
      "text/plain": [
       "<IPython.lib.display.IFrame at 0x2ada84303be0>"
      ]
     },
     "execution_count": 3,
     "metadata": {},
     "output_type": "execute_result"
    }
   ],
   "source": [
    "from IPython.display import IFrame    \n",
    "IFrame('http://byee4.github.io/iris.html', width=800, height=650)"
   ]
  },
  {
   "cell_type": "markdown",
   "metadata": {},
   "source": [
    "## run terminal commands:\n",
    "- use \"!\" prefixed onto the command inside a cell"
   ]
  },
  {
   "cell_type": "code",
   "execution_count": 4,
   "metadata": {},
   "outputs": [
    {
     "name": "stdout",
     "output_type": "stream",
     "text": [
      "-rw-r--r-- 1 bay001 yeo-group 9391 Jun 28 16:48 my_pie.png\n"
     ]
    }
   ],
   "source": [
    "! ls -l my_pie.png"
   ]
  },
  {
   "cell_type": "markdown",
   "metadata": {},
   "source": [
    "## Other cool stuff"
   ]
  },
  {
   "cell_type": "markdown",
   "metadata": {},
   "source": [
    "- [optimize code](https://jakevdp.github.io/PythonDataScienceHandbook/01.07-timing-and-profiling.html)\n",
    "- [run workflows](https://github.com/jhamrick/nbflow)\n",
    "- [share code](https://mybinder.org/)\n",
    "- [so much more...](https://github.com/markusschanta/awesome-jupyter/blob/master/README.md)"
   ]
  },
  {
   "cell_type": "markdown",
   "metadata": {},
   "source": [
    "# Running Jupyter notebooks in your browser\n",
    "\n",
    "You should already be running this Jupyter notebook inside a running Jupyter server. Congrats!! But just in case you need a reference:\n",
    "\n",
    "```bash\n",
    "jupyter notebook --ip=$(hostname --ip-address) --no-browser\n",
    "```"
   ]
  },
  {
   "cell_type": "markdown",
   "metadata": {},
   "source": [
    "## Instructions for your TSCC terminal:"
   ]
  },
  {
   "cell_type": "markdown",
   "metadata": {},
   "source": [
    "### Follow the TL;DR (from 01_system_setup_TSCC) at the top of this notebook to start an interactive session from within a screen if you haven't already done so.\n",
    "\n",
    "```\n",
    "ssh ucsd-trainXY@tscc-login1.sdsc.edu\n",
    "cd ~\n",
    "ln -s /oasis/tscc/scratch/ucsd-trainXY ./scratch\n",
    "screen -d -r # OR screen if you don't already have an active session yet\n",
    "qsub -I -l walltime=6:00:00 -q home-yeo -l nodes=1:ppn=1\n",
    "```"
   ]
  },
  {
   "cell_type": "markdown",
   "metadata": {},
   "source": [
    "## Install Anaconda:\n",
    "\n",
    "The easiest way to install Jupyter is through [Anaconda](https://docs.anaconda.com/anaconda/), which is a suite of tools that includes many of the software packages (including Python, R, and Jupyter) that data scientists and bioinformaticians use. Also included is ```conda```, which is a utility that helps manage packages within your current environment.\n",
    "\n",
    "### Download and run Anaconda's setup script (This should already be done for you):\n",
    "\n",
    "```bash\n",
    "cd ~\n",
    "wget https://repo.anaconda.com/archive/Anaconda3-2019.03-Linux-x86_64.sh\n",
    "bash Anaconda3-2019.03-Linux-x86_64.sh\n",
    "```"
   ]
  },
  {
   "cell_type": "markdown",
   "metadata": {},
   "source": [
    "## Now you can install software suites (like Samtools), python modules (like pysam) or r packages (such as Seurat) through ```conda```:\n",
    "\n",
    "- If you're unsure whether or not a particular software package is available through conda, google it!"
   ]
  },
  {
   "cell_type": "markdown",
   "metadata": {},
   "source": [
    "### Ensure Jupyter is installed:\n",
    "```bash\n",
    "which jupyter\n",
    "```"
   ]
  },
  {
   "cell_type": "markdown",
   "metadata": {},
   "source": [
    "# **Login to Jupyter!**\n",
    "\n",
    "```bash\n",
    "jupyter notebook --ip=$(hostname --ip-address) --no-browser\n",
    "```"
   ]
  },
  {
   "cell_type": "markdown",
   "metadata": {},
   "source": [
    "## If this worked properly, you should see a link inside your TSCC terminal window that you can follow:\n",
    "- The $(hostname --ip-address) returns a URL associated with the compute node you're in. \n",
    "- The \"token\" ensures that only you have access to your notebooks (if this token is shared, anybody can potentially view and edit your notebooks!)\n",
    "\n",
    "```bash\n",
    "http://111.111.111.11/?token=9c7459a03b65fb0831a9341216532d4f224b185f503ebfba\n",
    "```"
   ]
  },
  {
   "cell_type": "markdown",
   "metadata": {},
   "source": [
    "# TL;DR\n",
    "\n",
    "- login to TSCC and get an interactive node on a screen (terminal window #1):\n",
    "\n",
    "```bash\n",
    "ssh ucsd-trainXY@tscc-login1.sdsc.edu\n",
    "cd ~\n",
    "ln -s /oasis/tscc/scratch/ucsd-trainXY ./scratch\n",
    "screen -d -r # OR screen if you don't already have an active session yet\n",
    "qsub -I -l walltime=6:00:00 -q home-yeo -l nodes=1:ppn=1\n",
    "jupyter notebook --ip=$(hostname --ip-address) --no-browser\n",
    "```"
   ]
  },
  {
   "cell_type": "code",
   "execution_count": null,
   "metadata": {},
   "outputs": [],
   "source": []
  }
 ],
 "metadata": {
  "kernelspec": {
   "display_name": "Python 3",
   "language": "python",
   "name": "python3"
  },
  "language_info": {
   "codemirror_mode": {
    "name": "ipython",
    "version": 3
   },
   "file_extension": ".py",
   "mimetype": "text/x-python",
   "name": "python",
   "nbconvert_exporter": "python",
   "pygments_lexer": "ipython3",
   "version": "3.6.7"
  }
 },
 "nbformat": 4,
 "nbformat_minor": 2
}
