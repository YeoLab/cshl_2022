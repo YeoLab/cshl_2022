{
 "cells": [
  {
   "cell_type": "markdown",
   "metadata": {},
   "source": [
    "# CellRanger"
   ]
  },
  {
   "cell_type": "markdown",
   "metadata": {},
   "source": [
    "The CellRanger [website](https://support.10xgenomics.com/single-cell-gene-expression/software/pipelines/latest/what-is-cell-ranger) has great documentation on how process 10X data. Here, we will run CellRanger example dataset :\n",
    "\n",
    "Human peripheral blood mononuclear cells (PBMCs) of a healthy female donor aged 25-30 were obtained by 10x Genomics from AllCells.\n",
    "\n",
    "Libraries were generated from ~16,000 cells (11,984 cells recovered) as described in the Chromium Single Cell 3' Reagent Kits User Guide (v3.1 Chemistry Dual Index) (CG000315 Rev C) using the Chromium X and sequenced on an Illumina NovaSeq 6000 to a read depth of approximately 40,000 mean reads per cell.\n",
    "\n",
    "Paired-end, dual indexing:\n",
    "\n",
    "    Read 1: 28 cycles (16 bp barcode, 12 bp UMI)\n",
    "    i5 index: 10 cycles (sample index)\n",
    "    i7 index: 10 cycles (sample index)\n",
    "    Read 2: 90 cycles (transcript)\n",
    "\n",
    "Analysis parameters used: --expect-cells=10000 and --include-introns\n",
    "\n",
    "Since this pipeline requires a long time to run, we will submit a job on the cluster rather than running it interactively on JupyterHub.\n"
   ]
  },
  {
   "cell_type": "code",
   "execution_count": null,
   "metadata": {},
   "outputs": [],
   "source": []
  },
  {
   "cell_type": "markdown",
   "metadata": {},
   "source": [
    "## Before we begin data processing using cellranger, make sure you are following the following guidelines:\n",
    "\n",
    "**1) You have logged into TSCC and have a screen running.**\n",
    "    \n",
    "    ssh trainXY@tscc-login11.sdsc.edu\n",
    "    \n",
    "    Replace \"XY\" with your ID (24,25,26, etc)\n",
    "\n",
    "**2) Start a \"screen\" session.**\n",
    "    \n",
    "    Check if you already have a screen session running by typing \"screen -ls\"\n",
    "    \n",
    "    If the output of the above command is \"No Sockets found\", start a new screen session by typing \"screen\"\n",
    "    \n",
    "    Else, connect to the existing session by typing \"screen -r <ID>\". The ID is the numerical ID of the existing screen session.\n",
    "\n",
    "**3) Submit a request to the cluster for a high compute node :**\n",
    "\n",
    "    \"qsub -I -l walltime=12:00:00 -l nodes=1:ppn=4 -q home-yeo\"\n",
    "    \n",
    "    This is send a request to the cluster to provide you with a single node (nodes=1) of 4 high compute processing (ppn=4) for 12 hours (walltime=12:00:00)\n",
    "    \n",
    "    Please wait for the request to be approved before proceeding with data processing\n",
    "\n",
    "**4) Since data processing created large amounts of data, we need to process the data in a different location within the cluster. Change your location on the cluster as follows :\n",
    "\n",
    "    \"cd /oasis/tscc/scratch/ucsd-trainXY\"\n",
    "    \n",
    "    XY == Your course ID (train23, 24, 25, etc)\n",
    "\n",
    "**5) Load the cellranger program so that we can begin processing the data**\n",
    "    \n",
    "    module load cellranger\n",
    "    \n",
    "    Test if the module was successfully loaded by typing \"cellranger --version\""
   ]
  },
  {
   "cell_type": "markdown",
   "metadata": {},
   "source": [
    "## Processing data using CellRanger"
   ]
  },
  {
   "cell_type": "markdown",
   "metadata": {},
   "source": [
    "***cellranger mkfastq***\n",
    "\n",
    "Illumina sequencing instruments generate per-cycle raw base call (BCL) files as primary sequencing output. The cellranger mkfastq pipeline performs the demultiplexing and conversion step for BCL files for each flowcell directory. The final output for demultiplexing is the fastq files, which can used to perform alignments and gene expression analyses. \n",
    "\n",
    "Usually, the sequencing core will perform this step for you and return the fastq files. Hence, we will not cover this step for this tutorial."
   ]
  },
  {
   "cell_type": "markdown",
   "metadata": {},
   "source": [
    "***cellranger count***\n",
    "\n",
    "Cellranger count quantifies single-cell gene expression.\n",
    "\n",
    "The cellranger count command takes FASTQ files from cellranger mkfastq and performs alignment, filtering, and UMI counting. It uses the Chromium cellular barcodes to generate gene-barcode matrices and perform clustering and gene expression analysis. count can take input from multiple sequencing runs on the same library.\n",
    "\n",
    "*cellranger count --expect-cells= < expected number of captured cells > --id=< unique_id > --transcriptome=< path_to_reference_transcriptome > --fastqs=< path_to_directory_containing_fastq_files > --sample=< prefix_of_the_sample_to_process >*\n",
    "\n",
    "As shown above, cellranger count takes 4 required arguments. \n",
    "\n",
    "--id is a unique run ID string, which can be assigned arbitrarily. \n",
    "\n",
    "--fastqs specifies path of the FASTQ directory that usually generated from mkfastq, in this case, this will be location where you downloaded the *Macoska* dataset. \n",
    "\n",
    "--sample indicates sample name as specified in the sample sheet. The sample names must matches the prefixes in the fastq files.\n",
    "\n",
    "--transcriptome specifies path to the Cell Ranger compatible transcriptome reference, in this case, the reference genome is hg19 which can be found here : \n",
    "\n",
    "--expect-cells is optional flag where we can specify the expected number of cells within the sample."
   ]
  },
  {
   "cell_type": "markdown",
   "metadata": {},
   "source": [
    "**As an exercise, fill in the appropriate path and arguments to the cellranger count command**\n",
    "\n",
    "You can find the necessary fastq files in the following directory : **/oasis/tscc/scratch/CSHL_single_cell_2022/data/rnaseq/10k_PBMC_3p_nextgem_Chromium_X_fastqs_downsampled/**\n",
    "\n",
    "Reference genome is available here : **/oasis/tscc/scratch/CSHL_single_cell_2022/single_cell_rnaseq/refdata-gex-GRCh38-2020-A/**\n",
    "\n",
    "Expected # of cells == **10,000**\n",
    "\n",
    "***cellranger count --expect-cells < expected number of captured cells > --id < unique_id > --transcriptome < path_to_reference_transcriptome > --fastqs < path_to_directory_containing_fastq_files > --sample < prefix_of_the_sample_to_process > --localcores 4***"
   ]
  },
  {
   "cell_type": "markdown",
   "metadata": {},
   "source": [
    "***How does cellranger count function ?***\n",
    "![cellranger_workflow](img/cellranger_workflow.png)"
   ]
  },
  {
   "cell_type": "markdown",
   "metadata": {},
   "source": [
    "![output_files](img/cellranger_output_files.png)"
   ]
  },
  {
   "cell_type": "markdown",
   "metadata": {},
   "source": [
    "\n",
    "**Cellranger web summary report**\n",
    "\n",
    "https://assets.ctfassets.net/an68im79xiti/163qWiQBTVi2YLbskJphQX/e90bb82151b1cdab6d7e9b6c845e6130/CG000329_TechnicalNote_InterpretingCellRangerWebSummaryFiles_RevA.pdf"
   ]
  },
  {
   "cell_type": "markdown",
   "metadata": {},
   "source": [
    "There are 2 principal steps to quality control on single cell data:\n",
    "\n",
    "    remove poor quality cells\n",
    "    remove genes with very sparse information\n",
    "\n",
    "For any given gene there will be many cells where there is no observed expression. Most of the times this is a consequence of the low input material. In order to properly estimate the normalization factors for each cell we need to reduce the number of 0’s contained in each cell, without discarding too many genes. The easiest way is to just remove genes with all 0-values, i.e. no evidence of expression in any cell. We can also set a more conservative threshold, where a gene must be expressed in at least N cells."
   ]
  },
  {
   "cell_type": "markdown",
   "metadata": {},
   "source": [
    "We can judge the quality of a cell by several metrics:\n",
    "\n",
    "    Total sequencing coverage or cell library size\n",
    "    Mitochondrial content - cells with high mitochondrial content may have already lysed prior to encapsulation.\n",
    "    Cell sparsity - i.e. proportion of genes in a cell with 0-values"
   ]
  },
  {
   "cell_type": "code",
   "execution_count": null,
   "metadata": {},
   "outputs": [],
   "source": []
  }
 ],
 "metadata": {
  "kernelspec": {
   "display_name": "Python 3 (ipykernel)",
   "language": "python",
   "name": "python3"
  },
  "language_info": {
   "codemirror_mode": {
    "name": "ipython",
    "version": 3
   },
   "file_extension": ".py",
   "mimetype": "text/x-python",
   "name": "python",
   "nbconvert_exporter": "python",
   "pygments_lexer": "ipython3",
   "version": "3.9.12"
  }
 },
 "nbformat": 4,
 "nbformat_minor": 4
}
