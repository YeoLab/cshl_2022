{
 "cells": [
  {
   "cell_type": "markdown",
   "metadata": {
    "tags": []
   },
   "source": [
    "# Choosing the Right Statistical Test\n",
    "**Authors**: Michelle Franc Ragsac (mragsac@eng.ucsd.edu) and Clarence Mah (ckmah@ucsd.edu) \n",
    "\n",
    "**Credit**: Adapted from UCSD CMM262\n",
    "\n",
    "This notebook will be going over statistical testing in the context of scientific and biological data analysis. We'll also continue to explore the Palmer Penguins dataset in Python.\n",
    "\n",
    "## Table of Contents\n",
    "1. [Loading in the Palmer Penguins Dataset](#1.-Review:-Loading-in-the-Palmer-Penguins-Dataset)\n",
    "2. [Hypothesis Testing](#Hypothesis-Testing-on-the-Palmer-Penguins-Dataset:-Does-flipper-length-differ-between-the-Adelie-and-Chinstrap-Species?)\n",
    "\n",
    "---\n",
    "\n",
    "## 1. `Review`: Loading in the Palmer Penguins Dataset\n",
    "\n",
    "Since we'll be using the Palmer Penguins dataset, let's first reload it into this notebook and perform some of the data cleaning in Day 1! "
   ]
  },
  {
   "cell_type": "code",
   "execution_count": null,
   "metadata": {},
   "outputs": [],
   "source": [
    "# Import the packages we need for this section of the notebook\n",
    "import pandas as pd \n",
    "import seaborn as sns"
   ]
  },
  {
   "cell_type": "code",
   "execution_count": null,
   "metadata": {},
   "outputs": [],
   "source": [
    "# Load in the Palmer Penguins dataset from seaborn\n",
    "penguins = sns.load_dataset(\"penguins\")"
   ]
  },
  {
   "cell_type": "code",
   "execution_count": null,
   "metadata": {},
   "outputs": [],
   "source": [
    "# Remove rows with missing data and save the filtered data to the same variable \n",
    "penguins = penguins.dropna()"
   ]
  },
  {
   "cell_type": "markdown",
   "metadata": {},
   "source": [
    "Now that we've done some of the easier stuff for you, let's see if you remember the commands to preview our dataset from the Day 1 notebook!\n",
    "\n",
    "<div class=\"alert alert-block alert-success\">\n",
    "    <p><b>Practice Exercise:</b> Use the <code>info()</code>, <code>describe()</code>, <code>shape</code>, <code>head()</code> and <code>tail()</code> commands to get summary information about the <code>penguins</code> data.</p>\n",
    "</div>"
   ]
  },
  {
   "cell_type": "code",
   "execution_count": null,
   "metadata": {},
   "outputs": [],
   "source": [
    "# !TODO"
   ]
  },
  {
   "cell_type": "markdown",
   "metadata": {
    "execution": {
     "iopub.execute_input": "2020-12-18T00:36:59.778104Z",
     "iopub.status.busy": "2020-12-18T00:36:59.777963Z",
     "iopub.status.idle": "2020-12-18T00:36:59.781401Z",
     "shell.execute_reply": "2020-12-18T00:36:59.780864Z",
     "shell.execute_reply.started": "2020-12-18T00:36:59.778088Z"
    }
   },
   "source": [
    "---\n",
    "\n",
    "## Exploring Variable Types in the Palmer Penguins Dataset\n",
    "In the lecture, we covered that there are two main variable types that you can have: **quantitative** or **categorical** variables. Let's figure out what types of variables we have in our Palmer Penguins dataset!\n",
    "\n",
    "<div class=\"alert alert-block alert-info\">\n",
    "    <h4>Reminder: What are quantitative versus categorical variables?</h4>\n",
    "    <ul>\n",
    "        <li><b>Quantitative variables</b>: numerical values that represent a measurement</li>\n",
    "        <li><b>Categorical variables</b>: Label values that places samples into groups</li>\n",
    "    </ul>\n",
    "</div>"
   ]
  },
  {
   "cell_type": "code",
   "execution_count": null,
   "metadata": {},
   "outputs": [],
   "source": [
    "# Let's preview the dataframe so we can figure out what variable types we have...\n",
    "penguins.head()"
   ]
  },
  {
   "cell_type": "markdown",
   "metadata": {},
   "source": [
    "### Determining the Unique Categories within a Categorical Variable with the `unique()` and `value_counts()` Methods\n",
    "\n",
    "`Series.unique()` processes a column within a `DataFrame` to figure out the set of possible categories that the column variable can take."
   ]
  },
  {
   "cell_type": "code",
   "execution_count": null,
   "metadata": {},
   "outputs": [],
   "source": [
    "# For example, let's determine what unique species we have in our dataset\n",
    "penguins['species'].unique()"
   ]
  },
  {
   "cell_type": "markdown",
   "metadata": {},
   "source": [
    "As expected, we have the `Adelie`, `Chinstrap`, and `Gentoo` penguins represented in our dataset! But what if we want to see how many penguins we have in each category? We can use the `Series.value_counts()` method to do that!\n",
    "\n",
    "<div class=\"alert alert-block alert-info\">\n",
    "    <p>While <code>Series.unique()</code> returns an <code>array</code> (basically a list!) of all of the possible categories you may find within a categorical variable,  the <code>Series.value_counts()</code> method returns another <code>Series</code> object where the rows are labeled with the different categories present, and an unlabeled column contains the number of items present in each category. </p>\n",
    "</div>\n",
    "\n",
    "### Using `seaborn` to Visualize All Quantitative Variables Simultaneously with the `sns.pairplot()` Method \n",
    "Let's see an overview of all pairwise relationships between our **quantitiative** variables with the `sns.pairplot()` method we learned about in Day 1. This time, we can specify the `hue` parameter to color each sample by our `species` categorical variable.\n",
    "\n",
    "<div class=\"alert alert-block alert-info\">\n",
    "    <p>The <code>sns.pairplot()</code> function makes scatterplots by default between two different variables and density plots on the diagonal. (The plots on the diagonal are density plots because it wouldn't be so informative to plot a variable against itself as a scatterplot...)</p>\n",
    "</div>"
   ]
  },
  {
   "cell_type": "code",
   "execution_count": null,
   "metadata": {},
   "outputs": [],
   "source": [
    "# Use the pairplot() method to view relationships between quantitative variables\n",
    "sns.pairplot(penguins, \n",
    "             hue='species', # color each parameter by species and include a legend\n",
    "             corner=True)   # turn off the redundant plots in the upper-right "
   ]
  },
  {
   "cell_type": "markdown",
   "metadata": {},
   "source": [
    "### Visualizing the Distribution for a Single Variable with the `sns.displot()` Method\n",
    "We can plot the distribution for a single variable grouped by species with the `sns.displot()` method, but to do so, we need to set a few command parameters. We've included what they all mean below:  \n",
    "\n",
    "> **Parameters used in the `sns.displot()` command**:\n",
    "> - `data`: specifies the `DataFrame` whose variables to use for plotting\n",
    "> - `x`: variable to plot on the x-axis\n",
    "> - `hue`: group samples by `species` variable\n",
    "> - `kind`: make a `kde` aka density plot\n",
    "> - `fill`: color the area under each curve (so it looks nice)"
   ]
  },
  {
   "cell_type": "code",
   "execution_count": null,
   "metadata": {},
   "outputs": [],
   "source": [
    "# Visualize the distribution for penguin flipper length with sns.displot()\n",
    "sns.displot(data=penguins, x='flipper_length_mm', hue='species', kind='kde', fill=True)"
   ]
  },
  {
   "cell_type": "markdown",
   "metadata": {},
   "source": [
    "--- \n",
    "\n",
    "## Hypothesis Testing on the Palmer Penguins Dataset: *Does flipper length differ between the Adelie and Chinstrap Species?*\n",
    "Let's try to perform hypothesis testing on the question we were asking in lecture. We suspect that flipper length varies between penguin species, specifically between the Adelie and Chinstrap species. Within this section of the notebook, we'll be going through the steps you would take to test this hypothesis! \n",
    "\n",
    "### Filling Out the Hypothesis Checklist\n",
    "Within the lecture, we came up with a checklist of basic things to figure out to see if we have a testable hypothesis. As a review within this notebook, there are three questions for this checklist:\n",
    "\n",
    "1. What are the relevant variables?\n",
    "2. What is the specific group being studied?\n",
    "3. What is the predicted outcome of our experiment and/or analysis?\n",
    "\n",
    "From the lecture, we were able to answer all of these questions! \n",
    "\n",
    "<div class=\"alert alert-block alert-success\">\n",
    "    <p><b>Hypothesis Checklist for Flipper Length Problem:</b></p>\n",
    "    <ul>\n",
    "        <li><u>The relevant variables</u>: flipper length</li>\n",
    "        <li><u>The specific group being studied</u>: Adelie and Chinstrap penguins</li>\n",
    "        <li><u>The predicted outcome of the analysis</u>: different flipper lengths</li>\n",
    "    </ul>\n",
    "</div>\n",
    "\n",
    "### Forming the Null versus Alternative Hypothesis for our Hypothesis Test \n",
    "Following the hypothesis checklist, we can then come up with the a **null hypothesis** and **alternative hypothesis** for our test. Here are the two definitions in case. you need them again: \n",
    "\n",
    "* The **null hypothesis** usually states there is *no relationship* between variables (`status quo`)\n",
    "* The **alternative hypothesis** usually states *the predicted relationship exists* between variables (`change` or `difference`)\n",
    "\n",
    "Here's our two hypotheses from the lecture: \n",
    "\n",
    "<div class=\"alert alert-block alert-success\">\n",
    "    <p><b>Null and Alternative Hypothesis for Flipper Length Problem:</b></p>\n",
    "    <ul>\n",
    "        <li><b>The Null Hypothesis (H<sub>0</sub>)</b>: Adelie penguins <i>do not have</i> different sized flippers than Chinstrap penguins</li>\n",
    "        <li><b>The Alternative Hypothesis (H<sub>a</sub>)</b>: Adelie penguins <i>do have</i> different sized flippers than Chinstrap penguins</li>\n",
    "    </ul>\n",
    "</div>\n",
    "\n",
    "### Separating and Saving the Adelie and Chinstrap Samples to New Variables for Easier Testing with the `DataFrame.loc[]` Method.\n",
    "In preparation for our hypothesis testing exercise, let's save our samples to separate variables to make our code a little bit cleaner! To do this, we'll be using the `DataFrame.loc[]` Method, which allows you to locate data points that meet a specific condition. \n",
    "\n",
    "Within this section of the notebook, we'll be using the `DataFrame.loc[]` method to identify rows (data points in our dataset) that have a `\"Adelie\"` or `\"Chinstrap\"` value within the `species` column! "
   ]
  },
  {
   "cell_type": "code",
   "execution_count": null,
   "metadata": {},
   "outputs": [],
   "source": [
    "# (1) For each value in the species variable, let's check if it equals `Adelie` \n",
    "penguins['species'] == 'Adelie'"
   ]
  },
  {
   "cell_type": "markdown",
   "metadata": {},
   "source": [
    "The output of the command in the previous code block identifies the rows that have the `\"Adelie\"` value in the `species` column, marking it as `True` if it does have the expected  value, and `False` if it does not have the expected value. \n",
    "\n",
    "We can use this command as a parameter **within** the `DataFrame.loc[]` method to sort out which data points belong to Adelie penguins, then save it to a variable. \n",
    "\n",
    "<div class=\"alert alert-block alert-info\">\n",
    "    <p>Take note that the <code>DataFrame.loc[]</code> method uses <b>brackets</b> instead of parentheses!</p>\n",
    "</div>"
   ]
  },
  {
   "cell_type": "code",
   "execution_count": null,
   "metadata": {},
   "outputs": [],
   "source": [
    "# (2) Locate all data points belonging to Adelie penguins\n",
    "adelie = penguins.loc[penguins['species'] == 'Adelie']\n",
    "\n",
    "# (3) Use the DataFrame.shape parameter to see how many samples we have\n",
    "adelie.shape"
   ]
  },
  {
   "cell_type": "markdown",
   "metadata": {},
   "source": [
    "<div class=\"alert alert-block alert-success\">\n",
    "    <p><b>Exercise:</b> Save the 'Chinstrap' species penguins to the variable <code>chinstrap</code>. How many Chinstrap penguins are there in the dataset?</p>\n",
    "</div>"
   ]
  },
  {
   "cell_type": "code",
   "execution_count": null,
   "metadata": {},
   "outputs": [],
   "source": [
    "# TODO"
   ]
  },
  {
   "cell_type": "markdown",
   "metadata": {},
   "source": [
    "---\n",
    "\n",
    "## Testing Our Flipper Length Hypothesis with a Parametric and Non-Parametric Test through the `scipy.stats` Python Module\n",
    "\n",
    "Now that we're all prepped for our hypothesis testing, the next step is to perform our statistical test! The main goal of this step is to provide **evidence** that either **supports** or **refutes** your null hypothesis. \n",
    "\n",
    "Regardless of the statistical test we choose, it will always generate: \n",
    "\n",
    "1. A **test statistic** (e.g., A `t-test` statistic is an estimate of the **difference in means** of the two groups)\n",
    "2. A **p-value** (e.g., A `t-test` p-value is the **probability of observing** this difference *assuming the null hypothesis is true*)\n",
    "\n",
    "<div class=\"alert alert-block alert-info\">\n",
    "    <p><b>Need help figuring out which statistical test to use?</b></p>\n",
    "    <details>\n",
    "        <summary><b>[CLICK ME]</b> Useful Cheatsheets for Selecting a Statistical Test</summary>\n",
    "        <h4>Parametric Test</h4>\n",
    "        <img src=\"img/day2_parametric_chart.png\" alt=\"Parametric test flowchart\">\n",
    "        <h4>Non-Parametric Tests</h4>\n",
    "        <img src=\"img/day2_nonparametric_chart.png\" alt=\"Non parametric test table\">\n",
    "    </details>\n",
    "</div>    \n",
    "\n",
    "Within this next section, we'll be using the `stats` module from the `scipy` Python package. This popular library of code contains functions for a bunch of commonly-used statistical tests!"
   ]
  },
  {
   "cell_type": "code",
   "execution_count": null,
   "metadata": {},
   "outputs": [],
   "source": [
    "# Import the scipy.stats module to gain access to statistical tests\n",
    "from scipy import stats"
   ]
  },
  {
   "cell_type": "markdown",
   "metadata": {},
   "source": [
    "### Performing a Parametric Test to Evaluate Flipper Length\n",
    "\n",
    "A **parametric** statistical test assumes the following qualities about our data: \n",
    "\n",
    "* The distribution of the data is relatively **normal** \n",
    "* We **completely know** everything there is about the population being studied\n",
    "* We want to measure the difference between the **means** of variables being tested\n",
    "\n",
    "Within our hypothesis that we've formulated for the flipper length question, we want to see if a `categorical` variable—in our case, the `species` of our penguin—is able to predict a `quantitative` outcome. Because there are only *two* groups being tested—`Adelie` and `Chinstrap` pengins—we can use the `t-test` to test our hypothesis! \n",
    "\n",
    "<div class=\"alert alert-block alert-info\">\n",
    "    <p><b>The Student's t-test</b></p>\n",
    "    <p>The Student's t-test is a two-sample location test of the null hypothesis such that the means of the two populations are equal.<br>The variances of the two populations are also assumed to be equal.</p>\n",
    "</div>    \n",
    "\n",
    "Within this section, let's perform `an independent, two-sample t-test` to compare Adelie penguin flipper lengths against Chinstrap penguin flipper lengths from the Palmer Penguin dataset! We can use the `scipy.stats.ttest_ind()` method to do this! "
   ]
  },
  {
   "cell_type": "code",
   "execution_count": null,
   "metadata": {},
   "outputs": [],
   "source": [
    "ttest_result = stats.ttest_ind(adelie['flipper_length_mm'], \n",
    "                               chinstrap['flipper_length_mm'])"
   ]
  },
  {
   "cell_type": "code",
   "execution_count": null,
   "metadata": {},
   "outputs": [],
   "source": [
    "ttest_result"
   ]
  },
  {
   "cell_type": "markdown",
   "metadata": {},
   "source": [
    "Let's set our significance threshold as `0.05` through the variable called `alpha`, then evaluate if the p-value we got from the significance test is below that threshold."
   ]
  },
  {
   "cell_type": "code",
   "execution_count": null,
   "metadata": {},
   "outputs": [],
   "source": [
    "# Set the significance threshold as 0.05 \n",
    "alpha = 0.05"
   ]
  },
  {
   "cell_type": "code",
   "execution_count": null,
   "metadata": {},
   "outputs": [],
   "source": [
    "# Evaluate if the p-value of our test result is below our threshold\n",
    "ttest_result.pvalue < alpha"
   ]
  },
  {
   "cell_type": "markdown",
   "metadata": {},
   "source": [
    "<div class=\"alert alert-block alert-success\">\n",
    "    <p><b>Exercise:</b> Does the outcome of your test support or refute your null hypothesis?</p>\n",
    "    <p><b>Note:</b> The convention is to use an <code>alpha</code> (aka significance threshold) of <code>0.05</code>. This does not necessarily fit every scenario, especially if you are testing something with wide-ranging consequences e.g. whether a drug works in a clinical trial! This is merely a framework to assign statistical significance and at best evidence to support a hypothesis.</p>\n",
    "</div>"
   ]
  },
  {
   "cell_type": "code",
   "execution_count": null,
   "metadata": {},
   "outputs": [],
   "source": [
    "# TODO"
   ]
  },
  {
   "cell_type": "markdown",
   "metadata": {},
   "source": [
    "### Performing a Non-Parametric Test to Evaluate Flipper Length\n",
    "A **non-parametric** statistical test assumes the following qualities about our data:\n",
    "\n",
    "* The distribution of the data is **non-normal** \n",
    "* We **do not know** everything there is to know about the population being studied \n",
    "* We want to measure the difference between the **medians** of the variables being tested. \n",
    "\n",
    "As the `Wilcoxon rank-sum test` can be used as the non-parametric equivalent of the `t-test`, we'll be using the former within this portion of the notebook. \n",
    "\n",
    "<div class=\"alert alert-block alert-info\">\n",
    "    <p><b>Wilcoxon rank-sum test</b></p>\n",
    "    <p>The Wilcoxon rank-sum test (also known as the Mann-Whitney U test) assumes that all observations from both groups being tested are independent of each other and the results are ordinal. Additionally, under the null hypothesis, it is assumed that the distributions of both populations are equal, and under the alternative hypothesis, that the distributions are not equal.</p>\n",
    "</div>    \n",
    "\n",
    "We can use the `scipy.stats.ranksums()` method to perform this test! But... we'll let you figure out how to do so in the last exercise for this notebook! \n",
    "\n",
    "<div class=\"alert alert-block alert-success\">\n",
    "    <b>Exercise:</b> Perform the Wilcoxon rank-sum test with the <code>stats.ranksums()</code> function. Print the statistic and p-value. Does the p-value meet the significance threshold of <code>alpha=0.05</code>? How does the p-value compare to the p-value generated by the t-test?\n",
    "</div>"
   ]
  },
  {
   "cell_type": "code",
   "execution_count": null,
   "metadata": {},
   "outputs": [],
   "source": [
    "# TODO"
   ]
  }
 ],
 "metadata": {
  "kernelspec": {
   "display_name": "Python 3 (ipykernel)",
   "language": "python",
   "name": "python3"
  },
  "language_info": {
   "codemirror_mode": {
    "name": "ipython",
    "version": 3
   },
   "file_extension": ".py",
   "mimetype": "text/x-python",
   "name": "python",
   "nbconvert_exporter": "python",
   "pygments_lexer": "ipython3",
   "version": "3.9.12"
  },
  "toc-autonumbering": false
 },
 "nbformat": 4,
 "nbformat_minor": 4
}
