{
 "cells": [
  {
   "cell_type": "markdown",
   "metadata": {
    "colab_type": "text",
    "id": "view-in-github"
   },
   "source": [
    "<a href=\"https://colab.research.google.com/github/afvallejo/CSHL2022/blob/main/Part_0_alingment_Multiomedata.ipynb\" target=\"_parent\"><img src=\"https://colab.research.google.com/assets/colab-badge.svg\" alt=\"Open In Colab\"/></a>"
   ]
  },
  {
   "cell_type": "markdown",
   "metadata": {
    "id": "mqridQFSnEQ5"
   },
   "source": [
    "# Setup\n",
    "## **Note** The contents of this notebook are large! Any problems may be resource-related."
   ]
  },
  {
   "cell_type": "markdown",
   "metadata": {
    "id": "eGnsCTBWnEQ6"
   },
   "source": [
    "## link Gdrive (Only needed for Google colab users)"
   ]
  },
  {
   "cell_type": "raw",
   "metadata": {
    "id": "DgYNtX2H5WEL"
   },
   "source": [
    "from google.colab import drive\n",
    "drive.mount('/content/drive',force_remount=True)"
   ]
  },
  {
   "cell_type": "markdown",
   "metadata": {
    "id": "rmQWfbxg-1X8"
   },
   "source": [
    "# Download raw data"
   ]
  },
  {
   "cell_type": "markdown",
   "metadata": {
    "id": "B5Jni4FmA7WH"
   },
   "source": [
    "You can download test data from 10X. This could be a usefull toll to get training on how the data should look and get some experience with your tipe *data*. [10X datasets](https://www.10xgenomics.com/resources/datasets?query=&page=1&configure%5Bfacets%5D%5B0%5D=chemistryVersionAndThroughput&configure%5Bfacets%5D%5B1%5D=pipeline.version&configure%5BhitsPerPage%5D=500)"
   ]
  },
  {
   "cell_type": "code",
   "execution_count": 1,
   "metadata": {
    "id": "QfPxs-uC-0sL"
   },
   "outputs": [
    {
     "name": "stdout",
     "output_type": "stream",
     "text": [
      "--2022-07-13 11:22:30--  https://s3-us-west-2.amazonaws.com/10x.files/samples/cell-arc/2.0.0/pbmc_unsorted_3k/pbmc_unsorted_3k_fastqs.tar\n",
      "Resolving s3-us-west-2.amazonaws.com (s3-us-west-2.amazonaws.com)... 52.218.217.128\n",
      "Connecting to s3-us-west-2.amazonaws.com (s3-us-west-2.amazonaws.com)|52.218.217.128|:443... connected.\n",
      "HTTP request sent, awaiting response... 200 OK\n",
      "Length: 23251578880 (22G) [application/x-tar]\n",
      "Saving to: ‘pbmc_unsorted_3k_fastqs.tar.1’\n",
      "\n",
      "pbmc_unsorted_3k_fa 100%[===================>]  21.65G  31.4MB/s    in 15m 9s  \n",
      "\n",
      "2022-07-13 11:37:40 (24.4 MB/s) - ‘pbmc_unsorted_3k_fastqs.tar.1’ saved [23251578880/23251578880]\n",
      "\n",
      "--2022-07-13 11:37:40--  https://cf.10xgenomics.com/samples/cell-arc/2.0.0/pbmc_unsorted_3k/pbmc_unsorted_3k_library.csv\n",
      "Resolving cf.10xgenomics.com (cf.10xgenomics.com)... 104.18.0.173, 104.18.1.173, 2606:4700::6812:ad, ...\n",
      "Connecting to cf.10xgenomics.com (cf.10xgenomics.com)|104.18.0.173|:443... connected.\n",
      "HTTP request sent, awaiting response... 200 OK\n",
      "Length: 176 [text/csv]\n",
      "Saving to: ‘pbmc_unsorted_3k_library.csv.1’\n",
      "\n",
      "pbmc_unsorted_3k_li 100%[===================>]     176  --.-KB/s    in 0s      \n",
      "\n",
      "2022-07-13 11:37:41 (8.05 MB/s) - ‘pbmc_unsorted_3k_library.csv.1’ saved [176/176]\n",
      "\n"
     ]
    }
   ],
   "source": [
    "# download test data from 10X ( ~10min)\n",
    "\n",
    "#3K PBMC\n",
    "!wget https://s3-us-west-2.amazonaws.com/10x.files/samples/cell-arc/2.0.0/pbmc_unsorted_3k/pbmc_unsorted_3k_fastqs.tar\n",
    "!wget https://cf.10xgenomics.com/samples/cell-arc/2.0.0/pbmc_unsorted_3k/pbmc_unsorted_3k_library.csv\n",
    "\n",
    "\n",
    "#10K PBMC\n",
    "#!wget https://s3-us-west-2.amazonaws.com/10x.files/samples/cell-arc/2.0.0/10k_PBMC_Multiome_nextgem_Chromium_X/10k_PBMC_Multiome_nextgem_Chromium_X_fastqs.tar\n",
    "#!wget https://cf.10xgenomics.com/samples/cell-arc/2.0.0/10k_PBMC_Multiome_nextgem_Chromium_X/10k_PBMC_Multiome_nextgem_Chromium_X_library.csv"
   ]
  },
  {
   "cell_type": "code",
   "execution_count": 2,
   "metadata": {
    "id": "HejkBYTB_eO4"
   },
   "outputs": [
    {
     "name": "stdout",
     "output_type": "stream",
     "text": [
      "pbmc_unsorted_3k/\n",
      "pbmc_unsorted_3k/atac/\n",
      "pbmc_unsorted_3k/atac/pbmc_unsorted_3k_S3_L001_R1_001.fastq.gz\n",
      "pbmc_unsorted_3k/atac/pbmc_unsorted_3k_S3_L001_R2_001.fastq.gz\n",
      "pbmc_unsorted_3k/atac/pbmc_unsorted_3k_S3_L002_I1_001.fastq.gz\n",
      "pbmc_unsorted_3k/atac/pbmc_unsorted_3k_S3_L001_R3_001.fastq.gz\n",
      "pbmc_unsorted_3k/atac/pbmc_unsorted_3k_S3_L003_I1_001.fastq.gz\n",
      "pbmc_unsorted_3k/atac/pbmc_unsorted_3k_S3_L003_R3_001.fastq.gz\n",
      "pbmc_unsorted_3k/atac/pbmc_unsorted_3k_S3_L003_R2_001.fastq.gz\n",
      "pbmc_unsorted_3k/atac/pbmc_unsorted_3k_S3_L003_R1_001.fastq.gz\n",
      "pbmc_unsorted_3k/atac/pbmc_unsorted_3k_S3_L002_R2_001.fastq.gz\n",
      "pbmc_unsorted_3k/atac/pbmc_unsorted_3k_S3_L001_I1_001.fastq.gz\n",
      "pbmc_unsorted_3k/atac/pbmc_unsorted_3k_S3_L002_R3_001.fastq.gz\n",
      "pbmc_unsorted_3k/atac/pbmc_unsorted_3k_S3_L002_R1_001.fastq.gz\n",
      "pbmc_unsorted_3k/atac/pbmc_unsorted_3k_S3_L004_R3_001.fastq.gz\n",
      "pbmc_unsorted_3k/atac/pbmc_unsorted_3k_S3_L004_R2_001.fastq.gz\n",
      "pbmc_unsorted_3k/atac/pbmc_unsorted_3k_S3_L004_R1_001.fastq.gz\n",
      "pbmc_unsorted_3k/atac/pbmc_unsorted_3k_S3_L004_I1_001.fastq.gz\n",
      "pbmc_unsorted_3k/gex/\n",
      "pbmc_unsorted_3k/gex/pbmc_unsorted_3k_S01_L003_R2_001.fastq.gz\n",
      "pbmc_unsorted_3k/gex/pbmc_unsorted_3k_S01_L003_R1_001.fastq.gz\n",
      "pbmc_unsorted_3k/gex/pbmc_unsorted_3k_S01_L003_I2_001.fastq.gz\n",
      "pbmc_unsorted_3k/gex/pbmc_unsorted_3k_S01_L003_I1_001.fastq.gz\n",
      "pbmc_unsorted_3k/gex/pbmc_unsorted_3k_S01_L004_I2_001.fastq.gz\n",
      "pbmc_unsorted_3k/gex/pbmc_unsorted_3k_S01_L004_I1_001.fastq.gz\n",
      "pbmc_unsorted_3k/gex/pbmc_unsorted_3k_S01_L004_R2_001.fastq.gz\n",
      "pbmc_unsorted_3k/gex/pbmc_unsorted_3k_S01_L004_R1_001.fastq.gz\n"
     ]
    }
   ],
   "source": [
    "# untar fastq files\n",
    "# Human PBMC\n",
    "!tar -xvf pbmc_unsorted_3k_fastqs.tar"
   ]
  },
  {
   "cell_type": "markdown",
   "metadata": {
    "id": "8Yi0JSumAJOA"
   },
   "source": [
    "# Install Cell Ranger ARC"
   ]
  },
  {
   "cell_type": "code",
   "execution_count": 3,
   "metadata": {
    "id": "6E9zlTcp23OK"
   },
   "outputs": [
    {
     "name": "stdout",
     "output_type": "stream",
     "text": [
      "/projects/ps-yeolab3/bay001/codebase/cshl_2022/3_multiomics/notebooks/content\n"
     ]
    }
   ],
   "source": [
    "%cd content/"
   ]
  },
  {
   "cell_type": "markdown",
   "metadata": {
    "id": "icmbJYNcLxRT"
   },
   "source": [
    "the link for downlading cellranger is unique, and have to be retrieved every time by click in the link, and coping the wget code"
   ]
  },
  {
   "cell_type": "markdown",
   "metadata": {
    "id": "F2A1amDmAuqL"
   },
   "source": [
    "[Link to Cellranger ARC](https://support.10xgenomics.com/single-cell-multiome-atac-gex/software/downloads/latest)"
   ]
  },
  {
   "cell_type": "code",
   "execution_count": 4,
   "metadata": {
    "id": "XJvUWwjCAq3t"
   },
   "outputs": [
    {
     "name": "stdout",
     "output_type": "stream",
     "text": [
      "--2022-07-13 11:39:17--  https://cf.10xgenomics.com/releases/cell-arc/cellranger-arc-2.0.1.tar.gz?Expires=1657778668&Policy=eyJTdGF0ZW1lbnQiOlt7IlJlc291cmNlIjoiaHR0cHM6Ly9jZi4xMHhnZW5vbWljcy5jb20vcmVsZWFzZXMvY2VsbC1hcmMvY2VsbHJhbmdlci1hcmMtMi4wLjEudGFyLmd6IiwiQ29uZGl0aW9uIjp7IkRhdGVMZXNzVGhhbiI6eyJBV1M6RXBvY2hUaW1lIjoxNjU3Nzc4NjY4fX19XX0_&Signature=BSWlJL58LIpQb-kV029SCI4B9tpeE-dVPkM9YB8QcuE3Kclu4cEwuRZ0HqAtQO92B9SpzTUrw8MT2w6d5DyBVmZjopLAcQwkFFAydmHBYYHdV9N2gvsKBPSc681N58d8Ma87jlP3ROZcE7xpvbpieNQJq0QTQUb-LBQFMVBbLNjry9QL5fKh-FOz-KM6f0onyw57md6HLe5ZFOftCVmfYChcGL4P2iZsbbaIOx4KRtuph-ifcjOB8IsFbEzaBasPe~YL17CnM-FZ8H4UahPHfxVRb20TZRynEXdKvD7Bx5xqGU9bR7or9x54lChtD6Jd-lTia8Eef1nRDcujnSaf~w__&Key-Pair-Id=APKAI7S6A5RYOXBWRPDA\n",
      "Resolving cf.10xgenomics.com (cf.10xgenomics.com)... 104.18.1.173, 104.18.0.173, 2606:4700::6812:ad, ...\n",
      "Connecting to cf.10xgenomics.com (cf.10xgenomics.com)|104.18.1.173|:443... connected.\n",
      "HTTP request sent, awaiting response... 200 OK\n",
      "Length: 732862393 (699M) [application/x-tar]\n",
      "Saving to: ‘cellranger-arc-2.0.1.tar.gz’\n",
      "\n",
      "cellranger-arc-2.0. 100%[===================>] 698.91M   138MB/s    in 5.1s    \n",
      "\n",
      "2022-07-13 11:39:22 (136 MB/s) - ‘cellranger-arc-2.0.1.tar.gz’ saved [732862393/732862393]\n",
      "\n"
     ]
    }
   ],
   "source": [
    "! wget -O cellranger-arc-2.0.1.tar.gz \"https://cf.10xgenomics.com/releases/cell-arc/cellranger-arc-2.0.1.tar.gz?Expires=1657778668&Policy=eyJTdGF0ZW1lbnQiOlt7IlJlc291cmNlIjoiaHR0cHM6Ly9jZi4xMHhnZW5vbWljcy5jb20vcmVsZWFzZXMvY2VsbC1hcmMvY2VsbHJhbmdlci1hcmMtMi4wLjEudGFyLmd6IiwiQ29uZGl0aW9uIjp7IkRhdGVMZXNzVGhhbiI6eyJBV1M6RXBvY2hUaW1lIjoxNjU3Nzc4NjY4fX19XX0_&Signature=BSWlJL58LIpQb-kV029SCI4B9tpeE-dVPkM9YB8QcuE3Kclu4cEwuRZ0HqAtQO92B9SpzTUrw8MT2w6d5DyBVmZjopLAcQwkFFAydmHBYYHdV9N2gvsKBPSc681N58d8Ma87jlP3ROZcE7xpvbpieNQJq0QTQUb-LBQFMVBbLNjry9QL5fKh-FOz-KM6f0onyw57md6HLe5ZFOftCVmfYChcGL4P2iZsbbaIOx4KRtuph-ifcjOB8IsFbEzaBasPe~YL17CnM-FZ8H4UahPHfxVRb20TZRynEXdKvD7Bx5xqGU9bR7or9x54lChtD6Jd-lTia8Eef1nRDcujnSaf~w__&Key-Pair-Id=APKAI7S6A5RYOXBWRPDA\""
   ]
  },
  {
   "cell_type": "code",
   "execution_count": 5,
   "metadata": {
    "id": "SGiTVy-2AN9Z"
   },
   "outputs": [],
   "source": [
    "# ~15 min (there are a lot of files to unpack!)\n",
    "!tar -xzf cellranger-arc-2.0.1.tar.gz"
   ]
  },
  {
   "cell_type": "markdown",
   "metadata": {
    "id": "IQP9I8RoAUf9"
   },
   "source": [
    "# Download References\n",
    "- Minor correction here. We've already cd into content/, so this cell does not apply."
   ]
  },
  {
   "cell_type": "code",
   "execution_count": 6,
   "metadata": {
    "id": "6MxrvV2uBAXg"
   },
   "outputs": [
    {
     "name": "stdout",
     "output_type": "stream",
     "text": [
      "[Errno 2] No such file or directory: 'content/'\n",
      "/projects/ps-yeolab3/bay001/codebase/cshl_2022/3_multiomics/notebooks/content\n"
     ]
    }
   ],
   "source": [
    "%cd content/"
   ]
  },
  {
   "cell_type": "markdown",
   "metadata": {
    "id": "ikDhgrBnBH3M"
   },
   "source": [
    "##Human"
   ]
  },
  {
   "cell_type": "code",
   "execution_count": 7,
   "metadata": {
    "id": "yU1RuernAWyj"
   },
   "outputs": [
    {
     "name": "stdout",
     "output_type": "stream",
     "text": [
      "--2022-07-13 11:43:47--  https://cf.10xgenomics.com/supp/cell-arc/refdata-cellranger-arc-GRCh38-2020-A-2.0.0.tar.gz\n",
      "Resolving cf.10xgenomics.com (cf.10xgenomics.com)... 104.18.0.173, 104.18.1.173, 2606:4700::6812:1ad, ...\n",
      "Connecting to cf.10xgenomics.com (cf.10xgenomics.com)|104.18.0.173|:443... connected.\n",
      "HTTP request sent, awaiting response... 200 OK\n",
      "Length: 14875056834 (14G) [application/x-tar]\n",
      "Saving to: ‘refdata-cellranger-arc-GRCh38-2020-A-2.0.0.tar.gz’\n",
      "\n",
      "refdata-cellranger- 100%[===================>]  13.85G  20.9MB/s    in 11m 50s \n",
      "\n",
      "2022-07-13 11:55:39 (20.0 MB/s) - ‘refdata-cellranger-arc-GRCh38-2020-A-2.0.0.tar.gz’ saved [14875056834/14875056834]\n",
      "\n",
      "refdata-cellranger-arc-GRCh38-2020-A-2.0.0/\n",
      "refdata-cellranger-arc-GRCh38-2020-A-2.0.0/fasta/\n",
      "refdata-cellranger-arc-GRCh38-2020-A-2.0.0/fasta/genome.fa\n",
      "refdata-cellranger-arc-GRCh38-2020-A-2.0.0/fasta/genome.fa.fai\n",
      "refdata-cellranger-arc-GRCh38-2020-A-2.0.0/fasta/genome.fa.pac\n",
      "refdata-cellranger-arc-GRCh38-2020-A-2.0.0/fasta/genome.fa.ann\n",
      "refdata-cellranger-arc-GRCh38-2020-A-2.0.0/fasta/genome.fa.amb\n",
      "refdata-cellranger-arc-GRCh38-2020-A-2.0.0/fasta/genome.fa.bwt\n",
      "refdata-cellranger-arc-GRCh38-2020-A-2.0.0/fasta/genome.fa.sa\n",
      "refdata-cellranger-arc-GRCh38-2020-A-2.0.0/genes/\n",
      "refdata-cellranger-arc-GRCh38-2020-A-2.0.0/genes/genes.gtf.gz\n",
      "refdata-cellranger-arc-GRCh38-2020-A-2.0.0/star/\n",
      "refdata-cellranger-arc-GRCh38-2020-A-2.0.0/star/chrName.txt\n",
      "refdata-cellranger-arc-GRCh38-2020-A-2.0.0/star/chrStart.txt\n",
      "refdata-cellranger-arc-GRCh38-2020-A-2.0.0/star/chrLength.txt\n",
      "refdata-cellranger-arc-GRCh38-2020-A-2.0.0/star/chrNameLength.txt\n",
      "refdata-cellranger-arc-GRCh38-2020-A-2.0.0/star/exonGeTrInfo.tab\n",
      "refdata-cellranger-arc-GRCh38-2020-A-2.0.0/star/geneInfo.tab\n",
      "refdata-cellranger-arc-GRCh38-2020-A-2.0.0/star/transcriptInfo.tab\n",
      "refdata-cellranger-arc-GRCh38-2020-A-2.0.0/star/exonInfo.tab\n",
      "refdata-cellranger-arc-GRCh38-2020-A-2.0.0/star/sjdbList.fromGTF.out.tab\n",
      "refdata-cellranger-arc-GRCh38-2020-A-2.0.0/star/sjdbInfo.txt\n",
      "refdata-cellranger-arc-GRCh38-2020-A-2.0.0/star/sjdbList.out.tab\n",
      "refdata-cellranger-arc-GRCh38-2020-A-2.0.0/star/genomeParameters.txt\n",
      "refdata-cellranger-arc-GRCh38-2020-A-2.0.0/star/Genome\n",
      "refdata-cellranger-arc-GRCh38-2020-A-2.0.0/star/SA\n",
      "refdata-cellranger-arc-GRCh38-2020-A-2.0.0/star/SAindex\n",
      "refdata-cellranger-arc-GRCh38-2020-A-2.0.0/reference.json\n",
      "refdata-cellranger-arc-GRCh38-2020-A-2.0.0/regions/\n",
      "refdata-cellranger-arc-GRCh38-2020-A-2.0.0/regions/tss.bed\n",
      "refdata-cellranger-arc-GRCh38-2020-A-2.0.0/regions/transcripts.bed\n",
      "refdata-cellranger-arc-GRCh38-2020-A-2.0.0/regions/motifs.pfm\n"
     ]
    }
   ],
   "source": [
    "# ~15 min \n",
    "!wget https://cf.10xgenomics.com/supp/cell-arc/refdata-cellranger-arc-GRCh38-2020-A-2.0.0.tar.gz\n",
    "!tar -xzvf refdata-cellranger-arc-GRCh38-2020-A-2.0.0.tar.gz"
   ]
  },
  {
   "cell_type": "markdown",
   "metadata": {
    "id": "c6cyWp6_ws-y"
   },
   "source": [
    "# Alignment and peak calling\n",
    "- This step takes several hours, so kill process once it starts running as this is only for demo purposes.\n",
    "- Outputs will be in '3k_PBMC_Multiome' (same as --id)"
   ]
  },
  {
   "cell_type": "code",
   "execution_count": 11,
   "metadata": {
    "id": "5E-BqR3Y74uG"
   },
   "outputs": [
    {
     "name": "stdout",
     "output_type": "stream",
     "text": [
      "^C\n"
     ]
    },
    {
     "data": {
      "text/plain": [
       "[]"
      ]
     },
     "execution_count": 11,
     "metadata": {},
     "output_type": "execute_result"
    }
   ],
   "source": [
    "%%!\n",
    "cd ../\n",
    "library='pbmc_unsorted_3k_library.csv'  # modify the path inside this file to the downloaded 10x datasets (must be full path)!\n",
    "\n",
    "content/cellranger-arc-2.0.1/cellranger-arc count --id=3k_PBMC_Multiome --reference=content/refdata-cellranger-arc-GRCh38-2020-A-2.0.0 --libraries=$library "
   ]
  },
  {
   "cell_type": "code",
   "execution_count": null,
   "metadata": {
    "id": "-2NJwFOwHSQX"
   },
   "outputs": [],
   "source": []
  }
 ],
 "metadata": {
  "colab": {
   "collapsed_sections": [],
   "include_colab_link": true,
   "machine_shape": "hm",
   "name": "Part_0_alingment_Multiomedata.ipynb",
   "provenance": []
  },
  "gpuClass": "standard",
  "kernelspec": {
   "display_name": "Python 3 (ipykernel)",
   "language": "python",
   "name": "python3"
  },
  "language_info": {
   "codemirror_mode": {
    "name": "ipython",
    "version": 3
   },
   "file_extension": ".py",
   "mimetype": "text/x-python",
   "name": "python",
   "nbconvert_exporter": "python",
   "pygments_lexer": "ipython3",
   "version": "3.9.12"
  }
 },
 "nbformat": 4,
 "nbformat_minor": 4
}
