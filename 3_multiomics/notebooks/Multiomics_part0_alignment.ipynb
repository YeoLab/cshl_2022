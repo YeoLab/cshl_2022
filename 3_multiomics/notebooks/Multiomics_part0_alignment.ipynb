{
 "cells": [
  {
   "cell_type": "markdown",
   "metadata": {
    "colab_type": "text",
    "id": "view-in-github"
   },
   "source": [
    "<a href=\"https://colab.research.google.com/github/afvallejo/CSHL2022/blob/main/Part_0_alingment_Multiomedata.ipynb\" target=\"_parent\"><img src=\"https://colab.research.google.com/assets/colab-badge.svg\" alt=\"Open In Colab\"/></a>"
   ]
  },
  {
   "cell_type": "markdown",
   "metadata": {
    "id": "mqridQFSnEQ5"
   },
   "source": [
    "# Setup"
   ]
  },
  {
   "cell_type": "markdown",
   "metadata": {
    "id": "eGnsCTBWnEQ6"
   },
   "source": [
    "## link Gdrive"
   ]
  },
  {
   "cell_type": "code",
   "execution_count": null,
   "metadata": {
    "id": "DgYNtX2H5WEL"
   },
   "outputs": [],
   "source": [
    "from google.colab import drive\n",
    "drive.mount('/content/drive',force_remount=True)"
   ]
  },
  {
   "cell_type": "markdown",
   "metadata": {
    "id": "rmQWfbxg-1X8"
   },
   "source": [
    "# Download raw data"
   ]
  },
  {
   "cell_type": "markdown",
   "metadata": {
    "id": "B5Jni4FmA7WH"
   },
   "source": [
    "You can download test data from 10X. This could be a usefull toll to get training on how the data should look and get some experience with your tipe *data*. [10X datasets](https://www.10xgenomics.com/resources/datasets?query=&page=1&configure%5Bfacets%5D%5B0%5D=chemistryVersionAndThroughput&configure%5Bfacets%5D%5B1%5D=pipeline.version&configure%5BhitsPerPage%5D=500)"
   ]
  },
  {
   "cell_type": "code",
   "execution_count": null,
   "metadata": {
    "id": "QfPxs-uC-0sL"
   },
   "outputs": [],
   "source": [
    "# download test data from 10X ( ~10min)\n",
    "\n",
    "#3K PBMC\n",
    "!wget https://s3-us-west-2.amazonaws.com/10x.files/samples/cell-arc/2.0.0/pbmc_unsorted_3k/pbmc_unsorted_3k_fastqs.tar\n",
    "!wget https://cf.10xgenomics.com/samples/cell-arc/2.0.0/pbmc_unsorted_3k/pbmc_unsorted_3k_library.csv\n",
    "\n",
    "\n",
    "#10K PBMC\n",
    "#!wget https://s3-us-west-2.amazonaws.com/10x.files/samples/cell-arc/2.0.0/10k_PBMC_Multiome_nextgem_Chromium_X/10k_PBMC_Multiome_nextgem_Chromium_X_fastqs.tar\n",
    "#!wget https://cf.10xgenomics.com/samples/cell-arc/2.0.0/10k_PBMC_Multiome_nextgem_Chromium_X/10k_PBMC_Multiome_nextgem_Chromium_X_library.csv"
   ]
  },
  {
   "cell_type": "code",
   "execution_count": null,
   "metadata": {
    "id": "HejkBYTB_eO4"
   },
   "outputs": [],
   "source": [
    "# untar fastq files\n",
    "# Human PBMC\n",
    "!tar -xvf pbmc_unsorted_3k_fastqs.tar"
   ]
  },
  {
   "cell_type": "markdown",
   "metadata": {
    "id": "8Yi0JSumAJOA"
   },
   "source": [
    "#Install Cell Ranger ARC"
   ]
  },
  {
   "cell_type": "code",
   "execution_count": null,
   "metadata": {
    "id": "6E9zlTcp23OK"
   },
   "outputs": [],
   "source": [
    "%cd /content/"
   ]
  },
  {
   "cell_type": "markdown",
   "metadata": {
    "id": "icmbJYNcLxRT"
   },
   "source": [
    "the link for downlading cellranger is unique, and have to be retrieved every time by click in the link, and coping the wget code"
   ]
  },
  {
   "cell_type": "markdown",
   "metadata": {
    "id": "F2A1amDmAuqL"
   },
   "source": [
    "[Link to Cellranger ARC](https://support.10xgenomics.com/single-cell-multiome-atac-gex/software/downloads/latest)"
   ]
  },
  {
   "cell_type": "code",
   "execution_count": null,
   "metadata": {
    "id": "XJvUWwjCAq3t"
   },
   "outputs": [],
   "source": [
    "!wget -O cellranger-arc-2.0.1.tar.gz \"https://cf.10xgenomics.com/releases/cell-arc/cellranger-arc-2.0.1.tar.gz?Expires=1657683021&Policy=eyJTdGF0ZW1lbnQiOlt7IlJlc291cmNlIjoiaHR0cHM6Ly9jZi4xMHhnZW5vbWljcy5jb20vcmVsZWFzZXMvY2VsbC1hcmMvY2VsbHJhbmdlci1hcmMtMi4wLjEudGFyLmd6IiwiQ29uZGl0aW9uIjp7IkRhdGVMZXNzVGhhbiI6eyJBV1M6RXBvY2hUaW1lIjoxNjU3NjgzMDIxfX19XX0_&Signature=NigJtyFCtFusaojrldebulsfJLrclRCu6qRwSbNkx~t-a5jh0v~40s2IRHq9UoENd5XlT8Ch6c-IIudq8YIG7mcaAXO8WTvoBmZz39XbIq1dPkkGDJ2iqTgO9cCQc~wong281tosJBYHEH9tMceuJafIyvtIwS7PbTpJDefcoGHxj3kU-LPwawrt8rRF36m9iPP~mfR37W3W-cFu1ACSmAPVqvsO01FS3Qp2FMhMH5wk-hbtgaMvbNepkXM6-wi1etRb~Tlmj~G-25W1ysyg7vPmnM0gA93k3ONlfiHYbb297JK2hUt2y~ziShPiVUaG1ExLmcy8AzE9nEc0kSR3ig__&Key-Pair-Id=APKAI7S6A5RYOXBWRPDA\""
   ]
  },
  {
   "cell_type": "code",
   "execution_count": null,
   "metadata": {
    "id": "SGiTVy-2AN9Z"
   },
   "outputs": [],
   "source": [
    "!tar -xzvf cellranger-arc-2.0.1.tar.gz"
   ]
  },
  {
   "cell_type": "markdown",
   "metadata": {
    "id": "IQP9I8RoAUf9"
   },
   "source": [
    "# Download References"
   ]
  },
  {
   "cell_type": "code",
   "execution_count": null,
   "metadata": {
    "id": "6MxrvV2uBAXg"
   },
   "outputs": [],
   "source": [
    "%cd /content/"
   ]
  },
  {
   "cell_type": "markdown",
   "metadata": {
    "id": "ikDhgrBnBH3M"
   },
   "source": [
    "##Human"
   ]
  },
  {
   "cell_type": "code",
   "execution_count": null,
   "metadata": {
    "id": "yU1RuernAWyj"
   },
   "outputs": [],
   "source": [
    "# ~15 min \n",
    "!wget https://cf.10xgenomics.com/supp/cell-arc/refdata-cellranger-arc-GRCh38-2020-A-2.0.0.tar.gz\n",
    "!tar -xzvf refdata-cellranger-arc-GRCh38-2020-A-2.0.0.tar.gz"
   ]
  },
  {
   "cell_type": "markdown",
   "metadata": {
    "id": "c6cyWp6_ws-y"
   },
   "source": [
    "#Alingment and peak calling"
   ]
  },
  {
   "cell_type": "code",
   "execution_count": null,
   "metadata": {
    "id": "5E-BqR3Y74uG"
   },
   "outputs": [],
   "source": [
    "%%!\n",
    "\n",
    "library='pbmc_unsorted_3k_library.csv'\n",
    "\n",
    "/content/cellranger-arc-2.0.1/cellranger-arc count --id=3k_PBMC_Multiome --reference=/content/refdata-cellranger-arc-GRCh38-2020-A-2.0.0 --libraries=$library "
   ]
  },
  {
   "cell_type": "code",
   "execution_count": null,
   "metadata": {
    "id": "-2NJwFOwHSQX"
   },
   "outputs": [],
   "source": []
  }
 ],
 "metadata": {
  "colab": {
   "collapsed_sections": [],
   "include_colab_link": true,
   "machine_shape": "hm",
   "name": "Part_0_alingment_Multiomedata.ipynb",
   "provenance": []
  },
  "gpuClass": "standard",
  "kernelspec": {
   "display_name": "Python 3",
   "language": "python",
   "name": "python3"
  },
  "language_info": {
   "codemirror_mode": {
    "name": "ipython",
    "version": 3
   },
   "file_extension": ".py",
   "mimetype": "text/x-python",
   "name": "python",
   "nbconvert_exporter": "python",
   "pygments_lexer": "ipython3",
   "version": "3.9.5"
  }
 },
 "nbformat": 4,
 "nbformat_minor": 4
}
