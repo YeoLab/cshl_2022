{
 "cells": [
  {
   "cell_type": "markdown",
   "metadata": {
    "id": "mqridQFSnEQ5",
    "tags": []
   },
   "source": [
    "# Setup"
   ]
  },
  {
   "cell_type": "code",
   "execution_count": null,
   "metadata": {
    "id": "LcYt4J4pUi3c"
   },
   "outputs": [],
   "source": [
    "import scanpy as sc\n",
    "import numpy as np\n",
    "import re\n",
    "import os\n",
    "import pandas as pd\n",
    "import seaborn as sb\n",
    "import matplotlib\n",
    "\n",
    "import matplotlib as mpl\n",
    "from scipy import stats as scistats\n",
    "import matplotlib.pyplot as pl\n",
    "import scanpy.external as sce\n",
    "from matplotlib import colors\n",
    "import bbknn\n",
    "from pathlib import Path\n",
    "sc._settings.ScanpyConfig.n_jobs=8\n",
    "\n",
    "pl.rcParams['pdf.fonttype'] = 'truetype'\n",
    "sc.set_figure_params(vector_friendly=False,dpi_save=300,transparent=True)\n",
    "pl.rcParams['lines.linewidth'] = 0.1\n",
    "sc.set_figure_params(color_map='viridis')\n",
    "colorsComb = np.vstack([pl.cm.Reds(np.linspace(0, 1, 10)), pl.cm.Greys_r(np.linspace(0.7, 0.8, 0))])\n",
    "mymap = colors.LinearSegmentedColormap.from_list('my_colormap', colorsComb)\n",
    "\n",
    "import muon as mu\n",
    "# Import a module with ATAC-seq-related functions\n",
    "from muon import atac as ac\n",
    "\n",
    "%matplotlib inline\n",
    "import panel as pn\n",
    "#pn.extension(sizing_mode=\"stretch_width\", comms='colab')\n",
    "pn.extension( comms='colab')\n"
   ]
  },
  {
   "cell_type": "code",
   "execution_count": null,
   "metadata": {
    "id": "wxhvRSd6Rysz"
   },
   "outputs": [],
   "source": [
    "import colorcet as cc\n",
    "\n",
    "xs, _ = np.meshgrid(np.linspace(0, 1, 80), np.linspace(0, 1, 10))\n",
    "colorsComb = np.vstack([pl.cm.Greys_r(np.linspace(0.8,0.1, 1)), cc.cm.rainbow_bgyr_35_85_c72(np.linspace(0.2,1, 100))])\n",
    "mymap = colors.LinearSegmentedColormap.from_list('my_colormap', colorsComb)\n",
    "pl.imshow(xs, cmap=mymap);  # use tab completion to choose"
   ]
  },
  {
   "cell_type": "code",
   "execution_count": null,
   "metadata": {
    "id": "9ZBLqlpzgY5k"
   },
   "outputs": [],
   "source": [
    "# add extra code to the path\n",
    "import sys\n",
    "sys.path.append('/content/sctoolkit/sctoolkit/')\n",
    "from proportions import *"
   ]
  },
  {
   "cell_type": "code",
   "execution_count": null,
   "metadata": {
    "id": "OUmuZvvsSj6U"
   },
   "outputs": [],
   "source": [
    "%load_ext watermark\n",
    "%watermark\n",
    "%watermark --iversions -v -m -p numpy,scipy,sklearn,anndata,scanpy,muon,pysam"
   ]
  },
  {
   "cell_type": "markdown",
   "metadata": {
    "id": "6g1NHR1mjTy7"
   },
   "source": [
    "# Download PBMC data from 10X"
   ]
  },
  {
   "cell_type": "code",
   "execution_count": null,
   "metadata": {
    "id": "EcBM3N2rjTLZ"
   },
   "outputs": [],
   "source": [
    "data_dir = '/home/jovyan/work/public-data/3_multiomics/data/'\n",
    "! pwd"
   ]
  },
  {
   "cell_type": "markdown",
   "metadata": {
    "id": "vK7qlOxEXDve"
   },
   "source": [
    "# Setup WD"
   ]
  },
  {
   "cell_type": "code",
   "execution_count": null,
   "metadata": {
    "id": "61Y_-nK-Vd6T"
   },
   "outputs": [],
   "source": [
    "#Change XXX to sample name\n",
    "#folder='/content/'\n",
    "samplename='PBMC_granulocyte_sorted'\n",
    "random_state=42\n",
    "\n",
    "import os\n",
    "\n",
    "if not os.path.exists('./figures/'):\n",
    "    os.makedirs('./figures/')"
   ]
  },
  {
   "cell_type": "markdown",
   "metadata": {
    "id": "MVQ0EiWsvJfY"
   },
   "source": [
    "# import data as H5AD"
   ]
  },
  {
   "cell_type": "code",
   "execution_count": null,
   "metadata": {
    "id": "XK185ezBvNbd"
   },
   "outputs": [],
   "source": [
    "mdata = mu.read(\"pbmc10k.h5mu\")\n",
    "mdata"
   ]
  },
  {
   "cell_type": "code",
   "execution_count": null,
   "metadata": {
    "id": "19iVsGZOWtdc"
   },
   "outputs": [],
   "source": [
    "atac = mdata.mod['atac']\n",
    "atac.obs['sample']=[samplename]*atac.n_obs\n",
    "atac.obs['group']=[samplename]*atac.n_obs\n",
    "atac"
   ]
  },
  {
   "cell_type": "code",
   "execution_count": null,
   "metadata": {
    "id": "C26S3PBLiFqx"
   },
   "outputs": [],
   "source": [
    "# Quality control - calculate QC covariates\n",
    "atac.obs['n_counts'] = atac.X.sum(1)\n",
    "atac.obs['log_counts'] = np.log(atac.obs['n_counts'])\n",
    "atac.obs['n_genes'] = (atac.X > 0).sum(1)\n",
    "\n",
    "sc.pp.calculate_qc_metrics(atac, percent_top=None, log1p=False, inplace=True)\n",
    "\n",
    "atac"
   ]
  },
  {
   "cell_type": "code",
   "execution_count": null,
   "metadata": {
    "id": "GoiTFcIOK6Cx"
   },
   "outputs": [],
   "source": [
    "sb.set_context('paper')\n",
    "pl.rcParams['lines.linewidth'] = 0.1\n",
    "import matplotlib.pyplot as plt\n",
    "\n",
    "fig, (ax1, ax2, ax3,ax4) = plt.subplots(1, 4, figsize=(16,4), gridspec_kw={'wspace':0.2})\n",
    "\n",
    "ax1_dict = sb.histplot(atac.obs['n_counts'], kde=False, ax=ax1,)\n",
    "ax2_dict =  sb.histplot(atac.obs['n_counts'][atac.obs['n_counts']<5000], kde=False, bins=60, ax=ax2,)\n",
    "ax3_dict =  sb.histplot(atac.obs['n_counts'][atac.obs['n_counts']<30000], kde=False, bins=60, ax=ax3,)\n",
    "ax4_dict = sb.histplot(atac.obs['n_counts'][atac.obs['n_counts']>30000], kde=False, bins=60, ax=ax4, )\n",
    "savefig='figures/'+samplename + '_1_QC_counts_filtering.pdf'\n",
    "fig.savefig(savefig, dpi=300, bbox_inches='tight')"
   ]
  },
  {
   "cell_type": "code",
   "execution_count": null,
   "metadata": {
    "id": "r3fql4XGNPPd"
   },
   "outputs": [],
   "source": [
    "sb.set_context('paper')\n",
    "pl.rcParams['lines.linewidth'] = 0.1\n",
    "import matplotlib.pyplot as plt\n",
    "\n",
    "fig, (ax1, ax2, ax3) = plt.subplots(1, 3, figsize=(16,4), gridspec_kw={'wspace':0.2})\n",
    "\n",
    "ax1_dict = sb.histplot(atac.obs['n_genes'], kde=False, bins=60, ax=ax1,)\n",
    "ax2_dict =  sb.histplot(atac.obs['n_genes'][atac.obs['n_genes']<500], kde=False, bins=60, ax=ax2,)\n",
    "ax3_dict =  sb.histplot(atac.obs['n_genes'][atac.obs['n_genes']<1000], kde=False, bins=60, ax=ax3,)\n",
    "savefig='figures/'+samplename + '_2_QC_gene_filtering.pdf'\n",
    "fig.savefig(savefig, dpi=300, bbox_inches='tight')"
   ]
  },
  {
   "cell_type": "code",
   "execution_count": null,
   "metadata": {
    "id": "BfaXZCOVnTWj"
   },
   "outputs": [],
   "source": [
    "# Filter cells according to identified QC thresholds:\n",
    "print('Total number of cells: {:d}'.format(atac.n_obs))\n",
    "\n",
    "sc.pp.filter_cells(atac, min_counts = 4000)\n",
    "print('Number of cells after min count filter: {:d}'.format(atac.n_obs))\n",
    "\n",
    "sc.pp.filter_cells(atac, max_counts = 50000)\n",
    "#print('Number of cells after max count filter: {:d}'.format(atac.n_obs))\n"
   ]
  },
  {
   "cell_type": "code",
   "execution_count": null,
   "metadata": {
    "id": "GbR7OiwBrC_Y"
   },
   "outputs": [],
   "source": [
    "\n",
    "sb.set_context('paper')\n",
    "\n",
    "\n",
    "fig, (ax1, ax2,) = pl.subplots(1, 2, figsize=(6, 3), dpi=150, sharey=False)\n",
    "atac.obs['n_genes']\n",
    "\n",
    "sb.histplot( atac.obs['n_genes'], ax=ax1, kde=True, bins=100)\n",
    "sb.histplot( atac.obs['n_counts'], ax=ax2, kde=True, bins=100)\n",
    "\n",
    "ax1.title.set_text('n_genes')\n",
    "ax2.title.set_text('n_counts')\n",
    "\n",
    "fig.text(0.00, 0.5, 'Frequency', ha='center', va='center', rotation='vertical', size='x-large')\n",
    "\n",
    "fig.tight_layout()\n",
    "savefig='figures/'+samplename + '_3_QC_filtering_postfilter.pdf'\n",
    "fig.savefig(savefig, dpi=300, bbox_inches='tight')"
   ]
  },
  {
   "cell_type": "code",
   "execution_count": null,
   "metadata": {
    "id": "CMoBv0qVrU6Q"
   },
   "outputs": [],
   "source": [
    "# plot percentage of mitochondtial genes versus count depth and n_genes\n",
    "sb.set_context('paper')\n",
    "pl.rcParams['figure.figsize']=(5,5) #rescale figures\n",
    "savefig=samplename + '_4_QC_saturationplot.pdf'\n",
    "sc.pl.scatter(atac, x='total_counts', y='n_genes', color='n_genes',save=savefig)"
   ]
  },
  {
   "cell_type": "code",
   "execution_count": null,
   "metadata": {
    "id": "gEuDe15XrbRW"
   },
   "outputs": [],
   "source": [
    "sb.set_context('paper')\n",
    "pl.rcParams['lines.linewidth'] = 0.1\n",
    "import matplotlib.pyplot as plt\n",
    "\n",
    "fig, (ax1, ax2,) = plt.subplots(1, 2, figsize=(16,4), gridspec_kw={'wspace':0.2})\n",
    "\n",
    "ax1_dict = sc.pl.violin(atac, 'n_counts', groupby='group', size=0.5, log=True, cut=0, ax=ax1, show=False)\n",
    "ax2_dict =  sc.pl.violin(atac, 'n_genes', groupby='group', size=0.5, log=True, cut=0, ax=ax2, show=False)\n",
    "\n",
    "savefig='figures/'+samplename + '_5_QC_violin_plots.pdf'\n",
    "fig.savefig(savefig, dpi=300, bbox_inches='tight')"
   ]
  },
  {
   "cell_type": "code",
   "execution_count": null,
   "metadata": {
    "id": "Vkym7jeEs598"
   },
   "outputs": [],
   "source": [
    "sb.set_context('paper')\n",
    "pl.rcParams['lines.linewidth'] = 0.1\n",
    "savefig='_'+samplename + '_6_QC_highest_expr_genes.pdf'\n",
    "sc.pl.highest_expr_genes(atac, n_top=20,save=savefig,)"
   ]
  },
  {
   "cell_type": "code",
   "execution_count": null,
   "metadata": {
    "id": "9QsOgtrziO08"
   },
   "outputs": [],
   "source": [
    "print(atac.obs['group'].value_counts())"
   ]
  },
  {
   "cell_type": "code",
   "execution_count": null,
   "metadata": {
    "id": "pLWFYfqliPZc"
   },
   "outputs": [],
   "source": [
    "atac.obs['n_counts'].sum()/atac.obs['group'].value_counts()"
   ]
  },
  {
   "cell_type": "code",
   "execution_count": null,
   "metadata": {
    "id": "Wui5Vuk9iRDy"
   },
   "outputs": [],
   "source": [
    "atac.obs['n_counts'].sum()"
   ]
  },
  {
   "cell_type": "markdown",
   "metadata": {
    "id": "WT3VKY83rlTr"
   },
   "source": [
    "# Nucleosome signal\n",
    "Fragment size distribution typically reflects nucleosome binding pattern showing enrichment around values corresponding to fragments bound to a single nucleosome (between 147 bp and 294 bp) as well as nucleosome-free fragments (shorter than 147 bp)."
   ]
  },
  {
   "cell_type": "code",
   "execution_count": null,
   "metadata": {
    "id": "KGSqfwKjrskf"
   },
   "outputs": [],
   "source": [
    "atac.obs['NS']=1"
   ]
  },
  {
   "cell_type": "code",
   "execution_count": null,
   "metadata": {
    "id": "PyGdFo99sWCi"
   },
   "outputs": [],
   "source": [
    "from muon import atac as ac"
   ]
  },
  {
   "cell_type": "code",
   "execution_count": null,
   "metadata": {
    "id": "NP5mE8RUuW_I"
   },
   "outputs": [],
   "source": [
    "ac.tl.locate_fragments(atac,fragments=data_dir+'pbmc_granulocyte_sorted_10k_atac_fragments.tsv.gz')"
   ]
  },
  {
   "cell_type": "code",
   "execution_count": null,
   "metadata": {
    "id": "mvDgTxtithWx"
   },
   "outputs": [],
   "source": [
    "ac.pl.fragment_histogram(atac, region='chr1:1-2000000')"
   ]
  },
  {
   "cell_type": "code",
   "execution_count": null,
   "metadata": {
    "id": "mjQC44Xsr7Fr"
   },
   "outputs": [],
   "source": [
    "ac.tl.nucleosome_signal(atac, n=1e6)"
   ]
  },
  {
   "cell_type": "code",
   "execution_count": null,
   "metadata": {
    "id": "WswrEfFCrsq-"
   },
   "outputs": [],
   "source": [
    "mu.pl.histogram(atac, \"nucleosome_signal\", kde=False)"
   ]
  },
  {
   "cell_type": "markdown",
   "metadata": {
    "id": "Ucx8ujVrrlwa"
   },
   "source": [
    "#TSS enrichment\n",
    "We can expect chromatin accessibility enriched around transcription start sites (TSS) compared to accessibility of flanking regions. Thus this measure averaged across multiple genes can serve as one more quality control metric.\n",
    "\n",
    "The positions of transcription start sites can be obtained from the interval field of the gene annotation in the rna modality:"
   ]
  },
  {
   "cell_type": "code",
   "execution_count": null,
   "metadata": {
    "id": "b6PSNAEYvxHg"
   },
   "outputs": [],
   "source": [
    "ac.tl.get_gene_annotation_from_rna(mdata['rna']).head(3)  # accepts MuData with 'rna' modality or mdata['rna'] AnnData directly"
   ]
  },
  {
   "cell_type": "code",
   "execution_count": null,
   "metadata": {
    "id": "2R5GhwQpvxQ2"
   },
   "outputs": [],
   "source": [
    "tss = ac.tl.tss_enrichment(mdata, n_tss=1000)  # by default, features=ac.tl.get_gene_annotation_from_rna(mdata)"
   ]
  },
  {
   "cell_type": "code",
   "execution_count": null,
   "metadata": {
    "id": "dkwX8whbvxTt"
   },
   "outputs": [],
   "source": [
    "tss"
   ]
  },
  {
   "cell_type": "code",
   "execution_count": null,
   "metadata": {
    "id": "wPLgnv4-vxWo"
   },
   "outputs": [],
   "source": [
    "pl.rcParams['lines.linewidth'] = 1\n",
    "ac.pl.tss_enrichment(tss)"
   ]
  },
  {
   "cell_type": "markdown",
   "metadata": {
    "id": "olJ2FuTSwKNx"
   },
   "source": [
    "# Normalization"
   ]
  },
  {
   "cell_type": "code",
   "execution_count": null,
   "metadata": {
    "id": "K59bPSO8wDbo"
   },
   "outputs": [],
   "source": [
    "# Save original counts\n",
    "atac.layers[\"counts\"] = atac.X"
   ]
  },
  {
   "cell_type": "markdown",
   "metadata": {
    "id": "NLI4Y7K6wSIl"
   },
   "source": [
    "There can be multiple options for ATAC-seq data normalisation.\n",
    "\n",
    "One is latent semantic indexing that is frequently used for processing ATAC-seq datasets. First, it constructs term-document matrix from the original count matrix. Then the singular value decomposition (SVD) — the same technique that convential principal component analysis uses — is used to generate LSI components. Note that there are different flavours of computing TF-IDF, e.g. see this blog post about that.\n",
    "\n",
    "TF-IDF normalisation is implemented in the muon’s ATAC module:"
   ]
  },
  {
   "cell_type": "code",
   "execution_count": null,
   "metadata": {
    "id": "fHadsUcWwDee"
   },
   "outputs": [],
   "source": [
    "ac.pp.tfidf(atac, scale_factor=1e4)"
   ]
  },
  {
   "cell_type": "code",
   "execution_count": null,
   "metadata": {
    "id": "JnWIor1C4UQP"
   },
   "outputs": [],
   "source": [
    "atac.var"
   ]
  },
  {
   "cell_type": "markdown",
   "metadata": {
    "id": "OOZhCtrNweoB"
   },
   "source": [
    "#Feature selection"
   ]
  },
  {
   "cell_type": "code",
   "execution_count": null,
   "metadata": {
    "id": "FSHcfXudwDh5"
   },
   "outputs": [],
   "source": [
    "sc.pp.normalize_per_cell(atac, counts_per_cell_after=1e4)\n",
    "sc.pp.log1p(atac)"
   ]
  },
  {
   "cell_type": "code",
   "execution_count": null,
   "metadata": {
    "id": "anr5n8xxwZDL"
   },
   "outputs": [],
   "source": [
    "sc.pp.highly_variable_genes(atac, min_mean=0.05, max_mean=1.5, min_disp=.5)"
   ]
  },
  {
   "cell_type": "code",
   "execution_count": null,
   "metadata": {
    "id": "yv3WMYWewmKG"
   },
   "outputs": [],
   "source": [
    "sc.pl.highly_variable_genes(atac)"
   ]
  },
  {
   "cell_type": "code",
   "execution_count": null,
   "metadata": {
    "id": "n_j-SaLgwZGg"
   },
   "outputs": [],
   "source": [
    "np.sum(atac.var.highly_variable)"
   ]
  },
  {
   "cell_type": "markdown",
   "metadata": {
    "id": "cV9KxrfJwstG"
   },
   "source": [
    "# Scaling"
   ]
  },
  {
   "cell_type": "code",
   "execution_count": null,
   "metadata": {
    "id": "VGGs5gWywZNL"
   },
   "outputs": [],
   "source": [
    "atac.raw = atac"
   ]
  },
  {
   "cell_type": "markdown",
   "metadata": {
    "id": "zrthWr9Jw0Lh"
   },
   "source": [
    "#Analysis\n",
    "After filtering out low-quality cells, normalising the counts matrix, and selecting highly varianbe peaks, we can already use this data for multimodal integration.\n",
    "\n",
    "However, as in the case of gene expression, we will study this data individually first and will run PCA on the scaled matrix, compute cell neighbourhood graph, and perform clustering to define cell types. This might be useful later to compare cell type definition between modalities."
   ]
  },
  {
   "cell_type": "code",
   "execution_count": null,
   "metadata": {
    "id": "uV7c8xt0wvKZ"
   },
   "outputs": [],
   "source": [
    "ac.tl.lsi(atac)"
   ]
  },
  {
   "cell_type": "code",
   "execution_count": null,
   "metadata": {
    "id": "o-fv8hfSwvNO"
   },
   "outputs": [],
   "source": [
    "atac.obsm['X_lsi'] = atac.obsm['X_lsi'][:,1:]\n",
    "atac.varm[\"LSI\"] = atac.varm[\"LSI\"][:,1:]\n",
    "atac.uns[\"lsi\"][\"stdev\"] = atac.uns[\"lsi\"][\"stdev\"][1:]"
   ]
  },
  {
   "cell_type": "code",
   "execution_count": null,
   "metadata": {
    "id": "sgzptKQ6wvQp"
   },
   "outputs": [],
   "source": [
    "sc.pp.neighbors(atac, use_rep=\"X_lsi\", n_neighbors=10, n_pcs=10)"
   ]
  },
  {
   "cell_type": "markdown",
   "metadata": {
    "id": "_qVwNUBuw-cT"
   },
   "source": [
    "# PCA"
   ]
  },
  {
   "cell_type": "code",
   "execution_count": null,
   "metadata": {
    "id": "AG00SB04wvTk"
   },
   "outputs": [],
   "source": [
    "sc.pp.scale(atac)\n",
    "sc.tl.pca(atac)"
   ]
  },
  {
   "cell_type": "code",
   "execution_count": null,
   "metadata": {
    "id": "vDAz1L-Qw94X"
   },
   "outputs": [],
   "source": [
    "sc.pl.pca(atac, color=[\"n_genes_by_counts\", \"n_counts\"])"
   ]
  },
  {
   "cell_type": "markdown",
   "metadata": {
    "id": "mLNkKZ_ixGaM"
   },
   "source": [
    "With muon’s ATAC module, we can plot average values for cut counts in peaks of different types (promoter/distal) that are assigned to respective genes — just by providing gene names.\n",
    "\n",
    "For that to work, we need the peak annotation table with gene -> peak correspondence. The peak_annotation.tsv file was detected and loaded automatically when we loaded the original data. Here is how the processed peak annotation table looks like:"
   ]
  },
  {
   "cell_type": "code",
   "execution_count": null,
   "metadata": {
    "id": "EHfoPIYnyLET"
   },
   "outputs": [],
   "source": [
    "ac.tl.add_peak_annotation(atac, annotation=data_dir+\"pbmc_granulocyte_sorted_10k_atac_peak_annotation.tsv\")"
   ]
  },
  {
   "cell_type": "code",
   "execution_count": null,
   "metadata": {
    "id": "dE_KhbvJw97N"
   },
   "outputs": [],
   "source": [
    "atac.uns['atac']['peak_annotation'].tail()\n",
    "\n",
    "# Alternatively add peak annotation from a TSV file\n",
    "# ac.tl.add_peak_annotation(atac, annotation=\"data/pbmc10k/atac_peak_annotation.tsv\")"
   ]
  },
  {
   "cell_type": "code",
   "execution_count": null,
   "metadata": {
    "id": "yyk1gDA5xIJJ"
   },
   "outputs": [],
   "source": [
    "ac.pl.pca(atac, color=[\"BCL11B\", \"CCR6\", \"KLF4\"], average=\"total\")"
   ]
  },
  {
   "cell_type": "code",
   "execution_count": null,
   "metadata": {
    "id": "8l0sC0SlxIL-"
   },
   "outputs": [],
   "source": [
    "ac.pl.pca(atac, color=\"BCL11B\", average=\"peak_type\")"
   ]
  },
  {
   "cell_type": "code",
   "execution_count": null,
   "metadata": {
    "id": "hoRl8-jdxIPK"
   },
   "outputs": [],
   "source": [
    "sc.pp.neighbors(atac, n_neighbors=10, n_pcs=30)"
   ]
  },
  {
   "cell_type": "markdown",
   "metadata": {
    "id": "kOcwpSykxSYn"
   },
   "source": [
    "#Non-linear dimensionality reduction and clustering¶"
   ]
  },
  {
   "cell_type": "code",
   "execution_count": null,
   "metadata": {
    "id": "JjOcBrg4w9-O"
   },
   "outputs": [],
   "source": [
    "sc.tl.leiden(atac, resolution=.5)"
   ]
  },
  {
   "cell_type": "code",
   "execution_count": null,
   "metadata": {
    "id": "HWCXR2h2xVyn"
   },
   "outputs": [],
   "source": [
    "sc.tl.umap(atac, spread=1.5, min_dist=.5, random_state=20)"
   ]
  },
  {
   "cell_type": "code",
   "execution_count": null,
   "metadata": {
    "id": "VFzkq5kgxV1I"
   },
   "outputs": [],
   "source": [
    "ac.pl.umap(atac, color=[\"KLF4\"], average=\"peak_type\")"
   ]
  },
  {
   "cell_type": "code",
   "execution_count": null,
   "metadata": {
    "id": "LUcV7tXX5749"
   },
   "outputs": [],
   "source": [
    "atac.var"
   ]
  },
  {
   "cell_type": "markdown",
   "metadata": {
    "id": "L-s1sMWcxcw_"
   },
   "source": [
    "#Marker genes and celltypes"
   ]
  },
  {
   "cell_type": "code",
   "execution_count": null,
   "metadata": {
    "id": "mPm1tUtexV4q"
   },
   "outputs": [],
   "source": [
    "ac.tl.rank_peaks_groups(atac, 'leiden', method='t-test')"
   ]
  },
  {
   "cell_type": "code",
   "execution_count": null,
   "metadata": {
    "id": "1SGD7qg6yUKY"
   },
   "outputs": [],
   "source": [
    "result = atac.uns['rank_genes_groups']\n",
    "groups = result['names'].dtype.names\n",
    "pd.set_option(\"max_columns\", 50)\n",
    "pd.DataFrame(\n",
    "    {group + '_' + key[:1]: result[key][group]\n",
    "    for group in groups for key in ['names', 'genes', 'pvals']}).head(10)"
   ]
  },
  {
   "cell_type": "code",
   "execution_count": null,
   "metadata": {
    "id": "kP3lO5XYyUNT"
   },
   "outputs": [],
   "source": [
    "mu.pp.filter_obs(atac, \"leiden\", lambda x: ~x.isin([\"10\", \"14\", \"15\", \"16\"]))\n",
    "# Analogous to\n",
    "#   atac = atac[~atac.obs.leiden.isin([\"10\", \"14\", \"15\", \"16\"])]\n",
    "# but doesn't copy the object"
   ]
  },
  {
   "cell_type": "code",
   "execution_count": null,
   "metadata": {
    "id": "4RxNYI8SyUQ1"
   },
   "outputs": [],
   "source": [
    "new_cluster_names = {\n",
    "    \"1\": \"CD4+ memory T\", \"2\": \"CD8+ naïve T\", \"3\": \"CD4+ naïve T\",\n",
    "    \"5\": \"CD8+ activated T\", \"8\": \"NK\", \"12\": \"MAIT\",\n",
    "    \"9\": \"naïve B\", \"6\": \"memory B\",\n",
    "    \"0\": \"intermediate mono\", \"4\": \"CD14 mono\", \"7\": \"CD16 mono\",\n",
    "    \"11\": \"mDC\", \"13\": \"pDC\",\n",
    "}\n",
    "\n",
    "atac.obs['celltype'] = atac.obs.leiden.astype(\"str\").values\n",
    "atac.obs.celltype = atac.obs.celltype.astype(\"category\").cat.rename_categories(new_cluster_names)"
   ]
  },
  {
   "cell_type": "code",
   "execution_count": null,
   "metadata": {
    "id": "_cXwekCXxV7M"
   },
   "outputs": [],
   "source": [
    "atac.obs.celltype.cat.reorder_categories([\n",
    "    'CD4+ naïve T', 'CD4+ memory T', 'MAIT',\n",
    "    'CD8+ naïve T', 'CD8+ activated T', 'NK',\n",
    "    'naïve B', 'memory B',\n",
    "    'CD14 mono', 'intermediate mono', 'CD16 mono',\n",
    "    'mDC', 'pDC'], inplace=True)"
   ]
  },
  {
   "cell_type": "code",
   "execution_count": null,
   "metadata": {
    "id": "I5MXIMB9yea1"
   },
   "outputs": [],
   "source": [
    "import matplotlib\n",
    "import matplotlib.pyplot as plt\n",
    "\n",
    "cmap = plt.get_cmap('rainbow')\n",
    "colors = cmap(np.linspace(0, 1, len(atac.obs.celltype.cat.categories)))\n",
    "\n",
    "atac.uns[\"celltype_colors\"] = list(map(matplotlib.colors.to_hex, colors))"
   ]
  },
  {
   "cell_type": "code",
   "execution_count": null,
   "metadata": {
    "id": "t0yYxjTsyed6"
   },
   "outputs": [],
   "source": [
    "sc.pl.umap(atac, color=[\"celltype\"], legend_loc=\"on data\", frameon=False)"
   ]
  },
  {
   "cell_type": "code",
   "execution_count": null,
   "metadata": {
    "id": "zuXK5FNE1G71"
   },
   "outputs": [],
   "source": [
    "ac.pl.umap(atac)"
   ]
  },
  {
   "cell_type": "code",
   "execution_count": null,
   "metadata": {
    "id": "vPcqXlUnyehl"
   },
   "outputs": [],
   "source": [
    "marker_genes = ['IL7R', 'TRAC',\n",
    "                'GATA3',\n",
    "                'SLC4A10',\n",
    "                'CD8A', 'CD8B', 'CD248', 'CCL5',\n",
    "                'GNLY', 'NKG7',\n",
    "                'CD79A', 'MS4A1', 'IGHD', 'IGHM', 'TNFRSF13C',\n",
    "                'IL4R', 'KLF4', 'LYZ', 'S100A8', 'ITGAM', 'CD14',\n",
    "                'FCGR3A', 'MS4A7', 'CST3',\n",
    "                'CLEC10A', 'IRF8', 'TCF4']"
   ]
  },
  {
   "cell_type": "code",
   "execution_count": null,
   "metadata": {
    "id": "YrvhjaJSynVL"
   },
   "outputs": [],
   "source": [
    "ac.pl.dotplot(atac, marker_genes, groupby='celltype')"
   ]
  },
  {
   "cell_type": "code",
   "execution_count": null,
   "metadata": {
    "id": "KNLdL7NfvbiX"
   },
   "outputs": [],
   "source": [
    "mu.write(\"pbmc10k.h5mu/atac\", atac)"
   ]
  },
  {
   "cell_type": "code",
   "execution_count": null,
   "metadata": {
    "id": "8tOyX9aZ6XGB"
   },
   "outputs": [],
   "source": [
    "atac"
   ]
  },
  {
   "cell_type": "code",
   "execution_count": null,
   "metadata": {
    "id": "RXrT_8Ht67Qr"
   },
   "outputs": [],
   "source": [
    "atac.obs"
   ]
  },
  {
   "cell_type": "code",
   "execution_count": null,
   "metadata": {
    "id": "j_dBw9Lu6edn"
   },
   "outputs": [],
   "source": [
    "atac.write(\"atac.h5ad\")"
   ]
  },
  {
   "cell_type": "code",
   "execution_count": null,
   "metadata": {
    "id": "17UmZfPzynYT"
   },
   "outputs": [],
   "source": [
    "mu.write(\"atac\", atac)"
   ]
  },
  {
   "cell_type": "code",
   "execution_count": null,
   "metadata": {
    "id": "nSiDg3a1ynba"
   },
   "outputs": [],
   "source": []
  },
  {
   "cell_type": "markdown",
   "metadata": {
    "id": "kYBcMpcR7vHq"
   },
   "source": [
    "## Pre-process the data"
   ]
  },
  {
   "cell_type": "code",
   "execution_count": null,
   "metadata": {
    "id": "iRyLeSJhUUiR"
   },
   "outputs": [],
   "source": [
    "atac.layers[\"raw\"] = atac.X # copy needed?\n",
    "atac.layers[\"sqrt_norm_cellbender\"] = np.sqrt(\n",
    "    sc.pp.normalize_total(atac, inplace=False)[\"X\"])"
   ]
  },
  {
   "cell_type": "code",
   "execution_count": null,
   "metadata": {
    "id": "qsmeK841ZJ5z"
   },
   "outputs": [],
   "source": [
    "sc.experimental.pp.recipe_pearson_residuals(atac,n_top_genes=3000,n_comps=100,random_state=42,inplace=True)\n",
    "atac.layers[\"normalized\"]=atac.X\n",
    "sc.pp.log1p(atac)\n",
    "atac.layers[\"logcounts\"] = atac.X\n",
    "\n",
    "atac"
   ]
  },
  {
   "cell_type": "markdown",
   "metadata": {
    "id": "J7FkZ3jdtxeZ"
   },
   "source": [
    "## Removal of Mitochondrial and Ribosomal Protein Genes"
   ]
  },
  {
   "cell_type": "code",
   "execution_count": null,
   "metadata": {
    "id": "BBqi8iG2txeZ"
   },
   "outputs": [],
   "source": [
    "ribo_genes = atac.var_names.str.startswith((\"RPS\",\"RPL\"))\n",
    "mito_genes = atac.var_names.str.startswith('MT-')\n",
    "malat1 = atac.var_names.str.startswith('MALAT1')\n",
    "remove = np.add(ribo_genes,mito_genes)\n",
    "remove = np.add(remove,malat1)\n",
    "kept_genes = np.invert(remove)"
   ]
  },
  {
   "cell_type": "code",
   "execution_count": null,
   "metadata": {
    "id": "OEQF4FIitxea"
   },
   "outputs": [],
   "source": [
    "atac = atac[:,kept_genes]"
   ]
  },
  {
   "cell_type": "markdown",
   "metadata": {
    "id": "LEBx9dOQqJmD"
   },
   "source": [
    "# PCA"
   ]
  },
  {
   "cell_type": "code",
   "execution_count": null,
   "metadata": {
    "id": "SamDYqzj9dR6"
   },
   "outputs": [],
   "source": [
    "#sc.pp.scale(atac,max_value=10)"
   ]
  },
  {
   "cell_type": "code",
   "execution_count": null,
   "metadata": {
    "id": "bj4mt67cqI8F"
   },
   "outputs": [],
   "source": [
    "#sc.pp.pca(atac, n_comps = 100, use_highly_variable =False, svd_solver = \"arpack\")\n",
    "sc.pl.pca_variance_ratio(atac, n_pcs = 100,log=True)"
   ]
  },
  {
   "cell_type": "code",
   "execution_count": null,
   "metadata": {
    "id": "uuSYmWTsu016"
   },
   "outputs": [],
   "source": [
    "sb.set_context('talk')\n",
    "pl.rcParams['figure.figsize']=(5,5)\n",
    "sc.pp.neighbors(atac, n_pcs=30,n_neighbors=10,random_state=42)\n",
    "#bbknn.bbknn(atac,batch_key = \"donnor\", neighbors_within_batch =10, n_pcs = 50)\n",
    "#Save to figures (not sample specific folder)\n",
    "genes_to_plot = ['n_genes','log_counts','mt_frac']\n",
    "#sc.tl.tsne(atac, n_jobs=8,use_rep='X', perplexity=30) \n",
    "sc.tl.umap(atac,random_state=42)\n",
    "savefig=samplename+\"_4_QC_doublets_vst_mito.pdf\"\n",
    "sc.pl.umap(atac, color = genes_to_plot,ncols=2,save=savefig)"
   ]
  },
  {
   "cell_type": "code",
   "execution_count": null,
   "metadata": {
    "id": "b4gnQqorrG1D"
   },
   "outputs": [],
   "source": [
    "%%capture\n",
    "sc.tl.leiden(atac,random_state=random_state,resolution=1.5, key_added='leiden_r1.5')\n",
    "sc.tl.leiden(atac,random_state=random_state,resolution=1, key_added='leiden_r1')\n",
    "sc.tl.leiden(atac,random_state=random_state, resolution=0.8, key_added='leiden_r0.8')\n",
    "sc.tl.leiden(atac,random_state=random_state, resolution=0.5, key_added='leiden_r0.5')\n",
    "sc.tl.leiden(atac,random_state=random_state, resolution=0.4, key_added='leiden_r0.4')\n",
    "sc.tl.leiden(atac,random_state=random_state, resolution=0.3, key_added='leiden_r0.3')\n",
    "sc.tl.leiden(atac,random_state=random_state, resolution=0.2, key_added='leiden_r0.2')"
   ]
  },
  {
   "cell_type": "code",
   "execution_count": null,
   "metadata": {
    "id": "iHRKnBQhQBSF"
   },
   "outputs": [],
   "source": [
    "sb.set_context('talk')\n",
    "pl.rcParams['figure.figsize']=(5,5)\n",
    "#sc.tl.leiden(atac,random_state=random_state, resolution = 0.5)\n",
    "savefig=samplename+\"_clustering_lores_vst.pdf\"\n",
    "sc.pl.umap(atac, color=['leiden_r0.2','leiden_r0.3','leiden_r0.4'], legend_loc='on data',legend_fontoutline=3, legend_fontweight='normal',frameon=False,save=savefig)"
   ]
  },
  {
   "cell_type": "code",
   "execution_count": null,
   "metadata": {
    "id": "9vLRKEbbQufC"
   },
   "outputs": [],
   "source": [
    "sb.set_context('talk')\n",
    "pl.rcParams['figure.figsize']=(5,5)\n",
    "#sc.tl.leiden(atac,random_state=random_state, resolution = 0.5)\n",
    "savefig=samplename+\"_clustering_hires_vst.pdf\"\n",
    "sc.pl.umap(atac, color=['leiden_r0.5','leiden_r0.8','leiden_r1.5'], legend_loc='on data',legend_fontoutline=3, legend_fontweight='normal',frameon=False,save=savefig)"
   ]
  },
  {
   "cell_type": "markdown",
   "metadata": {
    "id": "Zd2rnLFc6fCu"
   },
   "source": [
    "# Marker genes"
   ]
  },
  {
   "cell_type": "code",
   "execution_count": null,
   "metadata": {
    "id": "ECawvGip6fNq"
   },
   "outputs": [],
   "source": [
    "#method : {‘logreg’, ‘t-test’, ‘wilcoxon’, ‘t-test_overestim_var’} | None (default: None)\n",
    "sc.tl.rank_genes_groups(atac, 'leiden_r0.5', method='t-test',n_genes=atac.shape[1])\n",
    "markers=pd.DataFrame(atac.uns['rank_genes_groups']['names']).head(20)\n",
    "markers"
   ]
  },
  {
   "cell_type": "code",
   "execution_count": null,
   "metadata": {
    "id": "UyHS7oSBch81"
   },
   "outputs": [],
   "source": []
  },
  {
   "cell_type": "code",
   "execution_count": null,
   "metadata": {
    "id": "7TVbU6CociAM"
   },
   "outputs": [],
   "source": []
  },
  {
   "cell_type": "code",
   "execution_count": null,
   "metadata": {
    "id": "EnNv_mYdciDk"
   },
   "outputs": [],
   "source": []
  },
  {
   "cell_type": "markdown",
   "metadata": {
    "id": "txbH4-XMfibM"
   },
   "source": [
    "# Search for genes"
   ]
  },
  {
   "cell_type": "code",
   "execution_count": null,
   "metadata": {
    "id": "B3Na5f9b3Gxm"
   },
   "outputs": [],
   "source": [
    "regex = re.compile('^(PTPRC).*', re.IGNORECASE)\n",
    "genes = [l for l in atac.var_names for m in [regex.search(l)] if m]"
   ]
  },
  {
   "cell_type": "code",
   "execution_count": null,
   "metadata": {
    "id": "-pqXps_y3RjH"
   },
   "outputs": [],
   "source": [
    "genes"
   ]
  },
  {
   "cell_type": "markdown",
   "metadata": {
    "id": "j-CA52SZ_DM5"
   },
   "source": [
    "#sample composition"
   ]
  },
  {
   "cell_type": "code",
   "execution_count": null,
   "metadata": {
    "id": "jhiiMTJmg2-v"
   },
   "outputs": [],
   "source": [
    "order=atac.obs['predicted'].value_counts()"
   ]
  },
  {
   "cell_type": "code",
   "execution_count": null,
   "metadata": {
    "id": "rZE0-ZdUiOVG"
   },
   "outputs": [],
   "source": [
    "order.index"
   ]
  },
  {
   "cell_type": "code",
   "execution_count": null,
   "metadata": {
    "id": "2gBpLVQC02ZV"
   },
   "outputs": [],
   "source": [
    "atac.obs['predicted'].cat.categories"
   ]
  },
  {
   "cell_type": "code",
   "execution_count": null,
   "metadata": {
    "id": "e8Nl-wfshLsB"
   },
   "outputs": [],
   "source": [
    "atac.obs.predicted= atac.obs.predicted.cat.reorder_categories(['Epithelial_cells', 'T_cells', 'Tissue_stem_cells',\n",
    "                  'Macrophage', 'Chondrocytes', 'Neutrophils',\n",
    "                  'Pro-B_cell_CD34+'])"
   ]
  },
  {
   "cell_type": "code",
   "execution_count": null,
   "metadata": {
    "id": "lZtGjBNjz0Ao"
   },
   "outputs": [],
   "source": [
    "print(atac[atac.obs['predicted'] == 'Epithelial_cells'].obs['fov'].value_counts())"
   ]
  },
  {
   "cell_type": "code",
   "execution_count": null,
   "metadata": {
    "id": "p82BLGM31N3h"
   },
   "outputs": [],
   "source": [
    "order=atac[atac.obs['predicted'] == 'Epithelial_cells'].obs['fov'].value_counts()"
   ]
  },
  {
   "cell_type": "code",
   "execution_count": null,
   "metadata": {
    "id": "zN-Sj2wu1TEU"
   },
   "outputs": [],
   "source": [
    "order.index"
   ]
  },
  {
   "cell_type": "code",
   "execution_count": null,
   "metadata": {
    "id": "MVVKUUY-zAUW"
   },
   "outputs": [],
   "source": [
    "atac.obs['fov'].cat.categories"
   ]
  },
  {
   "cell_type": "code",
   "execution_count": null,
   "metadata": {
    "id": "efEkyUrFBLmj"
   },
   "outputs": [],
   "source": [
    "atac.obs.fov= atac.obs.fov.cat.reorder_categories(['8', '7', '27', '28', '5', '2', '3', '12', '16', '17', '29',\n",
    "                  '11', '10', '4', '26', '13', '15', '1', '30', '9', '23',\n",
    "                  '19', '22', '14', '18', '20', '21', '24', '25' \n",
    "       ])"
   ]
  },
  {
   "cell_type": "code",
   "execution_count": null,
   "metadata": {
    "id": "F7zIP8eC_FkZ"
   },
   "outputs": [],
   "source": [
    " fig=plot_proportion_barplot_with_ncells(\n",
    "    atac,\n",
    "    'fov',\n",
    "    fill='predicted', \n",
    "    fill_breakdown=None,\n",
    "    yaxis_label=None,\n",
    "    fill_label='annotated',\n",
    "    percent_limit=1., \n",
    "    show_percent=True,\n",
    "    height_scale=1., \n",
    "    width_scale=1.,\n",
    "    legend_position=(-0, 0.5),\n",
    "    normalize_by=None,)\n",
    "fig.savefig('cell_composition_by_FOV.pdf', dpi=300, bbox_inches='tight')"
   ]
  },
  {
   "cell_type": "markdown",
   "metadata": {
    "id": "3ke-TypqrSY0",
    "tags": []
   },
   "source": [
    "# SingleR"
   ]
  },
  {
   "cell_type": "code",
   "execution_count": null,
   "metadata": {
    "id": "WB2eS1Hfucd6"
   },
   "outputs": [],
   "source": [
    "atac.X=atac.X.todense()"
   ]
  },
  {
   "cell_type": "code",
   "execution_count": null,
   "metadata": {
    "id": "XpWlDd07DEQ6"
   },
   "outputs": [],
   "source": [
    "from scipy.sparse import issparse"
   ]
  },
  {
   "cell_type": "code",
   "execution_count": null,
   "metadata": {
    "id": "l5d3-QhqYbXY"
   },
   "outputs": [],
   "source": [
    "%time\n",
    "predict_cell_types(atac,cluster_key='leiden_r0.5',obs_out_key='predicted',species='human',ref_label_column='label.main')"
   ]
  },
  {
   "cell_type": "code",
   "execution_count": null,
   "metadata": {
    "id": "ROXYlYJI9mxA"
   },
   "outputs": [],
   "source": [
    "sb.set_context('paper')\n",
    "pl.rcParams['figure.figsize']=(10,10)\n",
    "umap_point_size = np.maximum(120000/atac.n_obs, 2)\n",
    "#sc.tl.leiden(atac,random_state=random_state, resolution = 0.5)\n",
    "savefig=samplename+\"_6_predicted.pdf\"\n",
    "sc.pl.umap(atac, color=['predicted'], legend_loc='on data',legend_fontoutline=3,vmin='p10', vmax='p99.9',cmap=mymap, legend_fontweight='normal',size=umap_point_size,frameon=False,save=savefig)"
   ]
  },
  {
   "cell_type": "code",
   "execution_count": null,
   "metadata": {
    "id": "lHfEy9wTcskH"
   },
   "outputs": [],
   "source": [
    "atac=sc.read('/Users/andres/Documents1/Transcriptomics/GeoMX/publicdata/Lung5_Rep2/Lung5_Rep2-Flat_files_and_images/test_predicted.h5ad')\n",
    "atac"
   ]
  },
  {
   "cell_type": "code",
   "execution_count": null,
   "metadata": {
    "id": "QEuIz3trpaSK"
   },
   "outputs": [],
   "source": [
    "atac.obs.predicted"
   ]
  },
  {
   "cell_type": "code",
   "execution_count": null,
   "metadata": {
    "id": "fABjbg-swbT3"
   },
   "outputs": [],
   "source": [
    "atac.obs.predicted=atac.obs.predicted.str.replace(':', '_')"
   ]
  },
  {
   "cell_type": "code",
   "execution_count": null,
   "metadata": {
    "id": "1HBPyJQyrvhg"
   },
   "outputs": [],
   "source": [
    "#method : {‘logreg’, ‘t-test’, ‘wilcoxon’, ‘t-test_overestim_var’} | None (default: None)\n",
    "sc.tl.rank_genes_groups(atac, 'predicted', method='t-test',n_genes=atac.shape[1])\n",
    "markers=pd.DataFrame(atac.uns['rank_genes_groups']['names']).head(20)\n",
    "markers"
   ]
  },
  {
   "cell_type": "code",
   "execution_count": null,
   "metadata": {
    "id": "tUWmi3uwT-bd"
   },
   "outputs": [],
   "source": []
  },
  {
   "cell_type": "code",
   "execution_count": null,
   "metadata": {
    "id": "nUztoQ0fy2G9"
   },
   "outputs": [],
   "source": [
    "sq.pl.spatial_scatter(atac, color=[\"CD74\", \"leiden_r0.5\"],library_id='23')"
   ]
  },
  {
   "cell_type": "code",
   "execution_count": null,
   "metadata": {
    "id": "jp54cyy3fXMA"
   },
   "outputs": [],
   "source": [
    "sq.pl.spatial_segment(atac, color=\"CD74\", library_key=\"fov\", seg_cell_id=\"cell_ID\",save='fov_test1.pdf')"
   ]
  },
  {
   "cell_type": "code",
   "execution_count": null,
   "metadata": {
    "id": "Ft92qXBzikE2"
   },
   "outputs": [],
   "source": []
  },
  {
   "cell_type": "code",
   "execution_count": null,
   "metadata": {
    "id": "klCP0t8OikOu"
   },
   "outputs": [],
   "source": [
    "%matplotlib inline\n",
    "plt.ioff()\n",
    "tabs = pn.Tabs()\n",
    "for fov in ['1','2','3']:\n",
    "  fig=sq.pl.spatial_segment(atac, color=\"CD74\", library_key=\"fov\", library_id=fov,seg_cell_id=\"cell_ID\")\n",
    "  mpl_pane = pn.pane.Matplotlib(fig, dpi=144,name=fov)\n",
    "  tabs.append(mpl_pane)\n",
    "tabs"
   ]
  },
  {
   "cell_type": "code",
   "execution_count": null,
   "metadata": {
    "id": "rQltFFB1ja43"
   },
   "outputs": [],
   "source": [
    "%matplotlib inline"
   ]
  },
  {
   "cell_type": "code",
   "execution_count": null,
   "metadata": {
    "id": "qh0EP1FjjMpa"
   },
   "outputs": [],
   "source": [
    "fig=sq.pl.spatial_segment(atac, color=\"HLA-DRA\", library_key=\"fov\", library_id='1',seg_cell_id=\"cell_ID\")"
   ]
  },
  {
   "cell_type": "code",
   "execution_count": null,
   "metadata": {
    "id": "sGSrNyoJmEjC"
   },
   "outputs": [],
   "source": [
    "fig=sq.pl.spatial_segment(atac, color=\"leiden_r0.5\",groups=[\"0\", \"1\"], library_key=\"fov\", library_id='2',seg_cell_id=\"cell_ID\",seg_outline=True,img=True, frameon=True,)"
   ]
  },
  {
   "cell_type": "code",
   "execution_count": null,
   "metadata": {
    "id": "LmzrOcGImu-o"
   },
   "outputs": [],
   "source": [
    "fig = sc.pl.umap(atac, color='CD74',\n",
    "                 sort_order=True, ncols=4, return_fig=True, color_map='Blues', use_raw=False,\n",
    "                 vmin='p5', vmax='p99.9')\n",
    "fig.set_size_inches(12, 12)\n",
    "plt.show()"
   ]
  },
  {
   "cell_type": "code",
   "execution_count": null,
   "metadata": {
    "id": "lAzmPsErkCXG"
   },
   "outputs": [],
   "source": [
    "sq.pl.spatial_segment(\n",
    "    atac,\n",
    "    color=\"Cluster\",\n",
    "    groups=[\"Fibroblast\", \"Epithelial\"],\n",
    "    library_key=\"library_id\",\n",
    "    seg_cell_id=\"cell_id\",\n",
    "    seg_outline=True,\n",
    "    img=False,\n",
    "    frameon=False,\n",
    ")"
   ]
  },
  {
   "cell_type": "code",
   "execution_count": null,
   "metadata": {
    "id": "4umixqEmkCcn"
   },
   "outputs": [],
   "source": []
  },
  {
   "cell_type": "code",
   "execution_count": null,
   "metadata": {
    "id": "zVba0UEqj3VJ"
   },
   "outputs": [],
   "source": [
    "mpl_pane = pn.pane.Matplotlib(sq.pl.spatial_segment(atac, color=\"leiden_r0.5\",groups=[\"0\", \"1\"], library_key=\"fov\", library_id='2',seg_cell_id=\"cell_ID\",seg_outline=True,img=True, frameon=True,), dpi=144,name=fov)"
   ]
  },
  {
   "cell_type": "code",
   "execution_count": null,
   "metadata": {
    "id": "AZo1MISd-Syl"
   },
   "outputs": [],
   "source": [
    "atac.obs['predicted']"
   ]
  },
  {
   "cell_type": "code",
   "execution_count": null,
   "metadata": {
    "id": "EaukAZ7kj3kx"
   },
   "outputs": [],
   "source": [
    "%matplotlib inline\n",
    "sq.pl.spatial_segment(atac, color=\"predicted\",groups=['Epithelial_cells','T_cells'], library_key=\"fov\", library_id='2',seg_cell_id=\"cell_ID\",seg_outline=True,img=True, frameon=True,)\n"
   ]
  },
  {
   "cell_type": "code",
   "execution_count": null,
   "metadata": {
    "id": "Z4b5YG9M_dd7"
   },
   "outputs": [],
   "source": [
    "%matplotlib inline\n",
    "sq.pl.spatial_segment(atac, color=\"predicted\",groups=['Epithelial_cells','T_cells'], library_key=\"fov\", seg_cell_id=\"cell_ID\",seg_outline=True,img=True, frameon=True,save='epi_tcells_allfov.pdf')\n"
   ]
  },
  {
   "cell_type": "code",
   "execution_count": null,
   "metadata": {
    "id": "qaS6rqNq9op7"
   },
   "outputs": [],
   "source": []
  },
  {
   "cell_type": "code",
   "execution_count": null,
   "metadata": {
    "id": "io4Wz6Lxt1B9"
   },
   "outputs": [],
   "source": [
    "from matplotlib.figure import Figure"
   ]
  },
  {
   "cell_type": "code",
   "execution_count": null,
   "metadata": {
    "id": "drNVjbjWt2ep"
   },
   "outputs": [],
   "source": [
    "fig = Figure(figsize=(10, 6))\n",
    "ax = fig.subplots()\n",
    "sq.pl.spatial_segment(atac, color=\"leiden_r0.5\",groups=[\"0\", \"1\"], library_key=\"fov\", library_id='2',seg_cell_id=\"cell_ID\",seg_outline=True,img=True, frameon=True,)\n",
    "pn.pane.Matplotlib(fig)"
   ]
  },
  {
   "cell_type": "code",
   "execution_count": null,
   "metadata": {
    "id": "6UW2uFr87axx"
   },
   "outputs": [],
   "source": [
    "mpl_pane=pn.pane.Matplotlib(fig)"
   ]
  },
  {
   "cell_type": "code",
   "execution_count": null,
   "metadata": {
    "id": "-EIffNsbu1EF"
   },
   "outputs": [],
   "source": [
    "mpl_pane"
   ]
  },
  {
   "cell_type": "code",
   "execution_count": null,
   "metadata": {
    "id": "6Yne4H1mt2jo"
   },
   "outputs": [],
   "source": [
    "fig0 = Figure(figsize=(8, 6))\n",
    "ax0 = fig0.subplots()\n",
    "FigureCanvas(fig0)  # not needed for mpl >= 3.1\n",
    "\n",
    "strm = ax0.streamplot(X, Y, U, V, color=U, linewidth=2, cmap=cm.autumn)\n",
    "fig0.colorbar(strm.lines)\n",
    "\n",
    "mpl_pane = pn.pane.Matplotlib(fig0, dpi=144)\n",
    "mpl_pane"
   ]
  },
  {
   "cell_type": "code",
   "execution_count": null,
   "metadata": {
    "id": "bGTLqUt9t2sL"
   },
   "outputs": [],
   "source": []
  },
  {
   "cell_type": "code",
   "execution_count": null,
   "metadata": {
    "id": "39cPwm-sqdwQ"
   },
   "outputs": [],
   "source": [
    "import param\n",
    "from panel import Panel, Column\n",
    "from panel.panels import HTMLPanel"
   ]
  },
  {
   "cell_type": "code",
   "execution_count": null,
   "metadata": {
    "id": "9qllc71-qHpI"
   },
   "outputs": [],
   "source": [
    "sq.pl.spatial_segment(atac, color=\"leiden_r0.5\",groups=[\"0\", \"1\"], library_key=\"fov\", library_id='2',seg_cell_id=\"cell_ID\",seg_outline=True,img=True, frameon=True,), dpi=144,name=fov)"
   ]
  },
  {
   "cell_type": "code",
   "execution_count": null,
   "metadata": {
    "id": "EQxCvUMPEYQM"
   },
   "outputs": [],
   "source": [
    "sb.set_context('paper')\n",
    "pl.rcParams['figure.figsize']=(10,5)"
   ]
  },
  {
   "cell_type": "code",
   "execution_count": null,
   "metadata": {
    "id": "WqjacraP8Lsx"
   },
   "outputs": [],
   "source": [
    "%matplotlib inline\n",
    "sb.set_context('paper')\n",
    "pl.rcParams['figure.figsize']=(5,5)\n",
    "fig=plot_proportion_barplot_with_ncells(\n",
    "    atac,\n",
    "    'fov',\n",
    "    fill='leiden_r0.5', \n",
    "    fill_breakdown=None,\n",
    "    yaxis_label=None,\n",
    "    fill_label='annotated',\n",
    "    percent_limit=1., \n",
    "    show_percent=True,\n",
    "    height_scale=1., \n",
    "    width_scale=1.,\n",
    "    legend_position=(-0, 0.5),\n",
    "    normalize_by=None,)\n",
    "fig.savefig('cell_composition_by_FOV2.pdf', dpi=300, bbox_inches='tight')"
   ]
  },
  {
   "cell_type": "code",
   "execution_count": null,
   "metadata": {
    "id": "WK05czL3FTE1"
   },
   "outputs": [],
   "source": [
    "fig=plot_proportion_barplot(\n",
    "    atac,\n",
    "    'fov',\n",
    "    fill='predicted', \n",
    "    fill_breakdown=None,\n",
    "    yaxis_label=None,\n",
    "    fill_label='annotated',\n",
    "    percent_limit=1., \n",
    "    show_percent=True,\n",
    "    height_scale=1., \n",
    "    width_scale=1.,\n",
    "    legend_position=(-0.1, 0.5),\n",
    "    normalize_by=None,)\n"
   ]
  },
  {
   "cell_type": "code",
   "execution_count": null,
   "metadata": {
    "id": "dxTKOm98FWmm"
   },
   "outputs": [],
   "source": [
    "fig"
   ]
  },
  {
   "cell_type": "code",
   "execution_count": null,
   "metadata": {
    "id": "frgPy0wm8a67"
   },
   "outputs": [],
   "source": [
    " fig1=plot_proportion_barplot_with_ncells(atac, 'fov',fill='predicted', )"
   ]
  },
  {
   "cell_type": "code",
   "execution_count": null,
   "metadata": {
    "id": "pVxWlBsF9wfC"
   },
   "outputs": [],
   "source": [
    "%matplotlib auto\n",
    "plt.ioff()\n",
    "sb.set_context('paper')\n",
    "pl.rcParams['figure.figsize']=(10,5)\n",
    "tabs = pn.Tabs()\n",
    "for leiden in ['leiden_r0.2', 'leiden_r0.3','leiden_r0.4', 'leiden_r0.5','leiden_r0.8', 'leiden_r1','leiden_r1.5']:\n",
    "  fig=plot_proportion_barplot_with_ncells(atac, 'fov',fill=leiden, )\n",
    "  mpl_pane = pn.pane.Matplotlib(fig, dpi=144,name=leiden)\n",
    "  tabs.append(mpl_pane)\n",
    "tabs"
   ]
  },
  {
   "cell_type": "code",
   "execution_count": null,
   "metadata": {
    "id": "RPYMZm-77vga"
   },
   "outputs": [],
   "source": [
    "mpl_pane1=pn.pane.Matplotlib(fig1,dpi=144)"
   ]
  },
  {
   "cell_type": "code",
   "execution_count": null,
   "metadata": {
    "id": "i9weWK--70MV"
   },
   "outputs": [],
   "source": [
    "tabs.append(mpl_pane1)\n",
    "tabs"
   ]
  },
  {
   "cell_type": "code",
   "execution_count": null,
   "metadata": {
    "id": "mszVxNZ7oqix"
   },
   "outputs": [],
   "source": [
    "\n",
    "tabs = pn.Tabs()\n",
    "tabs.append(mpl_pane)\n",
    "tabs"
   ]
  },
  {
   "cell_type": "code",
   "execution_count": null,
   "metadata": {
    "id": "ENHhOLqkjWtI"
   },
   "outputs": [],
   "source": [
    "fig=sq.pl.spatial_segment(atac, color=\"CD74\", library_key=\"fov\", library_id='1',seg_cell_id=\"cell_ID\")"
   ]
  },
  {
   "cell_type": "code",
   "execution_count": null,
   "metadata": {
    "id": "r52zRVKWjQyb"
   },
   "outputs": [],
   "source": [
    "fig.show()"
   ]
  },
  {
   "cell_type": "code",
   "execution_count": null,
   "metadata": {
    "id": "qVpjAzKziIsM"
   },
   "outputs": [],
   "source": [
    "sq.pl.spatial_segment(atac, color=\"CD74\", library_key=\"fov\", library_id=\"19\",seg_cell_id=\"cell_ID\",save='fov_test2.pdf')"
   ]
  },
  {
   "cell_type": "code",
   "execution_count": null,
   "metadata": {
    "id": "KHAc2u3Df9-k"
   },
   "outputs": [],
   "source": [
    "sq.pl.spatial_segment(\n",
    "    atac,\n",
    "    color=\"Cluster\",\n",
    "    library_key=\"fov\",\n",
    "    library_id=\"19\",\n",
    "    seg_cell_id=\"cell_ID\",\n",
    "    seg_contourpx=10,\n",
    "    crop_coord=[(0, 0, 300, 300)],\n",
    ")"
   ]
  },
  {
   "cell_type": "code",
   "execution_count": null,
   "metadata": {
    "id": "ksP4cXqaf-SK"
   },
   "outputs": [],
   "source": []
  },
  {
   "cell_type": "code",
   "execution_count": null,
   "metadata": {
    "id": "bBhy7rxef-dw"
   },
   "outputs": [],
   "source": []
  },
  {
   "cell_type": "code",
   "execution_count": null,
   "metadata": {
    "id": "Rgs7FNUPzYwV"
   },
   "outputs": [],
   "source": [
    "sq.pl.spatial_scatter(atac, color=[\"CD74\", \"fov\"],library_id='1',cmap=mymap,img=False,)"
   ]
  },
  {
   "cell_type": "code",
   "execution_count": null,
   "metadata": {
    "id": "1OTNU3O67Vn0"
   },
   "outputs": [],
   "source": [
    "atac"
   ]
  },
  {
   "cell_type": "code",
   "execution_count": null,
   "metadata": {
    "id": "FpwhK89W7UAq"
   },
   "outputs": [],
   "source": []
  },
  {
   "cell_type": "code",
   "execution_count": null,
   "metadata": {
    "id": "Rk_9Ewdh2JHd"
   },
   "outputs": [],
   "source": [
    "sq.pl.spatial_scatter(\n",
    "    atac,library_key='spatial',library_id=['1'],img=False,\n",
    "    color=[\"CD74\", \"leiden_r0.5\"],\n",
    "    crop_coord=[(1500, 1500, 3000, 3000)],\n",
    "    scalebar_dx=3.0,\n",
    "    scalebar_kwargs={\"scale_loc\": \"bottom\", \"location\": \"lower right\"},\n",
    ")"
   ]
  },
  {
   "cell_type": "code",
   "execution_count": null,
   "metadata": {
    "id": "5OmBFnP52gO-"
   },
   "outputs": [],
   "source": [
    "sc.pl.spatial(atac, color=\"leiden_r0.5\", library_id='1',spot_size=0.5,img=False)"
   ]
  },
  {
   "cell_type": "code",
   "execution_count": null,
   "metadata": {
    "id": "WXlEtANtKy0G"
   },
   "outputs": [],
   "source": [
    "sq.gr.spatial_neighbors(atac, coord_type=\"generic\")"
   ]
  },
  {
   "cell_type": "code",
   "execution_count": null,
   "metadata": {
    "id": "zYKYAJv7Kwd0"
   },
   "outputs": [],
   "source": [
    "sq.gr.spatial_neighbors(atac, coord_type=\"generic\")\n",
    "sq.gr.nhood_enrichment(atac, cluster_key=\"leiden_r0.5\")\n",
    "sq.pl.nhood_enrichment(atac, cluster_key=\"leiden_r0.5\", method=\"ward\")"
   ]
  },
  {
   "cell_type": "code",
   "execution_count": null,
   "metadata": {
    "id": "cKZop9q4NVLm"
   },
   "outputs": [],
   "source": [
    "atac.obs_keys"
   ]
  },
  {
   "cell_type": "code",
   "execution_count": null,
   "metadata": {
    "id": "SXHilg4YNNLF"
   },
   "outputs": [],
   "source": [
    "sq.pl.spatial_segment(atac, color=\"leiden_r0.5\", library_key=\"fov\", seg_cell_id=\"cell_ID\")"
   ]
  },
  {
   "cell_type": "code",
   "execution_count": null,
   "metadata": {
    "id": "0H0PLo2-PGwG"
   },
   "outputs": [],
   "source": [
    "sq.pl.spatial_segment(\n",
    "    atac,\n",
    "    color=\"leiden_r0.5\",\n",
    "    groups=[\"0\",\"1\"],\n",
    "    library_key=\"fov\",\n",
    "    seg_cell_id=\"cell_ID\",\n",
    "    seg_outline=True,\n",
    "    img=False,\n",
    "    frameon=False,\n",
    ")"
   ]
  },
  {
   "cell_type": "code",
   "execution_count": null,
   "metadata": {
    "id": "cxjNSv2AKV-U"
   },
   "outputs": [],
   "source": [
    "sc.pl.spatial(\n",
    "    atac,\n",
    "    color=\"leiden_r0.5\",\n",
    "    groups=[\n",
    "        \"Endothelium\",\n",
    "        \"Haematoendothelial progenitors\",\n",
    "        \"Allantois\",\n",
    "        \"Lateral plate mesoderm\",\n",
    "        \"Intermediate mesoderm\",\n",
    "        \"Presomitic mesoderm\",\n",
    "    ],\n",
    "    spot_size=0.03,\n",
    ")"
   ]
  },
  {
   "cell_type": "code",
   "execution_count": null,
   "metadata": {
    "id": "xidKwf5ufKOQ"
   },
   "outputs": [],
   "source": [
    "atac = mdata.mod['atac']\n",
    "atac"
   ]
  }
 ],
 "metadata": {
  "colab": {
   "collapsed_sections": [
    "kYBcMpcR7vHq",
    "LEBx9dOQqJmD",
    "Zd2rnLFc6fCu",
    "j-CA52SZ_DM5",
    "3ke-TypqrSY0"
   ],
   "machine_shape": "hm",
   "name": "Multiomics_part2_ATAC.ipynb",
   "provenance": [
    {
     "file_id": "10sH-RKKZroqCW2S9rQsGOCjhYTNA3qon",
     "timestamp": 1654778864370
    }
   ],
   "toc_visible": true
  },
  "kernelspec": {
   "display_name": "Python 3 (ipykernel)",
   "language": "python",
   "name": "python3"
  },
  "language_info": {
   "codemirror_mode": {
    "name": "ipython",
    "version": 3
   },
   "file_extension": ".py",
   "mimetype": "text/x-python",
   "name": "python",
   "nbconvert_exporter": "python",
   "pygments_lexer": "ipython3",
   "version": "3.9.12"
  }
 },
 "nbformat": 4,
 "nbformat_minor": 4
}
