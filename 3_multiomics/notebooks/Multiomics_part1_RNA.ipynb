{
 "cells": [
  {
   "cell_type": "markdown",
   "metadata": {
    "id": "mqridQFSnEQ5"
   },
   "source": [
    "# Setup"
   ]
  },
  {
   "cell_type": "code",
   "execution_count": null,
   "metadata": {
    "id": "LcYt4J4pUi3c"
   },
   "outputs": [],
   "source": [
    "import scanpy as sc\n",
    "import numpy as np\n",
    "import re\n",
    "import os\n",
    "import pandas as pd\n",
    "import seaborn as sb\n",
    "import matplotlib\n",
    "import scipy.sparse as sp\n",
    "from scipy.sparse import issparse\n",
    "import anndata2ri\n",
    "\n",
    "import matplotlib as mpl\n",
    "from scipy import stats as scistats\n",
    "import matplotlib.pyplot as pl\n",
    "import scanpy.external as sce\n",
    "from matplotlib import colors\n",
    "import bbknn\n",
    "from pathlib import Path\n",
    "from ipywidgets import interactive\n",
    "\n",
    "sc._settings.ScanpyConfig.n_jobs=8\n",
    "\n",
    "pl.rcParams['pdf.fonttype'] = 'truetype'\n",
    "sc.set_figure_params(vector_friendly=False,dpi_save=300,transparent=True)\n",
    "pl.rcParams['lines.linewidth'] = 0.1\n",
    "sc.set_figure_params(color_map='viridis')\n",
    "colorsComb = np.vstack([pl.cm.Reds(np.linspace(0, 1, 10)), pl.cm.Greys_r(np.linspace(0.7, 0.8, 0))])\n",
    "mymap = colors.LinearSegmentedColormap.from_list('my_colormap', colorsComb)\n",
    "\n",
    "import muon as mu\n",
    "from muon import prot as pt\n",
    "\n",
    "%matplotlib inline\n",
    "import panel as pn\n",
    "#pn.extension(sizing_mode=\"stretch_width\", comms='colab')\n",
    "pn.extension( comms='colab')\n"
   ]
  },
  {
   "cell_type": "code",
   "execution_count": null,
   "metadata": {
    "id": "wxhvRSd6Rysz"
   },
   "outputs": [],
   "source": [
    "import colorcet as cc\n",
    "\n",
    "xs, _ = np.meshgrid(np.linspace(0, 1, 80), np.linspace(0, 1, 10))\n",
    "colorsComb = np.vstack([pl.cm.Greys_r(np.linspace(0.8,0.1, 1)), cc.cm.rainbow_bgyr_35_85_c72(np.linspace(0.2,1, 100))])\n",
    "mymap = colors.LinearSegmentedColormap.from_list('my_colormap', colorsComb)\n",
    "pl.imshow(xs, cmap=mymap);  # use tab completion to choose"
   ]
  },
  {
   "cell_type": "code",
   "execution_count": null,
   "metadata": {
    "id": "9ZBLqlpzgY5k"
   },
   "outputs": [],
   "source": [
    "# add extra code to the path\n",
    "import sys\n",
    "sys.path.append('content/sctoolkit/sctoolkit/')\n",
    "from proportions import *"
   ]
  },
  {
   "cell_type": "raw",
   "metadata": {
    "id": "5HUcJk8IhdCD"
   },
   "source": [
    "# add extra code to the path\n",
    "import sys\n",
    "sys.path.append('/content/')\n",
    "from proportions2 import show_values,plot_proportion_barplot_with_ncells"
   ]
  },
  {
   "cell_type": "code",
   "execution_count": null,
   "metadata": {
    "id": "OUmuZvvsSj6U"
   },
   "outputs": [],
   "source": [
    "%load_ext watermark\n",
    "%watermark\n",
    "%watermark --iversions -v -m -p numpy,scipy,sklearn,anndata,scanpy,muon,anndata2ri,rpy2"
   ]
  },
  {
   "cell_type": "markdown",
   "metadata": {
    "id": "6g1NHR1mjTy7"
   },
   "source": [
    "# Download PBMC data from 10X"
   ]
  },
  {
   "cell_type": "code",
   "execution_count": null,
   "metadata": {
    "id": "EcBM3N2rjTLZ"
   },
   "outputs": [],
   "source": [
    "data_dir = '../..//public-data/3_multiomics/data/'\n",
    "! pwd"
   ]
  },
  {
   "cell_type": "markdown",
   "metadata": {
    "id": "vK7qlOxEXDve"
   },
   "source": [
    "# Setup WD"
   ]
  },
  {
   "cell_type": "code",
   "execution_count": null,
   "metadata": {
    "id": "61Y_-nK-Vd6T"
   },
   "outputs": [],
   "source": [
    "#Change XXX to sample name\n",
    "#folder='/content/'\n",
    "samplename='PBMC_granulocyte_sorted'\n",
    "random_state=42\n",
    "\n",
    "import os\n",
    "\n",
    "if not os.path.exists('./figures/'):\n",
    "    os.makedirs('./figures/')"
   ]
  },
  {
   "cell_type": "markdown",
   "metadata": {
    "id": "MVQ0EiWsvJfY"
   },
   "source": [
    "# import data as H5AD"
   ]
  },
  {
   "cell_type": "code",
   "execution_count": null,
   "metadata": {
    "id": "XK185ezBvNbd"
   },
   "outputs": [],
   "source": [
    "mdata = mu.read_10x_h5(data_dir + \"/pbmc_granulocyte_sorted_10k_filtered_feature_bc_matrix.h5\")\n",
    "mdata.var_names_make_unique()\n",
    "mdata"
   ]
  },
  {
   "cell_type": "code",
   "execution_count": null,
   "metadata": {
    "id": "HyOVLkZWadNy"
   },
   "outputs": [],
   "source": [
    "mdata.obs['sample']=[samplename]*mdata.n_obs\n",
    "mdata.obs['group']=[samplename]*mdata.n_obs"
   ]
  },
  {
   "cell_type": "code",
   "execution_count": null,
   "metadata": {
    "id": "19iVsGZOWtdc"
   },
   "outputs": [],
   "source": [
    "rna = mdata.mod['rna']\n",
    "\n",
    "rna.obs['sample']=[samplename]*rna.n_obs\n",
    "rna.obs['group']=[samplename]*rna.n_obs\n",
    "rna"
   ]
  },
  {
   "cell_type": "code",
   "execution_count": null,
   "metadata": {
    "id": "pqHeRVu-EiWC"
   },
   "outputs": [],
   "source": [
    "sc.pp.filter_genes(rna, min_cells=10)\n",
    "rna"
   ]
  },
  {
   "cell_type": "code",
   "execution_count": null,
   "metadata": {
    "id": "C26S3PBLiFqx"
   },
   "outputs": [],
   "source": [
    "# Quality control - calculate QC covariates\n",
    "rna.obs['n_counts'] = rna.X.sum(1)\n",
    "rna.obs['log_counts'] = np.log(rna.obs['n_counts'])\n",
    "rna.obs['n_genes'] = (rna.X > 0).sum(1)\n",
    "\n",
    "# compute qc metrics\n",
    "\n",
    "rna.var['mt'] = rna.var_names.str.startswith('MT-')  # annotate the group of mitochondrial genes as 'mt'\n",
    "rna.var['rb'] = rna.var_names.str.startswith(('RPS','RPL'))  # annotate the group of ribosomal proteins as 'rb'\n",
    "sc.pp.calculate_qc_metrics(rna, qc_vars=['mt'], percent_top=None, log1p=False, inplace=True)\n",
    "sc.pp.calculate_qc_metrics(rna, qc_vars=['rb'], percent_top=None, log1p=False, inplace=True)\n",
    "\n",
    "rna"
   ]
  },
  {
   "cell_type": "markdown",
   "metadata": {
    "id": "5i1X9L0FAwCf"
   },
   "source": [
    "# Filter doublets with scrublet"
   ]
  },
  {
   "cell_type": "code",
   "execution_count": null,
   "metadata": {
    "id": "4N7RTihXuWcx"
   },
   "outputs": [],
   "source": [
    "sce.pp.scrublet(rna,\n",
    "    adata_sim = None,\n",
    "    sim_doublet_ratio= 2.0,\n",
    "    expected_doublet_rate = 0.05,\n",
    "    stdev_doublet_rate = 0.02,\n",
    "    synthetic_doublet_umi_subsampling= 1.0,\n",
    "    knn_dist_metric = 'euclidean',\n",
    "    normalize_variance= True,\n",
    "    log_transform= False,\n",
    "    mean_center= True,\n",
    "    n_prin_comps= 30,\n",
    "    use_approx_neighbors= True,\n",
    "    get_doublet_neighbor_parents= False,\n",
    "    n_neighbors = None,\n",
    "    threshold = None,\n",
    "    verbose = True,\n",
    "    copy= False,\n",
    "random_state= 0,)"
   ]
  },
  {
   "cell_type": "code",
   "execution_count": null,
   "metadata": {
    "id": "oQk-hWXVPOTI"
   },
   "outputs": [],
   "source": [
    "sb.set_context('paper')\n",
    "savefig=samplename + '_7_QC_doublets.pdf'\n",
    "sce.pl.scrublet_score_distribution(rna,save=savefig)"
   ]
  },
  {
   "cell_type": "markdown",
   "metadata": {
    "id": "bJVyquTf7n1b"
   },
   "source": [
    "# Helper plots for determining gene and count threshold values"
   ]
  },
  {
   "cell_type": "code",
   "execution_count": null,
   "metadata": {
    "id": "GoiTFcIOK6Cx"
   },
   "outputs": [],
   "source": [
    "sb.set_context('paper')\n",
    "pl.rcParams['lines.linewidth'] = 0.1\n",
    "import matplotlib.pyplot as plt\n",
    "\n",
    "fig, (ax1, ax2, ax3,ax4) = plt.subplots(1, 4, figsize=(16,4), gridspec_kw={'wspace':0.2})\n",
    "\n",
    "ax1_dict = sb.histplot(rna.obs['n_counts'], kde=False, ax=ax1,)\n",
    "ax2_dict =  sb.histplot(rna.obs['n_counts'][rna.obs['n_counts']<100], kde=False, bins=60, ax=ax2,)\n",
    "ax3_dict =  sb.histplot(rna.obs['n_counts'][rna.obs['n_counts']<1000], kde=False, bins=60, ax=ax3,)\n",
    "ax4_dict = sb.histplot(rna.obs['n_counts'][rna.obs['n_counts']>10000], kde=False, bins=60, ax=ax4, )\n",
    "savefig='figures/'+samplename + '_1_QC_counts_filtering.pdf'\n",
    "fig.savefig(savefig, dpi=300, bbox_inches='tight')"
   ]
  },
  {
   "cell_type": "code",
   "execution_count": null,
   "metadata": {
    "id": "r3fql4XGNPPd"
   },
   "outputs": [],
   "source": [
    "sb.set_context('paper')\n",
    "pl.rcParams['lines.linewidth'] = 0.1\n",
    "import matplotlib.pyplot as plt\n",
    "\n",
    "fig, (ax1, ax2, ax3) = plt.subplots(1, 3, figsize=(16,4), gridspec_kw={'wspace':0.2})\n",
    "\n",
    "ax1_dict = sb.histplot(rna.obs['n_genes'], kde=False, bins=60, ax=ax1,)\n",
    "ax2_dict =  sb.histplot(rna.obs['n_genes'][rna.obs['n_genes']<500], kde=False, bins=60, ax=ax2,)\n",
    "ax3_dict =  sb.histplot(rna.obs['n_genes'][rna.obs['n_genes']<1000], kde=False, bins=60, ax=ax3,)\n",
    "savefig='figures/'+samplename + '_2_QC_gene_filtering.pdf'\n",
    "fig.savefig(savefig, dpi=300, bbox_inches='tight')"
   ]
  },
  {
   "cell_type": "code",
   "execution_count": null,
   "metadata": {
    "id": "CMoBv0qVrU6Q"
   },
   "outputs": [],
   "source": [
    "# plot percentage of mitochondtial genes versus count depth and n_genes\n",
    "sb.set_context('paper')\n",
    "pl.rcParams['figure.figsize']=(5,5) #rescale figures\n",
    "savefig=samplename + '_4_QC_saturationplot.pdf'\n",
    "sc.pl.scatter(rna, x='total_counts', y='n_genes', color='pct_counts_mt',save=savefig)"
   ]
  },
  {
   "cell_type": "code",
   "execution_count": null,
   "metadata": {
    "id": "gEuDe15XrbRW"
   },
   "outputs": [],
   "source": [
    "sb.set_context('paper')\n",
    "pl.rcParams['lines.linewidth'] = 0.1\n",
    "import matplotlib.pyplot as plt\n",
    "\n",
    "fig, (ax1, ax2, ax3) = plt.subplots(1, 3, figsize=(16,4), gridspec_kw={'wspace':0.2})\n",
    "\n",
    "ax1_dict = sc.pl.violin(rna, 'n_counts', groupby='group', size=0.5, log=True, cut=0, ax=ax1, show=False)\n",
    "ax2_dict =  sc.pl.violin(rna, 'n_genes', groupby='group', size=0.5, log=True, cut=0, ax=ax2, show=False)\n",
    "ax3_dict = sc.pl.violin(rna, 'pct_counts_mt', groupby='group',size=0.5, ax=ax3, show=False,)\n",
    "savefig='figures/'+samplename + '_5_QC_violin_plots.pdf'\n",
    "fig.savefig(savefig, dpi=300, bbox_inches='tight')"
   ]
  },
  {
   "cell_type": "code",
   "execution_count": null,
   "metadata": {
    "id": "Vkym7jeEs598"
   },
   "outputs": [],
   "source": [
    "sb.set_context('paper')\n",
    "pl.rcParams['lines.linewidth'] = 0.1\n",
    "savefig='_'+samplename + '_6_QC_highest_expr_genes.pdf'\n",
    "sc.pl.highest_expr_genes(rna, n_top=20,save=savefig,)"
   ]
  },
  {
   "cell_type": "code",
   "execution_count": null,
   "metadata": {
    "id": "9QsOgtrziO08"
   },
   "outputs": [],
   "source": [
    "print(rna.obs['group'].value_counts())"
   ]
  },
  {
   "cell_type": "code",
   "execution_count": null,
   "metadata": {
    "id": "pLWFYfqliPZc"
   },
   "outputs": [],
   "source": [
    "rna.obs['n_counts'].sum()/rna.obs['group'].value_counts()"
   ]
  },
  {
   "cell_type": "code",
   "execution_count": null,
   "metadata": {
    "id": "Wui5Vuk9iRDy"
   },
   "outputs": [],
   "source": [
    "rna.obs['n_counts'].sum()"
   ]
  },
  {
   "cell_type": "code",
   "execution_count": null,
   "metadata": {
    "id": "2CNEBKG9hNBC"
   },
   "outputs": [],
   "source": [
    "def h(counts=400, genes=400,mito=15):\n",
    "    conditions = [(rna.obs['predicted_doublet'] == True),(rna.obs['n_genes_by_counts'] < counts),(rna.obs['n_genes'] < genes),(rna.obs['pct_counts_mt'] >mito),(rna.obs['pct_counts_mt'] <= mito) & (rna.obs['n_genes_by_counts'] >= counts) & (rna.obs['n_genes'] >= genes)& (rna.obs['predicted_doublet'] != True)]\n",
    "    values = ['Doublet', 'Low_nFeature', 'Low_ngenes','High_MT', 'Passing']\n",
    "    rna.obs['QC'] = np.select(conditions, values)\n",
    "    rna.obs['QC'] = rna.obs['QC'].astype('category')\n",
    "\n",
    "    new_df1=pd.DataFrame(rna.obs['QC'].value_counts()).reset_index()\n",
    "    p=sb.barplot(x='index',y='QC',data=new_df1,color='sandybrown')\n",
    "    show_values(p)\n",
    "\n",
    "\n",
    "interactive_plot = interactive(h, counts=(0, 2000,20), genes=(0, 2000,20), mito=(0, 100, 1))\n",
    "output = interactive_plot.children[-1]\n",
    "output.layout.height = '350px'\n",
    "interactive_plot"
   ]
  },
  {
   "cell_type": "code",
   "execution_count": null,
   "metadata": {
    "id": "mUw5BBcNhNBC"
   },
   "outputs": [],
   "source": [
    "rna.obs['QC'].value_counts()"
   ]
  },
  {
   "cell_type": "markdown",
   "metadata": {
    "id": "kYBcMpcR7vHq"
   },
   "source": [
    "## Plot QC for cells that pass tentative thresholds"
   ]
  },
  {
   "cell_type": "code",
   "execution_count": null,
   "metadata": {
    "id": "GbR7OiwBrC_Y"
   },
   "outputs": [],
   "source": [
    "\n",
    "sb.set_context('paper')\n",
    "\n",
    "\n",
    "fig, (ax1, ax2, ax3) = pl.subplots(1, 3, figsize=(6, 3), dpi=150, sharey=False)\n",
    "rna.obs['n_genes']\n",
    "\n",
    "sb.histplot( rna[rna.obs['QC'] == 'Pass'].obs['n_genes'], ax=ax1, kde=True, bins=100)\n",
    "sb.histplot( rna[rna.obs['QC'] == 'Pass'].obs['n_counts'], ax=ax2, kde=True, bins=100)\n",
    "sb.histplot(rna[rna.obs['QC'] == 'Pass'].obs['pct_counts_mt'], ax=ax3, kde=True, bins=100)\n",
    "\n",
    "ax1.title.set_text('n_genes')\n",
    "ax2.title.set_text('n_counts')\n",
    "ax3.title.set_text('mt_pct')\n",
    "\n",
    "fig.text(0.00, 0.5, 'Frequency', ha='center', va='center', rotation='vertical', size='x-large')\n",
    "\n",
    "fig.tight_layout()\n",
    "savefig='figures/'+samplename + '_3_QC_filtering_postfilter.pdf'\n",
    "fig.savefig(savefig, dpi=300, bbox_inches='tight')"
   ]
  },
  {
   "cell_type": "markdown",
   "metadata": {
    "id": "6c59vsPWAMMD"
   },
   "source": [
    "# Nomalization"
   ]
  },
  {
   "cell_type": "code",
   "execution_count": null,
   "metadata": {
    "id": "iRyLeSJhUUiR"
   },
   "outputs": [],
   "source": [
    "rna.layers[\"raw\"] = rna.X \n",
    "rna.raw=rna\n",
    "rna.layers[\"sqrt_norm\"] = np.sqrt(\n",
    "    sc.pp.normalize_total(rna, inplace=False)[\"X\"])"
   ]
  },
  {
   "cell_type": "code",
   "execution_count": null,
   "metadata": {
    "id": "qsmeK841ZJ5z"
   },
   "outputs": [],
   "source": [
    "sc.experimental.pp.recipe_pearson_residuals(rna,n_top_genes=3000,n_comps=100,random_state=42,inplace=True)\n",
    "rna.layers[\"normalized\"]=rna.X\n",
    "sc.pp.log1p(rna)\n",
    "rna.layers[\"logcounts\"] = rna.X\n",
    "\n",
    "rna"
   ]
  },
  {
   "cell_type": "markdown",
   "metadata": {
    "id": "miJEzWQ-Aowf"
   },
   "source": [
    "# cellcycle score"
   ]
  },
  {
   "cell_type": "code",
   "execution_count": null,
   "metadata": {
    "id": "hCiNAQT1AoCV"
   },
   "outputs": [],
   "source": [
    "s_genes = ['MCM5','PCNA','TYMS','FEN1','MCM7','MCM4','RRM1','UNG','GINS2','MCM6','CDCA7','DTL','PRIM1',\n",
    "           'UHRF1','CENPU','HELLS','RFC2','POLR1B','NASP','RAD51AP1','GMNN','WDR76','SLBP','CCNE2','UBR7',\n",
    "           'POLD3','MSH2','ATAD2','RAD51','RRM2','CDC45','CDC6','EXO1','TIPIN','DSCC1','BLM','CASP8AP2',\n",
    "           'USP1','CLSPN','POLA1','CHAF1B','MRPL36','E2F8']\n",
    "g2m_genes = ['HMGB2','CDK1','NUSAP1','UBE2C','BIRC5','TPX2','TOP2A','NDC80','CKS2','NUF2','CKS1B',\n",
    "             'MKI67','TMPO','CENPF','TACC3','PIMREG','SMC4','CCNB2','CKAP2L','CKAP2','AURKB','BUB1',\n",
    "             'KIF11','ANP32E','TUBB4B','GTSE1','KIF20B','HJURP','CDCA3','JPT1','CDC20','TTK','CDC25C',\n",
    "             'KIF2C','RANGAP1','NCAPD2','DLGAP5','CDCA2','CDCA8','ECT2','KIF23','HMMR','AURKA','PSRC1',\n",
    "             'ANLN','LBR','CKAP5','CENPE','CTCF','NEK2','G2E3','GAS2L3','CBX5','CENPA']\n",
    "cell_cycle_genes = s_genes + g2m_genes\n",
    "display(len(s_genes))\n",
    "display(len(g2m_genes))\n",
    "display(len(cell_cycle_genes))"
   ]
  },
  {
   "cell_type": "code",
   "execution_count": null,
   "metadata": {
    "id": "fVjSA36EhNBI"
   },
   "outputs": [],
   "source": [
    "cell_cycle_genes = [x for x in cell_cycle_genes if x in rna.var_names]\n",
    "len(cell_cycle_genes)"
   ]
  },
  {
   "cell_type": "code",
   "execution_count": null,
   "metadata": {
    "id": "NT_kLpmJhNBI"
   },
   "outputs": [],
   "source": [
    "sc.tl.score_genes_cell_cycle(rna, s_genes=s_genes, g2m_genes=g2m_genes)"
   ]
  },
  {
   "cell_type": "code",
   "execution_count": null,
   "metadata": {
    "id": "9RDzzNeABoCe"
   },
   "outputs": [],
   "source": [
    "adata_cc_genes = rna[:, cell_cycle_genes]\n",
    "sc.tl.pca(adata_cc_genes)\n",
    "sc.pl.pca_scatter(adata_cc_genes, color='phase')"
   ]
  },
  {
   "cell_type": "markdown",
   "metadata": {
    "id": "LEBx9dOQqJmD"
   },
   "source": [
    "# PCA"
   ]
  },
  {
   "cell_type": "code",
   "execution_count": null,
   "metadata": {
    "id": "SamDYqzj9dR6"
   },
   "outputs": [],
   "source": [
    "#sc.pp.scale(rna,max_value=10)"
   ]
  },
  {
   "cell_type": "code",
   "execution_count": null,
   "metadata": {
    "id": "bj4mt67cqI8F"
   },
   "outputs": [],
   "source": [
    "#sc.pp.pca(rna, n_comps = 100, use_highly_variable =False, svd_solver = \"arpack\")\n",
    "sc.pl.pca_variance_ratio(rna, n_pcs = 100,log=True)"
   ]
  },
  {
   "cell_type": "code",
   "execution_count": null,
   "metadata": {
    "id": "uuSYmWTsu016"
   },
   "outputs": [],
   "source": [
    "sb.set_context('talk')\n",
    "pl.rcParams['figure.figsize']=(5,5)\n",
    "sc.pp.neighbors(rna, n_pcs=30,n_neighbors=10,random_state=42)\n",
    "#bbknn.bbknn(rna,batch_key = \"donnor\", neighbors_within_batch =10, n_pcs = 50)\n",
    "#Save to figures (not sample specific folder)\n",
    "genes_to_plot = ['n_genes','log_counts','pct_counts_mt','doublet_score']\n",
    "#sc.tl.tsne(rna, n_jobs=8,use_rep='X', perplexity=30) \n",
    "sc.tl.umap(rna,random_state=42)\n",
    "savefig=samplename+\"_4_QC_doublets_vst_mito.pdf\"\n",
    "sc.pl.umap(rna, color = genes_to_plot,ncols=2,save=savefig)"
   ]
  },
  {
   "cell_type": "code",
   "execution_count": null,
   "metadata": {
    "id": "Kp4N1M_pm0BS"
   },
   "outputs": [],
   "source": [
    "rna"
   ]
  },
  {
   "cell_type": "code",
   "execution_count": null,
   "metadata": {
    "id": "A_PPPam5C4pw"
   },
   "outputs": [],
   "source": [
    "rna = rna[rna.obs['QC'] == 'Passing']\n",
    "rna"
   ]
  },
  {
   "cell_type": "code",
   "execution_count": null,
   "metadata": {
    "id": "A96eQ8crGVin"
   },
   "outputs": [],
   "source": [
    "sb.set_context('talk')\n",
    "pl.rcParams['figure.figsize']=(5,5)\n",
    "savefig=samplename+\"_4_QC_doublets_vst_mito.pdf\"\n",
    "sc.pl.umap(rna, color = genes_to_plot,ncols=2,save=savefig)"
   ]
  },
  {
   "cell_type": "code",
   "execution_count": null,
   "metadata": {
    "id": "phxB85Ebme77"
   },
   "outputs": [],
   "source": [
    "rna.shape[0]"
   ]
  },
  {
   "cell_type": "markdown",
   "metadata": {
    "id": "yq6Hwu2QGX7B"
   },
   "source": [
    "# Re-analyse the data only with cells passing QC"
   ]
  },
  {
   "cell_type": "code",
   "execution_count": null,
   "metadata": {
    "id": "Qu6ZweiZGg6M"
   },
   "outputs": [],
   "source": [
    "rna.X=rna.layers['raw']"
   ]
  },
  {
   "cell_type": "code",
   "execution_count": null,
   "metadata": {
    "id": "vBSsDtueG3sG"
   },
   "outputs": [],
   "source": [
    "# Nomalization\n",
    "rna.layers[\"raw\"] = rna.X \n",
    "rna.raw=rna\n",
    "rna.layers[\"sqrt_norm\"] = np.sqrt(\n",
    "    sc.pp.normalize_total(rna, inplace=False)[\"X\"])\n",
    "\n",
    "sc.experimental.pp.recipe_pearson_residuals(rna,n_top_genes=3000,n_comps=100,random_state=42,inplace=True)\n",
    "rna.layers[\"normalized\"]=rna.X\n",
    "sc.pp.log1p(rna)\n",
    "rna.layers[\"logcounts\"] = rna.X\n",
    "\n",
    "rna"
   ]
  },
  {
   "cell_type": "code",
   "execution_count": null,
   "metadata": {
    "id": "Q2StF6XHHDkb"
   },
   "outputs": [],
   "source": [
    "sb.set_context('talk')\n",
    "pl.rcParams['figure.figsize']=(5,5)\n",
    "sc.pp.neighbors(rna, n_pcs=30,n_neighbors=10,random_state=42)\n",
    "#bbknn.bbknn(rna,batch_key = \"donnor\", neighbors_within_batch =10, n_pcs = 50)\n",
    "genes_to_plot = ['n_genes','log_counts','pct_counts_mt']\n",
    "#sc.tl.tsne(rna, n_jobs=8,use_rep='X', perplexity=30) \n",
    "sc.tl.umap(rna,random_state=42)\n",
    "savefig=samplename+\"_4_QC_doublets_vst_mito.pdf\"\n",
    "sc.pl.umap(rna, color = genes_to_plot,ncols=2,save=savefig)"
   ]
  },
  {
   "cell_type": "code",
   "execution_count": null,
   "metadata": {
    "id": "b4gnQqorrG1D"
   },
   "outputs": [],
   "source": [
    "%%capture\n",
    "sc.tl.leiden(rna,random_state=random_state,resolution=1.5, key_added='leiden_r1.5')\n",
    "sc.tl.leiden(rna,random_state=random_state,resolution=1, key_added='leiden_r1')\n",
    "sc.tl.leiden(rna,random_state=random_state, resolution=0.8, key_added='leiden_r0.8')\n",
    "sc.tl.leiden(rna,random_state=random_state, resolution=0.5, key_added='leiden_r0.5')\n",
    "sc.tl.leiden(rna,random_state=random_state, resolution=0.4, key_added='leiden_r0.4')\n",
    "sc.tl.leiden(rna,random_state=random_state, resolution=0.3, key_added='leiden_r0.3')\n",
    "sc.tl.leiden(rna,random_state=random_state, resolution=0.2, key_added='leiden_r0.2')"
   ]
  },
  {
   "cell_type": "code",
   "execution_count": null,
   "metadata": {
    "id": "iHRKnBQhQBSF"
   },
   "outputs": [],
   "source": [
    "sb.set_context('talk')\n",
    "pl.rcParams['figure.figsize']=(5,5)\n",
    "#sc.tl.leiden(rna,random_state=random_state, resolution = 0.5)\n",
    "savefig=samplename+\"_clustering_lores_vst.pdf\"\n",
    "sc.pl.umap(rna, color=['leiden_r0.2','leiden_r0.3','leiden_r0.4'], legend_loc='on data',legend_fontoutline=3, legend_fontweight='normal',frameon=False,save=savefig)"
   ]
  },
  {
   "cell_type": "code",
   "execution_count": null,
   "metadata": {
    "id": "9vLRKEbbQufC"
   },
   "outputs": [],
   "source": [
    "sb.set_context('talk')\n",
    "pl.rcParams['figure.figsize']=(5,5)\n",
    "#sc.tl.leiden(rna,random_state=random_state, resolution = 0.5)\n",
    "savefig=samplename+\"_clustering_hires_vst.pdf\"\n",
    "sc.pl.umap(rna, color=['leiden_r0.5','leiden_r0.8','leiden_r1.5'], legend_loc='on data',legend_fontoutline=3, legend_fontweight='normal',frameon=False,save=savefig)"
   ]
  },
  {
   "cell_type": "code",
   "execution_count": null,
   "metadata": {
    "id": "Yq8PihHMHfZc"
   },
   "outputs": [],
   "source": [
    "sc.tl.paga(rna,groups='leiden_r0.5')\n",
    "sc.pl.paga(rna, plot=False)  # remove `plot=False` if you want to see the coarse-grained graph\n",
    "sc.tl.umap(rna, init_pos='paga')"
   ]
  },
  {
   "cell_type": "code",
   "execution_count": null,
   "metadata": {
    "id": "NWXT_xLtH3xV"
   },
   "outputs": [],
   "source": [
    "sb.set_context('talk')\n",
    "pl.rcParams['figure.figsize']=(5,5)\n",
    "savefig=samplename+\"_5_clustering_vst_lowres.pdf\"\n",
    "sc.pl.umap(rna, color=['leiden_r0.5','pct_counts_mt','pct_counts_rb','S_score','G2M_score','doublet_score'],ncols=3, legend_loc='on data',legend_fontoutline=3, legend_fontweight='normal',frameon=False,save=savefig)"
   ]
  },
  {
   "cell_type": "code",
   "execution_count": null,
   "metadata": {
    "id": "RfYSkt-9a2cH"
   },
   "outputs": [],
   "source": [
    "cluster='rna_cluster_clean.h5ad'\n",
    "rna.write(cluster)"
   ]
  },
  {
   "cell_type": "code",
   "execution_count": null,
   "metadata": {
    "id": "5PFlD4uga_g5"
   },
   "outputs": [],
   "source": [
    "cluster='rna_cluster_clean.h5ad'\n",
    "rna=sc.read(cluster)"
   ]
  },
  {
   "cell_type": "markdown",
   "metadata": {
    "id": "Zd2rnLFc6fCu"
   },
   "source": [
    "# Marker genes"
   ]
  },
  {
   "cell_type": "code",
   "execution_count": null,
   "metadata": {
    "id": "ECawvGip6fNq"
   },
   "outputs": [],
   "source": [
    "#method : {‘logreg’, ‘t-test’, ‘wilcoxon’, ‘t-test_overestim_var’} | None (default: None)\n",
    "sc.tl.rank_genes_groups(rna, 'leiden_r0.5', method='t-test',n_genes=rna.shape[1])\n",
    "markers=pd.DataFrame(rna.uns['rank_genes_groups']['names']).head(20)\n",
    "markers"
   ]
  },
  {
   "cell_type": "code",
   "execution_count": null,
   "metadata": {
    "id": "Y7xdT0p9IkAH"
   },
   "outputs": [],
   "source": [
    "sb.set_context('paper')\n",
    "pl.rcParams['figure.figsize']=(4,4) #rescale figures\n",
    "savefig=samplename+\"_10_markers_1.pdf\"\n",
    "sc.pl.umap(adata=rna, color=['CD14','FCGR3A','FCER1A','JCHAIN','LILRA4','MS4A1','CD8B','CD4','CCR7','IL32','NKG7','FOXP3','IKZF2'],color_map=mymap,vmin='p20', vmax='p99.9',ncols=4,\n",
    "           legend_loc='on data',legend_fontoutline=3, legend_fontweight='normal',use_raw=False,layer=\"sqrt_norm\", save=savefig)"
   ]
  },
  {
   "cell_type": "code",
   "execution_count": null,
   "metadata": {
    "id": "0vIdbpceNBOC"
   },
   "outputs": [],
   "source": [
    "sb.set_context('talk')\n",
    "pl.rcParams['figure.figsize']=(5,5)\n",
    "savefig=samplename+\"_5_clustering_vst_lowres.pdf\"\n",
    "sc.pl.umap(rna, color=['leiden_r0.5'],ncols=3, legend_loc='on data',legend_fontoutline=3, legend_fontweight='normal',frameon=False,save=savefig)"
   ]
  },
  {
   "cell_type": "markdown",
   "metadata": {
    "id": "fxmjaNoUNBmV"
   },
   "source": [
    "# Annotation"
   ]
  },
  {
   "cell_type": "code",
   "execution_count": null,
   "metadata": {
    "id": "Xej6JsLRNFJ1"
   },
   "outputs": [],
   "source": [
    "rna.obs['annotated'] = rna.obs['leiden_r0.5'].cat.add_categories([ \"CD4+ memory T\", \"CD8+ naïve T\", \"CD4+ naïve T\", \"CD8+ activated T\", \"NK\",  \"MAIT\",'Tregs',\n",
    "                                                                  \"memory B\", \"naïve B\",\"CD14 mono\", \"intermediate mono\", \"CD16 mono\",\"mDC\", \"pDC\",])\n",
    "rna.obs['annotated'][np.in1d(rna.obs['annotated'], ['3'])] = 'CD4+ memory T'\n",
    "rna.obs['annotated'][np.in1d(rna.obs['annotated'], ['0','14','13'])] = 'CD4+ naïve T'\n",
    "rna.obs['annotated'][np.in1d(rna.obs['annotated'], ['1'])] = 'CD8+ naïve T'\n",
    "rna.obs['annotated'][np.in1d(rna.obs['annotated'], ['10'])] = 'Tregs'\n",
    "rna.obs['annotated'][np.in1d(rna.obs['annotated'], ['11'])] = 'MAIT'\n",
    "rna.obs['annotated'][np.in1d(rna.obs['annotated'], ['6',])] = 'CD8+ activated T'\n",
    "#rna.obs['annotated'][np.in1d(rna.obs['annotated'], ['7'])] = 'memory B'\n",
    "rna.obs['annotated'][np.in1d(rna.obs['annotated'], ['5'])] = 'naïve B'\n",
    "rna.obs['annotated'][np.in1d(rna.obs['annotated'], ['7'])] = 'NK'\n",
    "rna.obs['annotated'][np.in1d(rna.obs['annotated'], ['2'])] = 'CD14 mono'\n",
    "rna.obs['annotated'][np.in1d(rna.obs['annotated'], ['4'])] = 'intermediate mono'\n",
    "rna.obs['annotated'][np.in1d(rna.obs['annotated'], ['8'])] = 'CD16 mono'\n",
    "rna.obs['annotated'][np.in1d(rna.obs['annotated'], ['9'])] = \"mDC\"\n",
    "rna.obs['annotated'][np.in1d(rna.obs['annotated'], ['12'])] = \"pDC\"\n",
    "\n",
    "rna.obs['annotated'] = rna.obs['annotated'].cat.remove_unused_categories()"
   ]
  },
  {
   "cell_type": "code",
   "execution_count": null,
   "metadata": {
    "id": "gj5e-VosfCCM"
   },
   "outputs": [],
   "source": [
    "sb.set_context('talk')\n",
    "pl.rcParams['figure.figsize']=(7,7)\n",
    "#sc.tl.leiden(adata,random_state=random_state, resolution = 0.5)\n",
    "savefig=samplename+\"_annotated_hires_annotated.pdf\"\n",
    "sc.pl.umap(rna, color=['annotated'], legend_loc='on data',cmap=mymap,legend_fontoutline=3,vmax='p99.9',legend_fontsize='small', legend_fontweight='normal',frameon=False,save=savefig)"
   ]
  },
  {
   "cell_type": "markdown",
   "metadata": {
    "id": "j-CA52SZ_DM5"
   },
   "source": [
    "#sample composition"
   ]
  },
  {
   "cell_type": "code",
   "execution_count": null,
   "metadata": {
    "id": "jhiiMTJmg2-v"
   },
   "outputs": [],
   "source": [
    "order=rna.obs['annotated'].value_counts()"
   ]
  },
  {
   "cell_type": "code",
   "execution_count": null,
   "metadata": {
    "id": "rZE0-ZdUiOVG"
   },
   "outputs": [],
   "source": [
    "order.index"
   ]
  },
  {
   "cell_type": "code",
   "execution_count": null,
   "metadata": {
    "id": "2gBpLVQC02ZV"
   },
   "outputs": [],
   "source": [
    "rna.obs['annotated'].cat.categories"
   ]
  },
  {
   "cell_type": "raw",
   "metadata": {
    "id": "e8Nl-wfshLsB"
   },
   "source": [
    "rna.obs.annotated= rna.obs.annotated.cat.reorder_categories(['CD4+ memory T', 'CD8+ naïve T', 'CD4+ naïve T', 'CD8+ activated T',\n",
    "       'NK', 'MAIT', 'Tregs', 'naïve B', 'CD14 mono', 'intermediate mono',\n",
    "       'CD16 mono', 'mDC', 'pDC'])"
   ]
  },
  {
   "cell_type": "code",
   "execution_count": null,
   "metadata": {
    "id": "lZtGjBNjz0Ao"
   },
   "outputs": [],
   "source": [
    "print(rna.obs['annotated'].value_counts())"
   ]
  },
  {
   "cell_type": "code",
   "execution_count": null,
   "metadata": {
    "id": "p82BLGM31N3h"
   },
   "outputs": [],
   "source": [
    "order=rna.obs['annotated'].value_counts()"
   ]
  },
  {
   "cell_type": "code",
   "execution_count": null,
   "metadata": {
    "id": "zN-Sj2wu1TEU"
   },
   "outputs": [],
   "source": [
    "order.index"
   ]
  },
  {
   "cell_type": "raw",
   "metadata": {
    "id": "F7zIP8eC_FkZ"
   },
   "source": [
    " fig=plot_proportion_barplot_with_ncells(\n",
    "    rna,\n",
    "    'group',\n",
    "    fill='annotated', \n",
    "    fill_breakdown=None,\n",
    "    yaxis_label=None,\n",
    "    fill_label='annotated',\n",
    "    percent_limit=1., \n",
    "    show_percent=True,\n",
    "    height_scale=1., \n",
    "    width_scale=1.,\n",
    "    legend_position=(-0, 0.5),\n",
    "    normalize_by=None,)\n",
    "fig.savefig('cell_composition_by_FOV.pdf', dpi=300, bbox_inches='tight')"
   ]
  },
  {
   "cell_type": "markdown",
   "metadata": {
    "id": "DmjO_yGclzpF"
   },
   "source": [
    "# Save the results"
   ]
  },
  {
   "cell_type": "code",
   "execution_count": null,
   "metadata": {
    "id": "o1u0mSWmnVHH"
   },
   "outputs": [],
   "source": [
    "pwd"
   ]
  },
  {
   "cell_type": "code",
   "execution_count": null,
   "metadata": {
    "id": "1KjoLwx8n4R8"
   },
   "outputs": [],
   "source": [
    "mdata.mod['rna']=rna"
   ]
  },
  {
   "cell_type": "code",
   "execution_count": null,
   "metadata": {
    "id": "Szhk3NzViv3m"
   },
   "outputs": [],
   "source": [
    "mdata.write(\"pbmc10k.h5mu\")"
   ]
  },
  {
   "cell_type": "code",
   "execution_count": null,
   "metadata": {
    "id": "vMxK5HFH7Vvb"
   },
   "outputs": [],
   "source": [
    "rna"
   ]
  },
  {
   "cell_type": "code",
   "execution_count": null,
   "metadata": {
    "id": "okFsApbvjnw3"
   },
   "outputs": [],
   "source": [
    "mdata"
   ]
  },
  {
   "cell_type": "code",
   "execution_count": null,
   "metadata": {
    "id": "trxpWkS7p9mf"
   },
   "outputs": [],
   "source": [
    "rna = rna[:, rna.var.highly_variable]\n",
    "rna"
   ]
  },
  {
   "cell_type": "code",
   "execution_count": null,
   "metadata": {
    "id": "h629Ezz-p9p2"
   },
   "outputs": [],
   "source": [
    "rna.X=rna.X.todense()"
   ]
  },
  {
   "cell_type": "code",
   "execution_count": null,
   "metadata": {
    "id": "nyxqnyZepbz2"
   },
   "outputs": [],
   "source": []
  },
  {
   "cell_type": "code",
   "execution_count": null,
   "metadata": {
    "id": "ROXYlYJI9mxA"
   },
   "outputs": [],
   "source": [
    "sb.set_context('paper')\n",
    "pl.rcParams['figure.figsize']=(10,10)\n",
    "umap_point_size = np.maximum(120000/rna.n_obs, 2)\n",
    "#sc.tl.leiden(rna,random_state=random_state, resolution = 0.5)\n",
    "#savefig=samplename+\"_6_predicted.pdf\"\n",
    "sc.pl.umap(rna, color=['predicted'], legend_loc='on data',legend_fontoutline=3,vmin='p10', vmax='p99.9',cmap=mymap, legend_fontweight='normal',size=umap_point_size,frameon=False)"
   ]
  },
  {
   "cell_type": "markdown",
   "metadata": {
    "id": "txbH4-XMfibM"
   },
   "source": [
    "# Search for genes"
   ]
  },
  {
   "cell_type": "code",
   "execution_count": null,
   "metadata": {
    "id": "B3Na5f9b3Gxm"
   },
   "outputs": [],
   "source": [
    "regex = re.compile('^(PTPRC).*', re.IGNORECASE)\n",
    "genes = [l for l in rna.var_names for m in [regex.search(l)] if m]"
   ]
  },
  {
   "cell_type": "code",
   "execution_count": null,
   "metadata": {
    "id": "-pqXps_y3RjH"
   },
   "outputs": [],
   "source": [
    "genes"
   ]
  },
  {
   "cell_type": "code",
   "execution_count": null,
   "metadata": {
    "id": "WYU2gVy_iv0l"
   },
   "outputs": [],
   "source": [
    "mdata.mod['rna'] = rna"
   ]
  },
  {
   "cell_type": "code",
   "execution_count": null,
   "metadata": {
    "id": "eRpFv3u-jJes"
   },
   "outputs": [],
   "source": [
    "pwd"
   ]
  },
  {
   "cell_type": "code",
   "execution_count": null,
   "metadata": {
    "id": "4eaO_u96MN_S"
   },
   "outputs": [],
   "source": []
  }
 ],
 "metadata": {
  "colab": {
   "collapsed_sections": [],
   "machine_shape": "hm",
   "name": "Multiomics_part1_RNA.ipynb",
   "provenance": [
    {
     "file_id": "10sH-RKKZroqCW2S9rQsGOCjhYTNA3qon",
     "timestamp": 1654778864370
    }
   ],
   "toc_visible": true
  },
  "kernelspec": {
   "display_name": "Python 3 (ipykernel)",
   "language": "python",
   "name": "python3"
  },
  "language_info": {
   "codemirror_mode": {
    "name": "ipython",
    "version": 3
   },
   "file_extension": ".py",
   "mimetype": "text/x-python",
   "name": "python",
   "nbconvert_exporter": "python",
   "pygments_lexer": "ipython3",
   "version": "3.9.12"
  }
 },
 "nbformat": 4,
 "nbformat_minor": 4
}
