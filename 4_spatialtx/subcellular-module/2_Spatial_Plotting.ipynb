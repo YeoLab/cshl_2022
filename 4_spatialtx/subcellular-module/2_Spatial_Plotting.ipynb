{
 "cells": [
  {
   "cell_type": "markdown",
   "id": "ded53b22-45c5-458e-9ec1-c15bc49f4b0a",
   "metadata": {},
   "source": [
    "# Plotting Molecules and Cells\n",
    "\n",
    "**Author**: Clarence Mah | **Last Updated**: 6/6/2022\n",
    "\n",
    "We will showcase the useful subcellular spatial capabilities of `bento` using the included seqFISH+ dataset.\n",
    "\n",
    "<div class=\"alert alert-info\">\n",
    "\n",
    "Note\n",
    "\n",
    "There are several options available for visualization that are light wrappers building on their `seaborn` package counterparts. Using the `bento.pl.cellplot` function, you may create:\n",
    "\n",
    "- **2D histogram (default)**: `kind = 'hist'`\n",
    "        \n",
    "    - [https://seaborn.pydata.org/generated/seaborn.histplot.html](https://seaborn.pydata.org/generated/seaborn.histplot.html)\n",
    "\n",
    "- **Scatter plot**: `kind = 'scatter'`\n",
    "    \n",
    "    - [https://seaborn.pydata.org/generated/seaborn.scatterplot.html](https://seaborn.pydata.org/generated/seaborn.scatterplot.html)\n",
    "    \n",
    "- **Hexbin plots**: `kind = 'hex'`\n",
    "    \n",
    "    - [https://matplotlib.org/stable/api/_as_gen/matplotlib.pyplot.hexbin.html](https://matplotlib.org/stable/api/_as_gen/matplotlib.pyplot.hexbin.html)\n",
    "\n",
    "</div>"
   ]
  },
  {
   "cell_type": "markdown",
   "id": "5efe2763-a777-4e88-997b-95afa5a6f6f2",
   "metadata": {},
   "source": [
    "## Load Libraries"
   ]
  },
  {
   "cell_type": "code",
   "execution_count": null,
   "id": "c4e068a5-2c4d-4cb5-b92f-3119cd8bbbb6",
   "metadata": {
    "tags": []
   },
   "outputs": [],
   "source": [
    "import os\n",
    "os.environ['NUMBA_CACHE_DIR'] = '/home/jovyan/work/.cache/numba'\n",
    "\n",
    "import bento\n",
    "import numpy as np\n",
    "import bento"
   ]
  },
  {
   "cell_type": "markdown",
   "id": "9a591fb8-4830-48f9-9c7d-1dfa5dc20ab4",
   "metadata": {
    "tags": []
   },
   "source": [
    "## Load Data\n",
    "\n",
    "Let's use the seqFISH+ dataset."
   ]
  },
  {
   "cell_type": "code",
   "execution_count": null,
   "id": "5bb23bdb-0263-4bb8-89fe-a5e991f350a2",
   "metadata": {
    "tags": []
   },
   "outputs": [],
   "source": [
    "adata = bento.datasets.load_dataset(\"seqfish\", data_home='~/work/bento-data')\n",
    "adata"
   ]
  },
  {
   "cell_type": "markdown",
   "id": "ed332797",
   "metadata": {},
   "source": [
    "## Plot Molecule Densities"
   ]
  },
  {
   "cell_type": "markdown",
   "id": "2e7bb387-93e0-4ef6-a45c-f16215f2d824",
   "metadata": {},
   "source": [
    "The default `cellplot` is a 2D histogram limited to the first field of view."
   ]
  },
  {
   "cell_type": "code",
   "execution_count": null,
   "id": "80acf16b-27e8-42c0-8893-6fdcf100190b",
   "metadata": {
    "tags": []
   },
   "outputs": [],
   "source": [
    "bento.pl.cellplot(adata)"
   ]
  },
  {
   "cell_type": "markdown",
   "id": "7bd39662-b9a4-4ee5-933f-bca5a7c2dbde",
   "metadata": {},
   "source": [
    "### Hexbin\n",
    "\n",
    "The RNA density can also be viewed as a `hexbin` plot. The colormap and other underlying parameters can be changed (see `matplotlib.pyplot.hexbin` for underlying parameters)."
   ]
  },
  {
   "cell_type": "code",
   "execution_count": null,
   "id": "0507caa4-d110-4cb5-a0f8-11765eaeb375",
   "metadata": {
    "tags": []
   },
   "outputs": [],
   "source": [
    "bento.pl.cellplot(adata, col_order=[\"0\"], kind=\"hex\", cmap=\"magma\")"
   ]
  },
  {
   "cell_type": "markdown",
   "id": "dfe00f89-f541-446c-8271-a8234cf97939",
   "metadata": {},
   "source": [
    "## Multiple Subplots\n",
    "\n",
    "Multiple fields of view can be plotted at once by specifying `col=\"fov\"`, as separate subplots. Field of view is annotated as a column (by default `\"batch\"`) in `adata.obs`."
   ]
  },
  {
   "cell_type": "code",
   "execution_count": null,
   "id": "2692ff44-d8cb-49a8-9506-5aaab0d326ad",
   "metadata": {
    "tags": []
   },
   "outputs": [],
   "source": [
    "bento.pl.cellplot(adata, col_wrap=4, height=4)"
   ]
  },
  {
   "cell_type": "markdown",
   "id": "5bb42885",
   "metadata": {},
   "source": [
    "## Individual Molecules and Cells"
   ]
  },
  {
   "cell_type": "markdown",
   "id": "4606d56e-c633-4078-aee3-f45caccf440c",
   "metadata": {},
   "source": [
    "Finally, we can plot specific cells and genes by subsetting and slicing the `adata` object. Here we set `kind=\"scatter\"` for a scatterplot (see `sns.scatterplot` for additional parameters) and `hue=\"gene\"` to color each gene uniquely."
   ]
  },
  {
   "cell_type": "code",
   "execution_count": null,
   "id": "84a0e754-f106-492c-92f5-ad452cf076a1",
   "metadata": {
    "tags": []
   },
   "outputs": [],
   "source": [
    "# Randomly choose 10 genes from the top 50 most highly expressed genes\n",
    "some_genes = adata.to_df().mean().sort_values().tail(50).sample(10).index.tolist()"
   ]
  },
  {
   "cell_type": "code",
   "execution_count": null,
   "id": "a83ce3bf-0761-4007-b6e5-3476caf03b24",
   "metadata": {
    "tags": [
     "nbsphinx-thumbnail"
    ]
   },
   "outputs": [],
   "source": [
    "bento.pl.cellplot(\n",
    "    adata[:8, some_genes],\n",
    "    kind=\"scatter\",\n",
    "    hue=\"gene\",\n",
    "    col=\"cell\",\n",
    "    col_wrap=4,\n",
    "    height=3,\n",
    "    s=5\n",
    ")"
   ]
  },
  {
   "cell_type": "code",
   "execution_count": null,
   "id": "2159f343-d04d-4ea6-acb4-975c561a71e9",
   "metadata": {},
   "outputs": [],
   "source": []
  }
 ],
 "metadata": {
  "kernelspec": {
   "display_name": "Python 3 (ipykernel)",
   "language": "python",
   "name": "python3"
  },
  "language_info": {
   "codemirror_mode": {
    "name": "ipython",
    "version": 3
   },
   "file_extension": ".py",
   "mimetype": "text/x-python",
   "name": "python",
   "nbconvert_exporter": "python",
   "pygments_lexer": "ipython3",
   "version": "3.9.12"
  },
  "toc-autonumbering": false
 },
 "nbformat": 4,
 "nbformat_minor": 5
}
