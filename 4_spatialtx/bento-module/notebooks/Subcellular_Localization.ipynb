{
 "cells": [
  {
   "cell_type": "markdown",
   "id": "ded53b22-45c5-458e-9ec1-c15bc49f4b0a",
   "metadata": {},
   "source": [
    "# Subcellular Localization Analysis\n",
    "\n",
    "**Author**: Clarence Mah | **Last Updated**: 6/15/2022\n",
    "\n",
    "Here we will analyze cultured 3T3 mouse embryonic stem cells in which 10k genes are spatially profiled with seqFISH+ in [Eng. et al 2019](https://doi.org/10.1038/s41586-019-1049-y). The dataset here consists of 211 cells, each with cell/nuclear segmentation masks and 2D transcript coordinates. Here we showcase how Bento enables subcellular analysis of spatial transcriptomics data.\n",
    "\n",
    "<img src=\"https://github.com/ckmah/bento-tools/raw/master/docs/source/_static/tutorial_img/bento_workflow.png\" alt=\"Bento Workflow\" width=\"1200\">"
   ]
  },
  {
   "cell_type": "markdown",
   "id": "13e3f4a0-42ef-4654-b23f-57d3aca2440b",
   "metadata": {},
   "source": [
    "## Load Libraries\n",
    "\n",
    "We will be using `bento` for subcellular spatial analysis and visualization, along with `scanpy` for handling single-cell gene expression data."
   ]
  },
  {
   "cell_type": "markdown",
   "id": "b79dfbf5-9d59-4501-89fc-f3612d7b168d",
   "metadata": {},
   "source": [
    "<div class=\"alert alert-info\">\n",
    "\n",
    "Note\n",
    "\n",
    "Similar to other tools in the python single-cell omics ecosystem, `bento` adopts an API organized under a set of modules including:\n",
    "\n",
    "- `bento.io`: reading and writing data stored in the `AnnData` format, customized to hold molecular coordinates and segmentation masks\n",
    "\n",
    "- `bento.pp`: preprocessing data\n",
    "\n",
    "- `bento.tl`: subcellular spatial analyses\n",
    "\n",
    "- `bento.pl`: visualizing subcellular-resolution spatial data, localization pattern statistics, and more\n",
    "\n",
    "</div>"
   ]
  },
  {
   "cell_type": "code",
   "execution_count": null,
   "id": "c4e068a5-2c4d-4cb5-b92f-3119cd8bbbb6",
   "metadata": {
    "tags": []
   },
   "outputs": [],
   "source": [
    "import os\n",
    "os.environ['NUMBA_CACHE_DIR'] = '/home/jovyan/work/.cache/numba'\n",
    "\n",
    "import bento\n",
    "import scanpy as sc"
   ]
  },
  {
   "cell_type": "markdown",
   "id": "9a591fb8-4830-48f9-9c7d-1dfa5dc20ab4",
   "metadata": {
    "tags": []
   },
   "source": [
    "## Load Data\n",
    "\n",
    "Let's grab the `seqFISH+` dataset. This will download the dataset into `data_home`, which by default is set to `~/bento-data`.\n",
    "\n",
    "The loaded object is an `AnnData` object, structured similarly to single-cell omics anlayses, where observations are cells, features are genes, and the main matrix is an expression count matrix. To store subcellular information, `bento` stores:\n",
    "- Molecular coordinates: formatted as `DataFrames` in `uns['points']`\n",
    "- Segmentation masks: formatted as `geopandas.GeoSeries` in `obs` denoted as `{}_shape`. In this case, we have cell and nuclear segmentations stored in `cell_shape` and `nucleus_shape` respectively."
   ]
  },
  {
   "cell_type": "code",
   "execution_count": null,
   "id": "5bb23bdb-0263-4bb8-89fe-a5e991f350a2",
   "metadata": {
    "tags": []
   },
   "outputs": [],
   "source": [
    "adata = bento.datasets.load_dataset(\"seqfish_raw\", data_home='~/work/bento-data')\n",
    "adata"
   ]
  },
  {
   "cell_type": "markdown",
   "id": "41b1b9f6-99cc-4a7c-951c-1b24fe259e1f",
   "metadata": {},
   "source": [
    "What does our data look like? For starters, we can visualize molecules as their spatial density in a single field of view. You may notice not all some cells are missing nuclear masks for one reason or another. We can handle this with [Quality Control](#Quality-Control) metrics in the next section."
   ]
  },
  {
   "cell_type": "code",
   "execution_count": null,
   "id": "80acf16b-27e8-42c0-8893-6fdcf100190b",
   "metadata": {
    "tags": []
   },
   "outputs": [],
   "source": [
    "bento.pl.cellplot(adata)"
   ]
  },
  {
   "cell_type": "markdown",
   "id": "b180c98e-fc97-4a1b-83c8-3263034ea228",
   "metadata": {},
   "source": [
    "## Quality Control\n",
    "\n",
    "Calculate and plot QC metrics including those used for single-cell RNA-seq analysis. We can use cell area and perimeter to identify outlier cells that are extremely large or small. Then we can filter those out from our data. For the purpose of this analysis, these outlier have already been filtered. We will instead identify cells without annotated nuclei and remove those."
   ]
  },
  {
   "cell_type": "code",
   "execution_count": null,
   "id": "0da1bb09-cc89-45eb-abea-c4bab0acc699",
   "metadata": {
    "tags": []
   },
   "outputs": [],
   "source": [
    "sc.pp.calculate_qc_metrics(adata, inplace=True, percent_top=None)\n",
    "bento.tl.cell_area(adata)\n",
    "bento.tl.cell_density(adata)"
   ]
  },
  {
   "cell_type": "code",
   "execution_count": null,
   "id": "c9f22856-727e-445f-8e25-2396673c9fb6",
   "metadata": {
    "tags": []
   },
   "outputs": [],
   "source": [
    "bento.pl.qc_metrics(adata)"
   ]
  },
  {
   "cell_type": "markdown",
   "id": "f76404e6-b5ca-4db8-bcd4-e70fe95dbf72",
   "metadata": {},
   "source": [
    "Filter out cells without a nucleus."
   ]
  },
  {
   "cell_type": "code",
   "execution_count": null,
   "id": "ad9d33a7-bb47-4876-ba9b-f87fd9580c62",
   "metadata": {
    "tags": []
   },
   "outputs": [],
   "source": [
    "adata = adata[adata.obs[\"nucleus_shape\"] != None]\n",
    "bento.pp.set_points(adata)"
   ]
  },
  {
   "cell_type": "markdown",
   "id": "5d4a6f1d-268a-4989-994e-59f2f96e9ac9",
   "metadata": {},
   "source": [
    "We will also filter genes and only include genes for which at least 10 molecules are detected in at least one cell. This helps reduce data sparsity for our downstream analysis, resulting in 3726 genes."
   ]
  },
  {
   "cell_type": "code",
   "execution_count": null,
   "id": "6f84716f-2882-48dc-8a1a-a5171f001e21",
   "metadata": {
    "tags": []
   },
   "outputs": [],
   "source": [
    "valid_genes = adata.var_names[(adata.to_df() >= 10).sum() >= 1]\n",
    "\n",
    "adata = adata[:,valid_genes]\n",
    "bento.pp.set_points(adata)"
   ]
  },
  {
   "cell_type": "code",
   "execution_count": null,
   "id": "37bddf56-1316-4f37-9327-c1dc673ef15c",
   "metadata": {
    "tags": []
   },
   "outputs": [],
   "source": [
    "adata"
   ]
  },
  {
   "cell_type": "code",
   "execution_count": null,
   "id": "a095ba78-6e2e-4b78-b61f-479166486cfe",
   "metadata": {},
   "outputs": [],
   "source": [
    "bento.pp.get_points(adata).shape"
   ]
  },
  {
   "cell_type": "markdown",
   "id": "eb74caf0-e8e1-46c9-8eef-6f8ee54d5822",
   "metadata": {},
   "source": [
    "## Subcellular Localization Patterns\n",
    "\n",
    "Now that we have a sense of our data, we will apply a pattern classifier to predict and annotate subcellular localization patterns for our dataset. A single \"sample\" refers to the set of points corresponding for a given gene in a single cell.\n",
    "\n",
    "<img src=\"https://github.com/ckmah/bento-tools/raw/master/docs/source/_static/tutorial_img/bento_pattern_annotation.png\" alt=\"Bento Pattern Annotation Workflow\" width=\"800\">"
   ]
  },
  {
   "cell_type": "markdown",
   "id": "253130de-3dfd-41dd-8d34-d259c87dfeb1",
   "metadata": {
    "tags": []
   },
   "source": [
    "### Calculate spatial features\n",
    "\n",
    "These features are used by the classifier to predict patterns for each sample. The entire dataset takes ~8 hours to process, therefore we have provided precomputed features to proceed with the analysis.\n",
    "\n",
    "<div class=\"alert alert-info\">\n",
    "\n",
    "Note\n",
    "\n",
    "Why does it take so long? Unlike single-cell analysis which uses expression counts, we are computing spatial relationships considering every molecule! In this dataset there are >4 million molecules and multiple high-resolution polygons for every cell.\n",
    "\n",
    "</div>\n",
    "\n",
    "For the curious, check out the [\"How it Works\"](../howitworks.md#spatial-features) page.\n"
   ]
  },
  {
   "cell_type": "code",
   "execution_count": null,
   "id": "bcada814-0a1a-45f4-8181-d27bd7ac0250",
   "metadata": {
    "tags": []
   },
   "outputs": [],
   "source": [
    "# Load dataset with precomputed features\n",
    "adata = bento.datasets.load_dataset('seqfish', data_home='~/work/bento-data')"
   ]
  },
  {
   "cell_type": "markdown",
   "id": "ea9bb270-e8dd-49ca-bd13-586b69dc4a0a",
   "metadata": {},
   "source": [
    "### Predict Subcellular Patterns\n",
    "\n",
    "Predict the subcellular pattern for every sample (by default, only samples with count >= 5). The five subcellular patterns we can predict are:\n",
    "\n",
    "- **cell edge**: near the cell membrane\n",
    "- **cytoplasmic**: mostly outside the nucleus in the cytoplasm\n",
    "- **nuclear**: most in the nucleus\n",
    "- **nuclear edge**: near the nuclear membrane, either\n",
    "- **none**: none of the above patterns, more or less randomly distributed\n",
    "\n",
    "<img src=\"https://github.com/ckmah/bento-tools/raw/master/docs/source/_static/tutorial_img/subcellular_patterns.png\" alt=\"Subcellular Patterns\" width=\"250\">"
   ]
  },
  {
   "cell_type": "code",
   "execution_count": null,
   "id": "58cfd10c-79ab-4833-a87f-c2cfacd17037",
   "metadata": {
    "tags": []
   },
   "outputs": [],
   "source": [
    "bento.tl.lp(adata)"
   ]
  },
  {
   "cell_type": "markdown",
   "id": "e64867a5-e7e6-4d5e-808c-10a6464bcbf4",
   "metadata": {},
   "source": [
    "We can view the observed pattern frequencies to get a rough idea of how transcripts are localizing."
   ]
  },
  {
   "cell_type": "code",
   "execution_count": null,
   "id": "5ab1ce64-1c47-47ff-a88b-e59ba61153b1",
   "metadata": {
    "tags": []
   },
   "outputs": [],
   "source": [
    "bento.pl.lp_dist(adata, percentage=True)"
   ]
  },
  {
   "cell_type": "markdown",
   "id": "41173cd8-659a-4996-bdc1-01b24c2e0076",
   "metadata": {},
   "source": [
    "We can also visualize the localization of each gene where the point position denotes the balance between subcellular localization pattern frequencies. The color denotes the gene's most frequent pattern. Interestingly, we see a wide range of variability in localization. A large number of genes are pulled towards none while nuclear enriched genes show strong bias and a high fraction of cells."
   ]
  },
  {
   "cell_type": "code",
   "execution_count": null,
   "id": "70913097-2e28-41fd-a76f-958007d8b532",
   "metadata": {
    "tags": [
     "nbsphinx-thumbnail"
    ]
   },
   "outputs": [],
   "source": [
    "bento.pl.lp_genes(adata, alpha=0.4)"
   ]
  },
  {
   "cell_type": "markdown",
   "id": "70443b14-e9af-4aef-b56e-ab9ab5082fa4",
   "metadata": {
    "tags": []
   },
   "source": [
    "## Localization signatures: quantifying cell to cell variability\n",
    "\n",
    "Just as gene expression varies from cell to cell, gene localization is dynamic even with a single cell type. Here we will use a method called tensor decomposition to explore this variation. Tensor decomposition breaks down a tensor, or multi-dimensional matrix, into a set of factors. This is similar to how performing PCA on gene expression produces a set of principal components. In this case, we will apply tensor decomposition to a 3-dimensional tensor; the dimensions correspond to patterns, cells, and genes. \n",
    "\n",
    "<img src=\"https://github.com/ckmah/bento-tools/raw/master/docs/source/_static/tutorial_img/tensor_decomposition.png\" alt=\"Tensor Decomposition\" width=\"800\">\n",
    "\n",
    "Here is the shape of our dataset tensor."
   ]
  },
  {
   "cell_type": "code",
   "execution_count": null,
   "id": "adf52472-f1fb-4ce6-b2bf-723e0a1e46b7",
   "metadata": {},
   "outputs": [],
   "source": [
    "adata.uns['tensor'].shape"
   ]
  },
  {
   "cell_type": "markdown",
   "id": "26cfe6d7-cc0d-4ea3-b43b-5dd0e84657d9",
   "metadata": {},
   "source": [
    "First we will determine the number of factors used to represent our dataset. To do so, we will perform tensor decomposition for a range of values (default [1-5], three times each) and calculate the reconstruction loss with the original tensor at each value. Reconstruction accuracy across range of decomposition ranks (1 is perfect, 0 is noise). The best rank is highlighted in red as determined by the elbow method.\n",
    "\n",
    "<div class=\"alert alert-info\">\n",
    "\n",
    "Note\n",
    "\n",
    "Estimating rank can be difficult; here we are using a heuristic and therefore may not generalize perfectly to a different dataset. Try increasing the `upper_rank` if the error does not flatten, or increasing `runs` if the confidence interval is too wide.\n",
    "\n",
    "</div>"
   ]
  },
  {
   "cell_type": "code",
   "execution_count": null,
   "id": "fc04e1f9-f6a8-411c-ae30-18858df056fe",
   "metadata": {
    "tags": []
   },
   "outputs": [],
   "source": [
    "bento.tl.select_tensor_rank(adata, bento.PATTERN_NAMES)"
   ]
  },
  {
   "cell_type": "markdown",
   "id": "41a73c70-1094-461d-8e9d-328717ec65dd",
   "metadata": {},
   "source": [
    "Perform tensor decomposition at a chosen rank (e.g. best rank above)."
   ]
  },
  {
   "cell_type": "code",
   "execution_count": null,
   "id": "8378adaf-4bfc-47cf-a32d-9530dd79fb19",
   "metadata": {
    "tags": []
   },
   "outputs": [],
   "source": [
    "bento.tl.lp_signatures(adata, 3)"
   ]
  },
  {
   "cell_type": "markdown",
   "id": "428da2c8-f282-4980-a81b-91852a223222",
   "metadata": {},
   "source": [
    "Each factor is described by 3 vectors, the pattern vector (it's mislabeled as layers TODO fix), cell vector, and gene vector. Genes and cells are ordered by clustering (hierarchical clustering) for visual clarity. Higher loading values, which indicate stronger association with the factor, are denoted by darker colors.\n",
    "\n",
    "**Pattern color key:**\n",
    "\n",
    "<img src=\"https://github.com/ckmah/bento-tools/raw/master/docs/source/_static/tutorial_img/subcellular_patterns.png\" alt=\"Subcellular Patterns\" width=\"250\">"
   ]
  },
  {
   "cell_type": "code",
   "execution_count": null,
   "id": "f07cb11d-2a5b-4a61-8158-3c28b3a058b9",
   "metadata": {
    "tags": []
   },
   "outputs": [],
   "source": [
    "bento.pl.lp_signatures(adata)"
   ]
  },
  {
   "cell_type": "markdown",
   "id": "4819ff77-ce1c-409b-9f17-972d649cda01",
   "metadata": {},
   "source": [
    "Let's plot the top 5 cells and top 5 genes associated with each signature. As expected, the signatures generally agree with the pattern loadings above. The first signature’s pattern loading is dominated by “none” and “cytoplasmic”, while signature 2 is a combination of “nuclear” and “nuclear edge” and signature 3 is primarily “cell edge”. "
   ]
  },
  {
   "cell_type": "code",
   "execution_count": null,
   "id": "474fe6be-39b0-456a-a911-84dce1631368",
   "metadata": {
    "tags": []
   },
   "outputs": [],
   "source": [
    "bento.pl.sig_samples(adata)"
   ]
  },
  {
   "cell_type": "markdown",
   "id": "7efa5124-5ec5-4fa0-81f6-db8d5c051cfd",
   "metadata": {},
   "source": [
    "We find these signatures recapitulate patterns found in the original seqFISH+ study, in which three major clusters of spatially co-occurring genes were observed and manually annotated as protrusion, nuclear/perinuclear, and cytoplasmic. This demonstrates the ability of tensor decomposition to extract meaningful biological structure from localization patterns in a data-driven manner."
   ]
  },
  {
   "cell_type": "markdown",
   "id": "e817bfc6-119f-4f17-a2d3-d083ad79b676",
   "metadata": {},
   "source": [
    "<div class=\"alert alert-info\">\n",
    "\n",
    "Note \n",
    "\n",
    "We recommend characterizing the gene and cell loadings of each signature to aid in interpretation. Refer to our paper for more details regarding these localization signatures. If you are analyzing your own dataset, we encourage reaching out the authors directly if you have any questions about your analysis or feature requests.\n",
    "\n",
    "</div>"
   ]
  }
 ],
 "metadata": {
  "kernelspec": {
   "display_name": "Python 3 (ipykernel)",
   "language": "python",
   "name": "python3"
  },
  "language_info": {
   "codemirror_mode": {
    "name": "ipython",
    "version": 3
   },
   "file_extension": ".py",
   "mimetype": "text/x-python",
   "name": "python",
   "nbconvert_exporter": "python",
   "pygments_lexer": "ipython3",
   "version": "3.9.12"
  },
  "toc-autonumbering": false
 },
 "nbformat": 4,
 "nbformat_minor": 5
}
