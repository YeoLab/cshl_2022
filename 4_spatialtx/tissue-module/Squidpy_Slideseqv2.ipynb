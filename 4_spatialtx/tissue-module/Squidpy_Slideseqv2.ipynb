{
 "cells": [
  {
   "cell_type": "code",
   "execution_count": null,
   "metadata": {
    "collapsed": false,
    "jupyter": {
     "outputs_hidden": false
    }
   },
   "outputs": [],
   "source": [
    "%matplotlib inline"
   ]
  },
  {
   "cell_type": "markdown",
   "metadata": {},
   "source": [
    "Analyze Slide-seqV2 data\n",
    "========================\n",
    "\n",
    "This tutorial shows how to apply Squidpy for the analysis of Slide-seqV2\n",
    "data.\n",
    "\n",
    "The data used here was obtained from `Stickels2020-rf`. We provide a\n",
    "pre-processed subset of the data, in `anndata.AnnData` format. We would\n",
    "like to thank \\@tudaga for providing cell-type level annotation. For\n",
    "details on how it was pre-processed, please refer to the original paper.\n",
    "\n",
    "::: {.seealso}\n",
    "See `sphx_glr_auto_tutorials_tutorial_visium_hne.py` and\n",
    "`sphx_glr_auto_tutorials_tutorial_seqfish.py` for additional analysis\n",
    "examples.\n",
    ":::\n",
    "\n",
    "Import packages & data\n",
    "----------------------\n",
    "\n",
    "To run the notebook locally, create a conda environment as *conda env\n",
    "create -f environment.yml* using this\n",
    "[environment.yml](https://github.com/scverse/squidpy_notebooks/blob/main/environment.yml).\n"
   ]
  },
  {
   "cell_type": "code",
   "execution_count": null,
   "metadata": {
    "collapsed": false,
    "jupyter": {
     "outputs_hidden": false
    }
   },
   "outputs": [],
   "source": [
    "import scanpy as sc\n",
    "import squidpy as sq\n",
    "\n",
    "sc.logging.print_header()\n",
    "print(f\"squidpy=={sq.__version__}\")\n",
    "\n",
    "# load the pre-processed dataset\n",
    "adata = sq.datasets.slideseqv2()\n",
    "adata"
   ]
  },
  {
   "cell_type": "markdown",
   "metadata": {},
   "source": [
    "First, let\\'s visualize cluster annotation in spatial context with\n",
    "`scanpy.pl.spatial`.\n"
   ]
  },
  {
   "cell_type": "code",
   "execution_count": null,
   "metadata": {
    "collapsed": false,
    "jupyter": {
     "outputs_hidden": false
    }
   },
   "outputs": [],
   "source": [
    "sc.pl.spatial(adata, color=\"cluster\", spot_size=30)"
   ]
  },
  {
   "cell_type": "markdown",
   "metadata": {},
   "source": [
    "Neighborhood enrichment analysis\n",
    "================================\n",
    "\n",
    "Similar to other spatial data, we can investigate spatial organization\n",
    "of clusters in a quantitative way, by computing a neighborhood\n",
    "enrichment score. You can compute such score with the following\n",
    "function: `squidpy.gr.nhood_enrichment`. In short, it\\'s an enrichment\n",
    "score on spatial proximity of clusters: if spots belonging to two\n",
    "different clusters are often close to each other, then they will have a\n",
    "high score and can be defined as being *enriched*. On the other hand, if\n",
    "they are far apart, the score will be low and they can be defined as\n",
    "*depleted*. This score is based on a permutation-based test, and you can\n",
    "set the number of permutations with the [n\\_perms]{.title-ref} argument\n",
    "(default is 1000).\n",
    "\n",
    "Since the function works on a connectivity matrix, we need to compute\n",
    "that as well. This can be done with `squidpy.gr.spatial_neighbors`.\n",
    "Please see `sphx_glr_auto_examples_graph_compute_spatial_neighbors.py`\n",
    "and `sphx_glr_auto_examples_graph_compute_nhood_enrichment.py` for more\n",
    "details of how these functions works.\n",
    "\n",
    "Finally, we\\'ll directly visualize the results with\n",
    "`squidpy.pl.nhood_enrichment`. We\\'ll add a dendrogram to the heatmap\n",
    "computed with linkage method *ward*.\n"
   ]
  },
  {
   "cell_type": "code",
   "execution_count": null,
   "metadata": {
    "collapsed": false,
    "jupyter": {
     "outputs_hidden": false
    }
   },
   "outputs": [],
   "source": [
    "sq.gr.spatial_neighbors(adata, coord_type=\"generic\")\n",
    "sq.gr.nhood_enrichment(adata, cluster_key=\"cluster\")\n",
    "sq.pl.nhood_enrichment(adata, cluster_key=\"cluster\", method=\"single\", cmap=\"inferno\", vmin=-50, vmax=100)"
   ]
  },
  {
   "cell_type": "markdown",
   "metadata": {},
   "source": [
    "Interestingly, there seems to be an enrichment between the\n",
    "*Endothelial\\_Tip*, the *Ependymal* cells. Another putative enrichment\n",
    "is between the *Oligodendrocytes* and *Polydendrocytes* cells. We can\n",
    "visualize the spatial organization of such clusters. For this, we\\'ll\n",
    "use `scanpy.pl.spatial` again.\n"
   ]
  },
  {
   "cell_type": "code",
   "execution_count": null,
   "metadata": {
    "collapsed": false,
    "jupyter": {
     "outputs_hidden": false
    }
   },
   "outputs": [],
   "source": [
    "sc.pl.spatial(\n",
    "    adata,\n",
    "    color=\"cluster\",\n",
    "    groups=[\"Endothelial_Tip\", \"Ependymal\", \"Oligodendrocytes\", \"Polydendrocytes\"],\n",
    "    spot_size=30,\n",
    ")"
   ]
  },
  {
   "cell_type": "markdown",
   "metadata": {},
   "source": [
    "Ripley\\'s statistics\n",
    "====================\n",
    "\n",
    "In addition to the neighbor enrichment score, we can further investigate\n",
    "spatial organization of cell types in tissue by means of the Ripley\\'s\n",
    "statistics. Ripley\\'s statistics allow analyst to evaluate whether a\n",
    "discrete annotation (e.g. cell-type) appears to be clustered, dispersed\n",
    "or randomly distributed on the area of interest. In Squidpy, we\n",
    "implement three closely related Ripley\\'s statistics, that can be easily\n",
    "computed with `squidpy.gr.ripley`. Here, we\\'ll showcase the Ripley\\'s L\n",
    "statistic, which is a variance-stabilized version of the Ripley\\'s K\n",
    "statistics. We\\'ll visualize the results with `squidpy.pl.ripley`. Check\n",
    "`sphx_glr_auto_examples_graph_compute_ripley.py` for more details.\n"
   ]
  },
  {
   "cell_type": "code",
   "execution_count": null,
   "metadata": {
    "collapsed": false,
    "jupyter": {
     "outputs_hidden": false
    }
   },
   "outputs": [],
   "source": [
    "mode = \"L\"\n",
    "sq.gr.ripley(adata, cluster_key=\"cluster\", mode=mode, max_dist=500)\n",
    "sq.pl.ripley(adata, cluster_key=\"cluster\", mode=mode)"
   ]
  },
  {
   "cell_type": "markdown",
   "metadata": {},
   "source": [
    "The plot highlight how some cell-types have a more clustered pattern,\n",
    "like *Astrocytes* and *CA11\\_CA2\\_CA3\\_Subiculum* cells, whereas other\n",
    "have a more dispersed pattern, like *Mural* cells. To confirm such\n",
    "interpretation, we can selectively visualize again their spatial\n",
    "organization.\n"
   ]
  },
  {
   "cell_type": "code",
   "execution_count": null,
   "metadata": {
    "collapsed": false,
    "jupyter": {
     "outputs_hidden": false
    }
   },
   "outputs": [],
   "source": [
    "sc.pl.spatial(\n",
    "    adata,\n",
    "    color=\"cluster\",\n",
    "    groups=[\"Mural\", \"CA1_CA2_CA3_Subiculum\"],\n",
    "    spot_size=30,\n",
    ")"
   ]
  },
  {
   "cell_type": "markdown",
   "metadata": {},
   "source": [
    "Ligand-receptor interaction analysis\n",
    "====================================\n",
    "\n",
    "The analysis showed above has provided us with quantitative information\n",
    "on cellular organization and communication at the tissue level. We might\n",
    "be interested in getting a list of potential candidates that might be\n",
    "driving such cellular communication. This naturally translates in doing\n",
    "a ligand-receptor interaction analysis. In Squidpy, we provide a fast\n",
    "re-implementation the popular method CellPhoneDB `cellphonedb`\n",
    "([code](https://github.com/Teichlab/cellphonedb) ) and extended its\n",
    "database of annotated ligand-receptor interaction pairs with the popular\n",
    "database *Omnipath* `omnipath`. You can run the analysis for all\n",
    "clusters pairs, and all genes (in seconds, without leaving this\n",
    "notebook), with `squidpy.gr.ligrec`.\n",
    "\n",
    "Let\\'s perform the analysis and visualize the result for three clusters\n",
    "of interest: *Polydendrocytes* and *Oligodendrocytes*. For the\n",
    "visualization, we will filter out annotations with low-expressed genes\n",
    "(with the `means_range` argument) and decreasing the threshold for the\n",
    "adjusted p-value (with the `alpha` argument) Check\n",
    "`sphx_glr_auto_examples_graph_compute_ligrec.py` for more details.\n"
   ]
  },
  {
   "cell_type": "code",
   "execution_count": null,
   "metadata": {
    "collapsed": false,
    "jupyter": {
     "outputs_hidden": false
    }
   },
   "outputs": [],
   "source": [
    "sq.gr.ligrec(\n",
    "    adata,\n",
    "    n_perms=100,\n",
    "    cluster_key=\"cluster\",\n",
    "    clusters=[\"Polydendrocytes\", \"Oligodendrocytes\"],\n",
    ")\n",
    "sq.pl.ligrec(\n",
    "    adata,\n",
    "    cluster_key=\"cluster\",\n",
    "    source_groups=\"Oligodendrocytes\",\n",
    "    target_groups=[\"Polydendrocytes\"],\n",
    "    pvalue_threshold=0.05,\n",
    "    swap_axes=True,\n",
    ")"
   ]
  },
  {
   "cell_type": "markdown",
   "metadata": {},
   "source": [
    "The dotplot visualization provides an interesting set of candidate\n",
    "interactions that could be involved in the tissue organization of the\n",
    "cell types of interest. It should be noted that this method is a pure\n",
    "re-implementation of the original permutation-based test, and therefore\n",
    "retains all its caveats and should be interpreted accordingly.\n"
   ]
  },
  {
   "cell_type": "markdown",
   "metadata": {},
   "source": [
    "Spatially variable genes with spatial autocorrelation statistics\n",
    "================================================================\n",
    "\n",
    "Lastly, with Squidpy we can investigate spatial variability of gene\n",
    "expression. `squidpy.gr.spatial_autocorr` conveniently wraps two spatial\n",
    "autocorrelation statistics: *Moran\\'s I* and *Geary\\'s C. They provide a\n",
    "score on the degree of spatial variability of gene expression. The\n",
    "statistic as well as the p-value are computed for each gene, and FDR\n",
    "correction is performed. For the purpose of this tutorial, let\\'s\n",
    "compute the*Moran\\'s I\\* score. See\n",
    "`sphx_glr_auto_examples_graph_compute_moran.py` for more details.\n"
   ]
  },
  {
   "cell_type": "code",
   "execution_count": null,
   "metadata": {
    "collapsed": false,
    "jupyter": {
     "outputs_hidden": false
    }
   },
   "outputs": [],
   "source": [
    "sq.gr.spatial_autocorr(adata, mode=\"moran\")\n",
    "adata.uns[\"moranI\"].head(10)"
   ]
  },
  {
   "cell_type": "markdown",
   "metadata": {},
   "source": [
    "The results are stored in [adata.uns\\[\\\"moranI\\\"\\]]{.title-ref} and we\n",
    "can visualize selected genes with `scanpy.pl.spatial`.\n"
   ]
  },
  {
   "cell_type": "code",
   "execution_count": null,
   "metadata": {
    "collapsed": false,
    "jupyter": {
     "outputs_hidden": false
    }
   },
   "outputs": [],
   "source": [
    "sc.pl.spatial(\n",
    "    adata,\n",
    "    color=[\"Ttr\", \"Plp1\", \"Mbp\", \"Hpca\", \"Enpp2\"],\n",
    "    spot_size=30,\n",
    ")"
   ]
  }
 ],
 "metadata": {
  "kernelspec": {
   "display_name": "Python 3 (ipykernel)",
   "language": "python",
   "name": "python3"
  },
  "language_info": {
   "codemirror_mode": {
    "name": "ipython",
    "version": 3
   },
   "file_extension": ".py",
   "mimetype": "text/x-python",
   "name": "python",
   "nbconvert_exporter": "python",
   "pygments_lexer": "ipython3",
   "version": "3.9.12"
  }
 },
 "nbformat": 4,
 "nbformat_minor": 4
}
